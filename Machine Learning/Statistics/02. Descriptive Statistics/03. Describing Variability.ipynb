{
 "cells": [
  {
   "cell_type": "markdown",
   "id": "weird-maryland",
   "metadata": {},
   "source": [
    "# Describing Variability\n",
    "\n",
    "Statistics flourishes because we live in a world of variability; no two people are identical, and a few are really far out. When summarizing a set of data, we specify not only measures of central tendency, such as the mean, but also measures of variability, that is, measures of the amount by which scores are dispersed or scattered in a distribution."
   ]
  },
  {
   "cell_type": "markdown",
   "id": "banned-military",
   "metadata": {},
   "source": [
    "<img src=\"../images/variability.png\" alt=\"variability\" width=600 align=\"left\" />"
   ]
  },
  {
   "cell_type": "markdown",
   "id": "stretch-stuart",
   "metadata": {},
   "source": [
    "As described in later chapters, variabilities within groups assume a key role in inferential statistics. Briefly, the relatively smaller variabilities within groups translate into more **statistical stability**. On the other hand, the relatively larger variabilities within groups, translate into less statistical stability"
   ]
  },
  {
   "cell_type": "markdown",
   "id": "future-sculpture",
   "metadata": {},
   "source": [
    "## Range\n",
    "\n",
    "The range has several shortcomings. First, since its value depends on only two\n",
    "scores—the largest and the smallest—it fails to use the information provided by the remaining scores. Furthermore, the value of the range tends to increase with increases in the total number of scores. For instance, the range of adult heights might be 6 or 8 inches for a half a dozen people, whereas it might be 14 or 16 inches for six dozen people. Larger groups are more likely to include very short or very tall people who, of course, inflate the value of the range. Instead of being a relatively stable measure of variability, the size of the range tends to vary with the size of the group."
   ]
  },
  {
   "cell_type": "markdown",
   "id": "decreased-sydney",
   "metadata": {},
   "source": [
    "## Variance"
   ]
  },
  {
   "cell_type": "code",
   "execution_count": null,
   "id": "spare-trail",
   "metadata": {},
   "outputs": [],
   "source": []
  }
 ],
 "metadata": {
  "kernelspec": {
   "display_name": "Python 3",
   "language": "python",
   "name": "python3"
  },
  "language_info": {
   "codemirror_mode": {
    "name": "ipython",
    "version": 3
   },
   "file_extension": ".py",
   "mimetype": "text/x-python",
   "name": "python",
   "nbconvert_exporter": "python",
   "pygments_lexer": "ipython3",
   "version": "3.7.9"
  }
 },
 "nbformat": 4,
 "nbformat_minor": 5
}
