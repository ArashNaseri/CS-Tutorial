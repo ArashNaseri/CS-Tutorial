{
 "cells": [
  {
   "cell_type": "code",
   "execution_count": 9,
   "id": "disturbed-minister",
   "metadata": {},
   "outputs": [],
   "source": [
    "import seaborn as sns\n",
    "import numpy as np"
   ]
  },
  {
   "cell_type": "markdown",
   "id": "voluntary-movement",
   "metadata": {},
   "source": [
    "# Describing Data with Averages\n",
    "\n",
    "Averages consist of numbers (or words) about which the data are, in some sense, centered. They are often referred to as **measures of central tendency**, the several types of average yield numbers or words that attempt to describe, most generally, the middle or typical value for a distribution."
   ]
  },
  {
   "cell_type": "markdown",
   "id": "smaller-rachel",
   "metadata": {},
   "source": [
    "## Mode\n",
    "\n",
    "The mode reflects the value of the most frequently occurring score.\n",
    "\n",
    "Distributions can have more than one mode (or no mode at all). Distributions with two obvious peaks, even though they are not exactly the same height, are referred to as **bimodal**. Distributions with more than two peaks are referred to as **multimodal**."
   ]
  },
  {
   "cell_type": "markdown",
   "id": "private-determination",
   "metadata": {},
   "source": [
    "## Median\n",
    "\n",
    "The median reflects the middle value when observations are ordered from least\n",
    "to most."
   ]
  },
  {
   "cell_type": "markdown",
   "id": "biological-theta",
   "metadata": {},
   "source": [
    "## Mean\n",
    "\n",
    "The mean is found by adding all scores and then dividing by the number of\n",
    "scores."
   ]
  },
  {
   "cell_type": "markdown",
   "id": "divine-mills",
   "metadata": {},
   "source": [
    "### Sample or Population?\n",
    "\n",
    "Statisticians distinguish between two types of means—the population mean and the sample mean—depending on whether the data are viewed as a population (a complete set of scores) or as a sample (a subset of scores).\n",
    "\n",
    "**Population mean** usually is unknown but fixed as a constant, while the **sample mean** is known but varies from sample to sample."
   ]
  },
  {
   "cell_type": "markdown",
   "id": "jewish-cattle",
   "metadata": {},
   "source": [
    "### Formula for Sample Mean\n",
    "\n",
    "It’s usually more efficient to substitute symbols for words in statistical formulas, including the word formula given above for the mean. When symbols are used, $\\bar{X}$ designates the sample mean, and the formula becomes\n",
    "\n",
    "Sample Mean: $\\bar{X} = \\frac{\\sum X}{n}$"
   ]
  },
  {
   "cell_type": "markdown",
   "id": "vertical-armor",
   "metadata": {},
   "source": [
    "### Formula for Population Mean\n",
    "\n",
    "In statistics, **Greek symbols usually describe population characteristics**, such as the population mean, while English letters usually describe sample characteristics, such as the sample mean. The population mean is represented by $\\mu$ (pronounced “mu”), the lowercase Greek letter $m$ for mean,\n",
    "\n",
    "Population Mean: $\\mu = \\frac{\\sum X}{N}$\n",
    "\n",
    "where the uppercase letter N refers to the population size. Otherwise, the calculations are the same as those for the sample mean."
   ]
  },
  {
   "cell_type": "markdown",
   "id": "chief-reputation",
   "metadata": {},
   "source": [
    "**Note:** The mean reflects the values of all scores, not just those that are middle ranked (as with the median), or those that occur most frequently (as with the mode)."
   ]
  },
  {
   "cell_type": "markdown",
   "id": "gentle-piece",
   "metadata": {},
   "source": [
    "## Which Average?\n",
    "### If Distribution Is Not Skewed\n",
    "When a distribution of scores is not too skewed, the values of the mode, median, and mean are similar, and any of them can be used to describe the central tendency of the distribution. This"
   ]
  },
  {
   "cell_type": "markdown",
   "id": "satellite-weekly",
   "metadata": {},
   "source": [
    "### If Distribution Is Skewed\n",
    "\n",
    "When extreme scores cause a distribution to be skewed, as for the infant death rates for selected countries, the values of the three averages can differ appreciably."
   ]
  },
  {
   "cell_type": "code",
   "execution_count": 2,
   "id": "thick-singles",
   "metadata": {},
   "outputs": [],
   "source": [
    "death_rates = {\n",
    "    \"Sierra Leone\" : 182,\n",
    "    \"Pakistan\" : 86,\n",
    "    \"Ghana\" : 72,\n",
    "    \"India\" : 56,\n",
    "    \"South Africa\" : 45,\n",
    "    \"Cambodia\" : 40,\n",
    "    \"Mexico\" : 16,\n",
    "    \"China\" : 14,\n",
    "    \"Brazil\" : 14,\n",
    "    \"United States\" : 7,\n",
    "    \"Cuba\" : 6,\n",
    "    \"United Kingdom\" : 6,\n",
    "    \"Netherlands\" : 4,\n",
    "    \"Israel\" : 4,\n",
    "    \"France\" : 4,\n",
    "    \"Denmark\" : 4,\n",
    "    \"Germany\" : 4,\n",
    "    \"Japan\" : 3,\n",
    "    \"Sweden\" : 3,\n",
    "}"
   ]
  },
  {
   "cell_type": "code",
   "execution_count": 5,
   "id": "photographic-panel",
   "metadata": {},
   "outputs": [
    {
     "data": {
      "text/plain": [
       "<AxesSubplot:ylabel='Density'>"
      ]
     },
     "execution_count": 5,
     "metadata": {},
     "output_type": "execute_result"
    },
    {
     "data": {
      "image/png": "[encoded data removed]",
      "text/plain": [
       "<Figure size 432x288 with 1 Axes>"
      ]
     },
     "metadata": {
      "needs_background": "light"
     },
     "output_type": "display_data"
    }
   ],
   "source": [
    "sns.kdeplot(death_rates.values())"
   ]
  },
  {
   "cell_type": "markdown",
   "id": "golden-showcase",
   "metadata": {},
   "source": [
    "Unlike the mode and median, the **mean is very sensitive to extreme scores, or outliers**."
   ]
  },
  {
   "cell_type": "markdown",
   "id": "acknowledged-cinema",
   "metadata": {},
   "source": [
    "### Interpreting Differences between Mean and Median\n",
    "\n",
    "Ideally, when a distribution is skewed, report both the mean and the median. Appreciable differences between the values of the mean and median signal the presence of a skewed distribution. If the mean exceeds the median, as it does for the infant death rates, the underlying distribution is positively skewed because of one or more scores with relatively large values, such as the very high infant death rates for a number of countries, especially Sierra Leone. On the other hand, if the median exceeds the mean, the underlying distribution is negatively skewed because of one or more scores with relatively small values."
   ]
  },
  {
   "cell_type": "markdown",
   "id": "recent-blank",
   "metadata": {},
   "source": [
    "<img src=\"../images/averages.png\" alt=\"averages\" width=400 align=\"left\" />"
   ]
  },
  {
   "cell_type": "markdown",
   "id": "lightweight-beginning",
   "metadata": {},
   "source": [
    "## Averages for Qualitative and Ranked Data"
   ]
  },
  {
   "cell_type": "markdown",
   "id": "rocky-sugar",
   "metadata": {},
   "source": [
    "### Mode Always Appropriate for Qualitative Data\n",
    "\n",
    "So far, we have been talking about quantitative data for which, in principle, all three averages can be used. But when the data are qualitative, your choice among averages is restricted. The mode always can be used with qualitative data."
   ]
  },
  {
   "cell_type": "markdown",
   "id": "reserved-convert",
   "metadata": {},
   "source": [
    "### Median Sometimes Appropriate\n",
    "\n",
    "The median can be used whenever it is possible to order qualitative data from least to most because the level of measurement is ordinal. It’s easiest to determine the median class for ordered qualitative data by using relative frequencie."
   ]
  },
  {
   "cell_type": "code",
   "execution_count": 7,
   "id": "psychological-bangladesh",
   "metadata": {},
   "outputs": [],
   "source": [
    "rank = {\n",
    "    \"General\": 0.4,\n",
    "    \"Colonel\": 16.7,\n",
    "    \"Major\": 20.4,\n",
    "    \"Captain\": 37.0,\n",
    "    \"Lieutenant\": 25.5,\n",
    "}"
   ]
  },
  {
   "cell_type": "code",
   "execution_count": 14,
   "id": "public-merchant",
   "metadata": {},
   "outputs": [
    {
     "data": {
      "text/plain": [
       "array([  0.4,  17.1,  37.5,  74.5, 100. ])"
      ]
     },
     "execution_count": 14,
     "metadata": {},
     "output_type": "execute_result"
    }
   ],
   "source": [
    "x = list(rank.values())\n",
    "np.cumsum(x)"
   ]
  },
  {
   "cell_type": "code",
   "execution_count": 15,
   "id": "spatial-activation",
   "metadata": {},
   "outputs": [
    {
     "data": {
      "text/plain": [
       "array([ 25.5,  62.5,  82.9,  99.6, 100. ])"
      ]
     },
     "execution_count": 15,
     "metadata": {},
     "output_type": "execute_result"
    }
   ],
   "source": [
    "x.reverse()\n",
    "np.cumsum(x)"
   ]
  },
  {
   "cell_type": "markdown",
   "id": "chinese-movie",
   "metadata": {},
   "source": [
    "One word of caution when you are finding the median for ordered qualitative data. Avoid a common error that identifies the median simply with the middle or two middlemost classes, such as “between captain and major,” without regard to the cumulative relative frequencies and the location of the 50th percentile. In other words, **do not treat the various classes as though they have the same frequencies when they actually have different frequencies**."
   ]
  },
  {
   "cell_type": "markdown",
   "id": "minor-pledge",
   "metadata": {},
   "source": [
    "### Inappropriate Averages\n",
    "\n",
    "It would not be appropriate to report a median for unordered qualitative data with nominal measurement, such as the ancestries of Americans. Nor would it be appropriate to report a mean for any qualitative data, such as the ranks of officers in the U.S. Army. After all, words cannot be added and then divided, as required by the formula for the mean."
   ]
  }
 ],
 "metadata": {
  "kernelspec": {
   "display_name": "Python 3",
   "language": "python",
   "name": "python3"
  },
  "language_info": {
   "codemirror_mode": {
    "name": "ipython",
    "version": 3
   },
   "file_extension": ".py",
   "mimetype": "text/x-python",
   "name": "python",
   "nbconvert_exporter": "python",
   "pygments_lexer": "ipython3",
   "version": "3.7.9"
  }
 },
 "nbformat": 4,
 "nbformat_minor": 5
}
