{
 "cells": [
  {
   "cell_type": "code",
   "execution_count": 1,
   "id": "42c29ecb-c6a4-4b8c-8d5a-7ef2ec7565eb",
   "metadata": {},
   "outputs": [],
   "source": [
    "x = 2"
   ]
  },
  {
   "cell_type": "markdown",
   "id": "6837b358-43df-4500-b68b-bd891aebe615",
   "metadata": {},
   "source": [
    "# title"
   ]
  },
  {
   "cell_type": "code",
   "execution_count": null,
   "id": "3a4a8d69-349c-45ef-819f-c06d2cdf5e2d",
   "metadata": {},
   "outputs": [],
   "source": []
  }
 ],
 "metadata": {
  "kernelspec": {
   "display_name": "Python 3",
   "language": "python",
   "name": "python3"
  },
  "language_info": {
   "codemirror_mode": {
    "name": "ipython",
    "version": 3
   },
   "file_extension": ".py",
   "mimetype": "text/x-python",
   "name": "python",
   "nbconvert_exporter": "python",
   "pygments_lexer": "ipython3",
   "version": "3.7.9"
  }
 },
 "nbformat": 4,
 "nbformat_minor": 5
}
