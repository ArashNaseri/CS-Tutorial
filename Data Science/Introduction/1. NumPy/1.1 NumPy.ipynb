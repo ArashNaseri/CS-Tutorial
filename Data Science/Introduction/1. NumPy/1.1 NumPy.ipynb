{
 "cells": [
  {
   "cell_type": "markdown",
   "id": "premium-friday",
   "metadata": {},
   "source": [
    "# NumPy"
   ]
  },
  {
   "cell_type": "markdown",
   "id": "occupational-phoenix",
   "metadata": {},
   "source": [
    "NumPy is a Python library that provides a simple yet powerful data structure: the **n-dimensional array**. This is the foundation on which almost all the power of Python’s data science toolkit is built, and learning NumPy is the first step on any Python data scientist’s journey. This tutorial will provide you with the knowledge you need to use NumPy and the higher-level libraries that rely on it."
   ]
  },
  {
   "cell_type": "markdown",
   "id": "angry-shanghai",
   "metadata": {},
   "source": [
    "**In this tutorial you’ll learn:**\n",
    "\n",
    "- What **core concepts** in data science are made possible by NumPy\n",
    "- How to create **NumPy arrays** using various methods\n",
    "- How to manipulate NumPy arrays to perform **useful calculations**\n",
    "- How to apply these new skills to **real-world problems**"
   ]
  },
  {
   "cell_type": "markdown",
   "id": "regulation-share",
   "metadata": {},
   "source": [
    "To get the most out of this NumPy tutorial, you should be familiar with writing Python code. Working through the Introduction to Python learning path is a great way to make sure you’ve got the basic skills covered. If you’re familiar with matrix mathematics, then that will certainly be helpful as well. You don’t need to know anything about data science, however. You’ll learn that here."
   ]
  },
  {
   "cell_type": "markdown",
   "id": "published-leader",
   "metadata": {},
   "source": [
    "## Choosing NumPy: The Benefits"
   ]
  },
  {
   "cell_type": "markdown",
   "id": "organic-cooling",
   "metadata": {},
   "source": [
    "Since you already know Python, you may be asking yourself if you really have to learn a whole new paradigm to do data science. Python’s for loops are awesome! Reading and writing CSV files can be done with traditional code. However, there are some convincing arguments for learning a new paradigm."
   ]
  },
  {
   "cell_type": "markdown",
   "id": "moral-closure",
   "metadata": {},
   "source": [
    "Here are the top four benefits that NumPy can bring to your code:\n",
    "\n",
    "1. **More speed:** NumPy uses algorithms written in C that complete in nanoseconds rather than seconds.\n",
    "2. **Fewer loops:** NumPy helps you to reduce loops and keep from getting tangled up in iteration indices.\n",
    "3. **Clearer code:** Without loops, your code will look more like the equations you’re trying to calculate.\n",
    "4. **Better quality:** There are thousands of contributors working to keep NumPy fast, friendly, and bug free."
   ]
  },
  {
   "cell_type": "markdown",
   "id": "imperial-kazakhstan",
   "metadata": {},
   "source": [
    "Because of these benefits, NumPy is the de facto standard for multidimensional arrays in Python data science, and many of the most popular libraries are built on top of it. Learning NumPy is a great way to set down a solid foundation as you expand your knowledge into more specific areas of data science."
   ]
  },
  {
   "cell_type": "markdown",
   "id": "sealed-thailand",
   "metadata": {},
   "source": [
    "## Installing NumPy"
   ]
  },
  {
   "cell_type": "markdown",
   "id": "outside-patch",
   "metadata": {},
   "source": [
    "It’s time to get everything set up so you can start learning how to work with NumPy. There are a few different ways to do this, and you can’t go wrong by following the instructions on the NumPy website. But there are some extra details to be aware of that are outlined below."
   ]
  },
  {
   "cell_type": "markdown",
   "id": "portable-excitement",
   "metadata": {},
   "source": [
    "You’ll also be installing Matplotlib. You’ll use it in one of the later examples to explore how other libraries make use of NumPy."
   ]
  },
  {
   "cell_type": "markdown",
   "id": "posted-forest",
   "metadata": {},
   "source": [
    "### Installing NumPy With Anaconda"
   ]
  },
  {
   "cell_type": "markdown",
   "id": "subject-malaysia",
   "metadata": {},
   "source": [
    "The [Anaconda](https://www.anaconda.com/products/individual) distribution is a suite of common Python data science tools bundled around a package manager that helps manage your [virtual environments](https://realpython.com/python-virtual-environments-a-primer/) and project dependencies. It’s built around [conda](https://docs.conda.io/en/latest/), which is the actual package manager. This is the method recommended by the NumPy project, especially if you’re stepping into data science in Python without having already [set up a complex development environment](https://realpython.com/python-windows-machine-learning-setup/)."
   ]
  },
  {
   "cell_type": "markdown",
   "id": "jewish-report",
   "metadata": {},
   "source": [
    "If you’ve already got a workflow you like that uses [`pip`](https://realpython.com/what-is-pip/), [Pipenv](https://realpython.com/pipenv-guide/), [Poetry](https://realpython.com/effective-python-environment/#poetry), or some other toolset, then it might be better not to add conda to the mix. The conda package repository is separate from [PyPI](https://pypi.org/), and `conda` itself sets up a separate little island of packages on your machine, so managing paths and remembering which package lives where can be a [nightmare](https://xkcd.com/1987/)."
   ]
  },
  {
   "cell_type": "markdown",
   "id": "second-popularity",
   "metadata": {},
   "source": [
    "Once you’ve got conda installed, you can run the install command for the libraries you’ll need:\n",
    "\n",
    "```bash\n",
    "$ conda install numpy matplotlib\n",
    "```\n",
    "\n",
    "This will install what you need for this NumPy tutorial, and you’ll be all set to go."
   ]
  },
  {
   "cell_type": "markdown",
   "id": "convenient-fellowship",
   "metadata": {},
   "source": [
    "### Installing NumPy With `pip`"
   ]
  },
  {
   "cell_type": "markdown",
   "id": "covered-aside",
   "metadata": {},
   "source": [
    "Although the NumPy project recommends using `conda` if you’re starting fresh, there’s nothing wrong with managing your environment yourself and just using good old `pip`, Pipenv, Poetry, or whatever other alternative to `pip` is your favorite."
   ]
  },
  {
   "cell_type": "markdown",
   "id": "wrong-sudan",
   "metadata": {},
   "source": [
    "Here are the commands to get set up with `pip`:\n",
    "\n",
    "```bash\n",
    "$ mkdir numpy-tutorial\n",
    "$ cd numpy-tutorial\n",
    "$ python3 -m venv .numpy-tutorial-venv\n",
    "$ source .numpy-tutorial-venv/bin/activate\n",
    "\n",
    "(.numpy-tutorial-venv)\n",
    "$ pip install numpy matplotlib\n",
    "```"
   ]
  },
  {
   "cell_type": "markdown",
   "id": "original-fitting",
   "metadata": {},
   "source": [
    "After this, make sure your virtual environment is activated, and all your code should run as expected."
   ]
  },
  {
   "cell_type": "markdown",
   "id": "caring-daisy",
   "metadata": {},
   "source": [
    "## Using IPython, Notebooks, or JupyterLab"
   ]
  },
  {
   "cell_type": "markdown",
   "id": "subtle-department",
   "metadata": {},
   "source": [
    "### IPython"
   ]
  },
  {
   "cell_type": "markdown",
   "id": "acceptable-drunk",
   "metadata": {},
   "source": [
    "While the above sections should get you everything you need to get started, there are a couple more tools that you can optionally install to make working in data science more developer-friendly."
   ]
  },
  {
   "cell_type": "markdown",
   "id": "piano-channel",
   "metadata": {},
   "source": [
    "[IPython](https://ipython.org/install.html) is an upgraded Python [read-eval-print loop (REPL)](https://en.wikipedia.org/wiki/Read%E2%80%93eval%E2%80%93print_loop) that makes editing code in a live interpreter session more straightforward and prettier. Here’s what an IPython REPL session looks like:\n",
    "\n",
    "```bash\n",
    "In [1]: import numpy as np\n",
    "\n",
    "In [2]: digits = np.array([\n",
    "   ...:     [1, 2, 3],\n",
    "   ...:     [4, 5, 6],\n",
    "   ...:     [6, 7, 9],\n",
    "   ...: ])\n",
    "\n",
    "In [3]: digits\n",
    "Out[3]:\n",
    "array([[1, 2, 3],\n",
    "       [4, 5, 6],\n",
    "       [6, 7, 9]])\n",
    "```"
   ]
  },
  {
   "cell_type": "markdown",
   "id": "wound-cancellation",
   "metadata": {},
   "source": [
    "It has several differences from a basic Python REPL, including its line numbers, use of colors, and quality of array visualizations. There are also a lot of user-experience bonuses that make it more pleasant to enter, re-enter, and edit code."
   ]
  },
  {
   "cell_type": "markdown",
   "id": "prerequisite-third",
   "metadata": {},
   "source": [
    "You can install IPython as a standalone:\n",
    "\n",
    "```bash\n",
    "$ pip install ipython\n",
    "```"
   ]
  },
  {
   "cell_type": "markdown",
   "id": "entertaining-tribune",
   "metadata": {},
   "source": [
    "Alternatively, if you wait and install any of the subsequent tools, then they’ll include a copy of IPython."
   ]
  },
  {
   "cell_type": "markdown",
   "id": "extreme-moderator",
   "metadata": {},
   "source": [
    "### Notebook"
   ]
  },
  {
   "cell_type": "markdown",
   "id": "original-montana",
   "metadata": {},
   "source": [
    "A slightly more featureful alternative to a REPL is a **notebook**. Notebooks are a slightly different style of writing Python than standard scripts, though. Instead of a traditional Python file, they give you a series of mini-scripts called **cells** that you can run and re-run in whatever order you want, all in the same Python memory session."
   ]
  },
  {
   "cell_type": "markdown",
   "id": "matched-intellectual",
   "metadata": {},
   "source": [
    "One neat thing about notebooks is that you can include graphs and render Markdown paragraphs between cells, so they’re really nice for writing up data analyses right inside the code!"
   ]
  },
  {
   "cell_type": "markdown",
   "id": "adaptive-reunion",
   "metadata": {},
   "source": [
    "Here’s what it looks like:"
   ]
  },
  {
   "cell_type": "markdown",
   "id": "dedicated-beginning",
   "metadata": {},
   "source": [
    "<img src=\"../images/notebook.png\" alt=\"notebook\" width=400 align=\"left\" />"
   ]
  },
  {
   "cell_type": "markdown",
   "id": "abandoned-tennessee",
   "metadata": {},
   "source": [
    "The most popular notebook offering is probably the [Jupyter Notebook](https://realpython.com/jupyter-notebook-introduction/), but [nteract](https://nteract.io/)\n",
    "is another option that wraps the Jupyter functionality and attempts to make it a bit more approachable and powerful."
   ]
  },
  {
   "cell_type": "markdown",
   "id": "junior-fighter",
   "metadata": {},
   "source": [
    "However, if you’re looking at Jupyter Notebook and thinking that it needs more IDE-like qualities, then [JupyterLab](https://jupyterlab.readthedocs.io/en/stable/) is another option. You can customize text editors, notebooks, terminals, and custom components, all in a browser-based interface. It will likely be more comfortable for people coming from [MatLab](https://realpython.com/matlab-vs-python/). It’s the youngest of the offerings, but its 1.0 release was back in 2019, so it should be stable and full featured."
   ]
  },
  {
   "cell_type": "markdown",
   "id": "demonstrated-blade",
   "metadata": {},
   "source": [
    "This is what the interface looks like:"
   ]
  },
  {
   "cell_type": "markdown",
   "id": "opponent-damages",
   "metadata": {},
   "source": [
    "<img src=\"../images/jupyterlab.png\" alt=\"jupyterlab\" width=400 align=\"left\" />"
   ]
  },
  {
   "cell_type": "markdown",
   "id": "brief-wheel",
   "metadata": {},
   "source": [
    "Whichever option you choose, once you have it installed, you’ll be ready to run your first lines of NumPy code. It’s time for the first example."
   ]
  },
  {
   "cell_type": "markdown",
   "id": "dressed-biodiversity",
   "metadata": {},
   "source": [
    "## Array Objects"
   ]
  },
  {
   "cell_type": "markdown",
   "id": "modified-sword",
   "metadata": {},
   "source": [
    "NumPy provides an N-dimensional array type, the `ndarray`, which describes a collection of “items” of the same type. The items can be indexed using for example N integers."
   ]
  },
  {
   "cell_type": "markdown",
   "id": "bacterial-economy",
   "metadata": {},
   "source": [
    "All ndarrays are homogeneous: every item takes up the same size block of memory, and all blocks are interpreted in exactly the same way. How each item in the array is to be interpreted is specified by a separate data-type object, one of which is associated with every array. In addition to basic types (integers, floats, etc.), the data type objects can also represent data structures."
   ]
  },
  {
   "cell_type": "markdown",
   "id": "surface-technical",
   "metadata": {},
   "source": [
    "An item extracted from an array, e.g., by indexing, is represented by a Python object whose type is one of the array scalar types built in NumPy. The array scalars allow easy manipulation of also more complicated arrangements of data."
   ]
  },
  {
   "cell_type": "markdown",
   "id": "charged-dragon",
   "metadata": {},
   "source": [
    "Below is the conceptual diagram showing the relationship between the three fundamental objects used to describe the data in an array:\n",
    "- 1) the ndarray itself.\n",
    "- 2) the data-type object that describes the layout of a single fixed-size element of the array.\n",
    "- 3) the array-scalar Python object that is returned when a single element of the array is accessed."
   ]
  },
  {
   "cell_type": "markdown",
   "id": "devoted-singer",
   "metadata": {},
   "source": [
    "<img src=\"../images/numpy-array.png\" alt=\"numpy-array\" width=500 align=\"left\" />"
   ]
  },
  {
   "cell_type": "markdown",
   "id": "refined-director",
   "metadata": {},
   "source": [
    "# The N-dimensional Array (`ndarray`)\n",
    "\n",
    "An `ndarray` is a (usually fixed-size) multidimensional container of items of the same type and size. The number of dimensions and items in an array is defined by its `shape`, which is a `tuple` of N non-negative integers that specify the sizes of each dimension. The type of items in the array is specified by a separate data-type object (`dtype`), one of which is associated with each ndarray."
   ]
  },
  {
   "cell_type": "markdown",
   "id": "welcome-sheet",
   "metadata": {},
   "source": [
    "As with other container objects in Python, the contents of an ndarray can be accessed and modified by indexing or slicing the array (using, for example, N integers), and via the methods and attributes of the ndarray."
   ]
  },
  {
   "cell_type": "markdown",
   "id": "durable-domestic",
   "metadata": {},
   "source": [
    "Different ndarrays can share the same data, so that changes made in one ndarray may be visible in another. That is, an ndarray can be a “view” to another ndarray, and the data it is referring to is taken care of by the “base” ndarray. "
   ]
  },
  {
   "cell_type": "markdown",
   "id": "abroad-worker",
   "metadata": {},
   "source": [
    "A 2-dimensional array of size 2 x 3, composed of 4-byte integer elements:"
   ]
  },
  {
   "cell_type": "code",
   "execution_count": 2,
   "id": "excess-navigation",
   "metadata": {},
   "outputs": [],
   "source": [
    "import numpy as np"
   ]
  },
  {
   "cell_type": "code",
   "execution_count": 4,
   "id": "female-patch",
   "metadata": {},
   "outputs": [],
   "source": [
    "x = np.array([[1, 2, 3], [4, 5, 6]], np.int32)"
   ]
  },
  {
   "cell_type": "code",
   "execution_count": 5,
   "id": "swedish-dietary",
   "metadata": {},
   "outputs": [
    {
     "data": {
      "text/plain": [
       "numpy.ndarray"
      ]
     },
     "execution_count": 5,
     "metadata": {},
     "output_type": "execute_result"
    }
   ],
   "source": [
    "type(x)"
   ]
  },
  {
   "cell_type": "code",
   "execution_count": 6,
   "id": "recognized-captain",
   "metadata": {},
   "outputs": [
    {
     "data": {
      "text/plain": [
       "(2, 3)"
      ]
     },
     "execution_count": 6,
     "metadata": {},
     "output_type": "execute_result"
    }
   ],
   "source": [
    "x.shape"
   ]
  },
  {
   "cell_type": "code",
   "execution_count": 7,
   "id": "distinct-comment",
   "metadata": {},
   "outputs": [
    {
     "data": {
      "text/plain": [
       "dtype('int32')"
      ]
     },
     "execution_count": 7,
     "metadata": {},
     "output_type": "execute_result"
    }
   ],
   "source": [
    "x.dtype"
   ]
  },
  {
   "cell_type": "markdown",
   "id": "nearby-dating",
   "metadata": {},
   "source": [
    "## Internal memory layout of an ndarray\n",
    "\n",
    "An instance of class `ndarray` consists of a contiguous one-dimensional segment of computer memory (owned by the array, or by some other object), combined with an indexing scheme that maps `N` integers into the location of an item in the block. The ranges in which the indices can vary is specified by the **shape** of the array. How many bytes each item takes and how the bytes are interpreted is defined by the data-type object associated with the array."
   ]
  },
  {
   "cell_type": "markdown",
   "id": "norwegian-robertson",
   "metadata": {},
   "source": [
    "A segment of memory is inherently 1-dimensional, and there are many different schemes for arranging the items of an N-dimensional array in a 1-dimensional block. NumPy is flexible, and ndarray objects can accommodate any strided indexing scheme. In a strided scheme, the N-dimensional index (`n_0, n_1, ..., n_{N-1}`) corresponds to the offset (in bytes):\n",
    "\n",
    "$n_{\\text{offset}} = \\sum_{k=0}^{N-1} s_k n_k$\n",
    "\n",
    "from the beginning of the memory block associated with the array. Here, $s_k$ are integers which specify the strides of the array."
   ]
  },
  {
   "cell_type": "code",
   "execution_count": 8,
   "id": "oriental-brooklyn",
   "metadata": {},
   "outputs": [],
   "source": [
    "rand_array = np.random.rand(3, 4)"
   ]
  },
  {
   "cell_type": "code",
   "execution_count": 17,
   "id": "strategic-scholar",
   "metadata": {},
   "outputs": [
    {
     "data": {
      "text/plain": [
       "(8, 32.0)"
      ]
     },
     "execution_count": 17,
     "metadata": {},
     "output_type": "execute_result"
    }
   ],
   "source": [
    "rand_array.itemsize, rand_array.nbytes / rand_array.shape[0]"
   ]
  },
  {
   "cell_type": "code",
   "execution_count": 15,
   "id": "higher-impossible",
   "metadata": {},
   "outputs": [
    {
     "data": {
      "text/plain": [
       "(32, 8)"
      ]
     },
     "execution_count": 15,
     "metadata": {},
     "output_type": "execute_result"
    }
   ],
   "source": [
    "rand_array.strides"
   ]
  },
  {
   "cell_type": "code",
   "execution_count": 28,
   "id": "revolutionary-radio",
   "metadata": {},
   "outputs": [
    {
     "data": {
      "text/plain": [
       "array([[0.35552867, 0.02986883, 0.47941558, 0.32002641],\n",
       "       [0.64705321, 0.79294098, 0.3322295 , 0.99812949],\n",
       "       [0.34478232, 0.3301138 , 0.24824043, 0.60341165]])"
      ]
     },
     "execution_count": 28,
     "metadata": {},
     "output_type": "execute_result"
    }
   ],
   "source": [
    "rand_array"
   ]
  },
  {
   "cell_type": "code",
   "execution_count": 27,
   "id": "appointed-classic",
   "metadata": {},
   "outputs": [
    {
     "data": {
      "text/plain": [
       "[0.35552866531154337,\n",
       " 0.029868834157422475,\n",
       " 0.47941558090825853,\n",
       " 0.3200264112235226,\n",
       " 0.6470532096913162,\n",
       " 0.7929409756145848,\n",
       " 0.3322294992329734,\n",
       " 0.9981294850689951,\n",
       " 0.34478232299319556,\n",
       " 0.3301138038571908,\n",
       " 0.2482404331987963,\n",
       " 0.603411653800164]"
      ]
     },
     "execution_count": 27,
     "metadata": {},
     "output_type": "execute_result"
    }
   ],
   "source": [
    "list(rand_array.flat)"
   ]
  },
  {
   "cell_type": "code",
   "execution_count": 29,
   "id": "precious-silence",
   "metadata": {},
   "outputs": [
    {
     "data": {
      "text/plain": [
       "array([0.64705321, 0.79294098, 0.3322295 , 0.99812949])"
      ]
     },
     "execution_count": 29,
     "metadata": {},
     "output_type": "execute_result"
    }
   ],
   "source": [
    "# a stride of 1 is equal to 32 bytes\n",
    "rand_array[1]"
   ]
  },
  {
   "cell_type": "code",
   "execution_count": 30,
   "id": "rolled-saying",
   "metadata": {},
   "outputs": [
    {
     "data": {
      "text/plain": [
       "<function ndarray.item>"
      ]
     },
     "execution_count": 30,
     "metadata": {},
     "output_type": "execute_result"
    }
   ],
   "source": [
    "rand_array.item"
   ]
  },
  {
   "cell_type": "markdown",
   "id": "fantastic-bacteria",
   "metadata": {},
   "source": [
    "## Hello NumPy: Curving Test Grades Tutorial"
   ]
  },
  {
   "cell_type": "markdown",
   "id": "wired-particle",
   "metadata": {},
   "source": [
    "This first example introduces a few core concepts in NumPy that you’ll use throughout the rest of the tutorial:\n",
    "\n",
    "- Creating arrays using `numpy.array()`\n",
    "- Treating complete arrays like individual values to make vectorized calculations more readable\n",
    "- Using built-in NumPy functions to modify and aggregate the data\n"
   ]
  },
  {
   "cell_type": "markdown",
   "id": "everyday-immune",
   "metadata": {},
   "source": [
    "These concepts are the core of using NumPy effectively."
   ]
  },
  {
   "cell_type": "markdown",
   "id": "disciplinary-brick",
   "metadata": {},
   "source": [
    "The scenario is this: You’re a teacher who has just graded your students on a recent test. Unfortunately, you may have made the test too challenging, and most of the students did worse than expected. To help everybody out, you’re going to **curve** everyone’s grades."
   ]
  },
  {
   "cell_type": "markdown",
   "id": "adjusted-prairie",
   "metadata": {},
   "source": [
    "It’ll be a relatively rudimentary curve, though. You’ll take whatever the average score is and declare that a C. Additionally, you’ll make sure that the curve doesn’t accidentally hurt your students’ grades or help so much that the student does better than 100%."
   ]
  },
  {
   "cell_type": "markdown",
   "id": "double-surface",
   "metadata": {},
   "source": [
    "Enter this code into your REPL:"
   ]
  },
  {
   "cell_type": "code",
   "execution_count": 1,
   "id": "widespread-thumbnail",
   "metadata": {},
   "outputs": [
    {
     "data": {
      "text/plain": [
       "array([ 91.25,  54.25,  83.25, 100.  ,  70.25, 100.  ,  93.25,  31.25])"
      ]
     },
     "execution_count": 1,
     "metadata": {},
     "output_type": "execute_result"
    }
   ],
   "source": [
    "import numpy as np\n",
    "\n",
    "CURVE_CENTER = 80\n",
    "grades = np.array([72, 35, 64, 88, 51, 90, 74, 12])\n",
    "\n",
    "def curve(grades):\n",
    "    average = grades.mean()\n",
    "    change = CURVE_CENTER - average\n",
    "    new_grades = grades + change\n",
    "    \n",
    "    return np.clip(new_grades, grades, 100)\n",
    "\n",
    "curve(grades)"
   ]
  },
  {
   "cell_type": "markdown",
   "id": "final-convention",
   "metadata": {},
   "source": [
    "The original scores have been increased based on where they were in the pack, but none of them were pushed over 100%."
   ]
  },
  {
   "cell_type": "markdown",
   "id": "liberal-columbus",
   "metadata": {},
   "source": [
    "Here are the important highlights:\n",
    "\n",
    "- **Line 1** imports NumPy using the `np` alias, which is a common convention that saves you a few keystrokes.\n",
    "- **Line 3** creates your first NumPy array, which is one-dimensional and has a shape of `(8,)` and a data type of `int64`. Don’t worry too much about these details yet. You’ll explore them in more detail later in the tutorial.\n",
    "- **Line 5** takes the average of all the scores using [`.mean()`](https://numpy.org/doc/stable/reference/generated/numpy.ndarray.mean.html#numpy.ndarray.mean). Arrays have a lot of [methods](https://numpy.org/doc/stable/reference/arrays.ndarray.html#array-methods)."
   ]
  },
  {
   "cell_type": "markdown",
   "id": "suspected-sessions",
   "metadata": {},
   "source": [
    "On line 7, you take advantage of two important concepts at once:\n",
    "\n",
    "- Vectorization\n",
    "- Broadcasting"
   ]
  },
  {
   "cell_type": "markdown",
   "id": "olympic-mayor",
   "metadata": {},
   "source": [
    "**Vectorization** is the process of performing the same operation in the same way for each element in an array. This removes `for` loops from your code but achieves the same result."
   ]
  },
  {
   "cell_type": "markdown",
   "id": "patent-romania",
   "metadata": {},
   "source": [
    "**Broadcasting** is the process of extending two arrays of different shapes and figuring out how to perform a vectorized calculation between them. Remember, grades is an array of numbers of shape `(8,)` and change is a **scalar**, or single number, essentially with shape `(1,)`. In this case, NumPy adds the scalar to each item in the array and returns a new array with the results."
   ]
  },
  {
   "cell_type": "markdown",
   "id": "selected-field",
   "metadata": {},
   "source": [
    "Finally, on line 8, you limit, or **clip**, the values to a set of minimums and maximums. In addition to array methods, NumPy also has a large number of built-in functions. You don’t need to memorize them all—that’s what documentation is for. Anytime you get stuck or feel like there should be an easier way to do something, take a peek at the documentation and see if there isn’t already a routine that does exactly what you need."
   ]
  },
  {
   "cell_type": "markdown",
   "id": "integral-sugar",
   "metadata": {},
   "source": [
    "In this case, you need a function that takes an array and makes sure the values don’t exceed a given minimum or maximum. [`clip()`](https://numpy.org/doc/stable/reference/generated/numpy.clip.html) does exactly that."
   ]
  },
  {
   "cell_type": "markdown",
   "id": "numeric-equivalent",
   "metadata": {},
   "source": [
    "## Getting Into Shape: Array Shapes and Axes\n",
    "\n",
    "Now that you’ve seen some of what NumPy can do, it’s time to firm up that foundation with some important theory. There are a few concepts that are important to keep in mind, especially as you work with arrays in higher dimensions."
   ]
  },
  {
   "cell_type": "markdown",
   "id": "fancy-hunger",
   "metadata": {},
   "source": [
    "**Vectors**, which are one-dimensional arrays of numbers, are the least complicated to keep track of. Two dimensions aren’t too bad, either, because they’re similar to spreadsheets. But things start to get tricky at three dimensions, and visualizing four? Forget about it."
   ]
  },
  {
   "cell_type": "markdown",
   "id": "related-money",
   "metadata": {},
   "source": [
    "### Mastering Shape\n",
    "\n",
    "Shape is a key concept when you’re using multidimensional arrays. At a certain point, it’s easier to forget about visualizing the shape of your data and to instead follow some mental rules and trust NumPy to tell you the correct shape."
   ]
  },
  {
   "cell_type": "markdown",
   "id": "overall-defendant",
   "metadata": {},
   "source": [
    "All arrays have a property called `.shape` that returns a tuple of the size in each dimension. It’s less important which dimension is which, but it’s critical that the arrays you pass to functions are in the shape that the functions expect. A common way to confirm that your data has the proper shape is to print the data and its shape until you’re sure everything is working like you expect."
   ]
  },
  {
   "cell_type": "markdown",
   "id": "fantastic-waters",
   "metadata": {},
   "source": [
    "This next example will show this process. You’ll create an array with a complex shape, check it, and reorder it to look like it’s supposed to:"
   ]
  },
  {
   "cell_type": "code",
   "execution_count": 2,
   "id": "conservative-creation",
   "metadata": {},
   "outputs": [
    {
     "data": {
      "text/plain": [
       "(2, 2, 3)"
      ]
     },
     "execution_count": 2,
     "metadata": {},
     "output_type": "execute_result"
    }
   ],
   "source": [
    "import numpy as np\n",
    "\n",
    "temperatures = np.array([\n",
    "    29.3, 42.1, 18.8, 16.1, 38.0, 12.5,\n",
    "    12.6, 49.9, 38.6, 31.3, 9.2, 22.2\n",
    "]).reshape(2, 2, 3)\n",
    "\n",
    "temperatures.shape"
   ]
  },
  {
   "cell_type": "code",
   "execution_count": 3,
   "id": "worst-publicity",
   "metadata": {},
   "outputs": [
    {
     "data": {
      "text/plain": [
       "array([[[29.3, 42.1, 18.8],\n",
       "        [16.1, 38. , 12.5]],\n",
       "\n",
       "       [[12.6, 49.9, 38.6],\n",
       "        [31.3,  9.2, 22.2]]])"
      ]
     },
     "execution_count": 3,
     "metadata": {},
     "output_type": "execute_result"
    }
   ],
   "source": [
    "temperatures"
   ]
  },
  {
   "cell_type": "code",
   "execution_count": 4,
   "id": "persistent-nancy",
   "metadata": {},
   "outputs": [
    {
     "data": {
      "text/plain": [
       "array([[[29.3, 16.1],\n",
       "        [42.1, 38. ],\n",
       "        [18.8, 12.5]],\n",
       "\n",
       "       [[12.6, 31.3],\n",
       "        [49.9,  9.2],\n",
       "        [38.6, 22.2]]])"
      ]
     },
     "execution_count": 4,
     "metadata": {},
     "output_type": "execute_result"
    }
   ],
   "source": [
    "np.swapaxes(temperatures, 1, 2)"
   ]
  },
  {
   "cell_type": "markdown",
   "id": "younger-renewal",
   "metadata": {},
   "source": [
    "Here, you use a numpy.ndarray method called `.reshape()` to form a `2 × 2 × 3` block of data. When you check the shape of your array in input 3, it’s exactly what you told it to be. However, you can see how printed arrays quickly become hard to visualize in three or more dimensions. After you swap axes with `.swapaxes()`, it becomes little clearer which dimension is which. You’ll see more about axes in the next section."
   ]
  },
  {
   "cell_type": "markdown",
   "id": "breeding-oxide",
   "metadata": {},
   "source": [
    "Shape will come up again in the section on broadcasting. For now, just keep in mind that these little checks don’t cost anything. You can always delete the cells or get rid of the code once things are running smoothly."
   ]
  },
  {
   "cell_type": "markdown",
   "id": "interstate-notice",
   "metadata": {},
   "source": [
    "### Understanding Axes\n",
    "\n",
    "The example above shows how important it is to know not only what shape your data is in but also which data is in which **axis**. In NumPy arrays, axes are zero-indexed and identify which dimension is which. For example, a two-dimensional array has a vertical axis (axis 0) and a horizontal axis (axis 1). Lots of functions and commands in NumPy change their behavior based on which axis you tell them to process."
   ]
  },
  {
   "cell_type": "markdown",
   "id": "historic-glossary",
   "metadata": {},
   "source": [
    "This example will show how `.max()` behaves by default, with no `axis` argument, and how it changes functionality depending on which axis you specify when you do supply an argument:"
   ]
  },
  {
   "cell_type": "code",
   "execution_count": 5,
   "id": "loaded-dispute",
   "metadata": {},
   "outputs": [],
   "source": [
    "import numpy as np\n",
    "\n",
    "table = np.array([\n",
    "    [5, 3, 7, 1],\n",
    "    [2, 6, 7 ,9],\n",
    "    [1, 1, 1, 1],\n",
    "    [4, 3, 2, 0],\n",
    "])"
   ]
  },
  {
   "cell_type": "code",
   "execution_count": 6,
   "id": "convinced-fluid",
   "metadata": {},
   "outputs": [
    {
     "data": {
      "text/plain": [
       "9"
      ]
     },
     "execution_count": 6,
     "metadata": {},
     "output_type": "execute_result"
    }
   ],
   "source": [
    "table.max()"
   ]
  },
  {
   "cell_type": "code",
   "execution_count": 7,
   "id": "strong-sally",
   "metadata": {},
   "outputs": [
    {
     "data": {
      "text/plain": [
       "array([5, 6, 7, 9])"
      ]
     },
     "execution_count": 7,
     "metadata": {},
     "output_type": "execute_result"
    }
   ],
   "source": [
    "table.max(axis=0)"
   ]
  },
  {
   "cell_type": "code",
   "execution_count": 8,
   "id": "opening-porcelain",
   "metadata": {},
   "outputs": [
    {
     "data": {
      "text/plain": [
       "array([7, 9, 1, 4])"
      ]
     },
     "execution_count": 8,
     "metadata": {},
     "output_type": "execute_result"
    }
   ],
   "source": [
    "table.max(axis=1)"
   ]
  },
  {
   "cell_type": "markdown",
   "id": "bottom-impact",
   "metadata": {},
   "source": [
    "By default, `.max()` returns the largest value in the entire array, no matter how many dimensions there are. However, once you specify an axis, it performs that calculation for each set of values along that particular axis. For example, with an argument of `axis=0`, `.max() `selects the maximum value in each of the four vertical sets of values in table and returns an array that has been **flattened**, or aggregated into a one-dimensional array."
   ]
  },
  {
   "cell_type": "markdown",
   "id": "exceptional-treat",
   "metadata": {},
   "source": [
    "In fact, many of NumPy’s functions behave this way: If no axis is specified, then they perform an operation on the entire dataset. Otherwise, they perform the operation in an **axis-wise** fashion."
   ]
  },
  {
   "cell_type": "markdown",
   "id": "downtown-committee",
   "metadata": {},
   "source": [
    "### Broadcasting\n",
    "\n",
    "So far, you’ve seen a couple of smaller examples of broadcasting, but the topic will start to make more sense the more examples you see. Fundamentally, it functions around one rule: \n",
    "\n",
    "> Arrays can be broadcast against each other if their dimensions match or if one of the arrays has a size of 1."
   ]
  },
  {
   "cell_type": "markdown",
   "id": "mineral-standing",
   "metadata": {},
   "source": [
    "If the arrays match in size along an axis, then elements will be operated on element-by-element, similar to how the built-in Python function ‍`zip()` works. If one of the arrays has a size of 1 in an axis, then that value will be broadcast along that axis, or duplicated as many times as necessary to match the number of elements along that axis in the other array."
   ]
  },
  {
   "cell_type": "markdown",
   "id": "attempted-yield",
   "metadata": {},
   "source": [
    "Here’s a quick example. Array A has the shape `(4, 1, 8)`, and array B has the shape `(1, 6, 8)`. Based on the rules above, you can operate on these arrays together:\n",
    "\n",
    "- In axis 0, `A` has a 4 and `B` has a 1, so `B` can be broadcast along that axis.\n",
    "- In axis 1, `A` has a 1 and `B` has a 6, so `A` can be broadcast along that axis.\n",
    "- In axis 2, the two arrays have matching sizes, so they can operate successfully."
   ]
  },
  {
   "cell_type": "markdown",
   "id": "measured-arctic",
   "metadata": {},
   "source": [
    "All three axes successfully follow the rule."
   ]
  },
  {
   "cell_type": "markdown",
   "id": "prostate-linux",
   "metadata": {},
   "source": [
    "You can set up the arrays like this:"
   ]
  },
  {
   "cell_type": "code",
   "execution_count": 9,
   "id": "sharp-detective",
   "metadata": {},
   "outputs": [],
   "source": [
    "import numpy as np\n",
    "\n",
    "A = np.arange(32).reshape(4, 1, 8)"
   ]
  },
  {
   "cell_type": "code",
   "execution_count": 10,
   "id": "expensive-calendar",
   "metadata": {},
   "outputs": [
    {
     "data": {
      "text/plain": [
       "array([[[ 0,  1,  2,  3,  4,  5,  6,  7]],\n",
       "\n",
       "       [[ 8,  9, 10, 11, 12, 13, 14, 15]],\n",
       "\n",
       "       [[16, 17, 18, 19, 20, 21, 22, 23]],\n",
       "\n",
       "       [[24, 25, 26, 27, 28, 29, 30, 31]]])"
      ]
     },
     "execution_count": 10,
     "metadata": {},
     "output_type": "execute_result"
    }
   ],
   "source": [
    "A"
   ]
  },
  {
   "cell_type": "code",
   "execution_count": 11,
   "id": "electric-pressure",
   "metadata": {},
   "outputs": [],
   "source": [
    "B = np.arange(48).reshape(1, 6, 8)"
   ]
  },
  {
   "cell_type": "code",
   "execution_count": 12,
   "id": "adaptive-plate",
   "metadata": {},
   "outputs": [
    {
     "data": {
      "text/plain": [
       "array([[[ 0,  1,  2,  3,  4,  5,  6,  7],\n",
       "        [ 8,  9, 10, 11, 12, 13, 14, 15],\n",
       "        [16, 17, 18, 19, 20, 21, 22, 23],\n",
       "        [24, 25, 26, 27, 28, 29, 30, 31],\n",
       "        [32, 33, 34, 35, 36, 37, 38, 39],\n",
       "        [40, 41, 42, 43, 44, 45, 46, 47]]])"
      ]
     },
     "execution_count": 12,
     "metadata": {},
     "output_type": "execute_result"
    }
   ],
   "source": [
    "B"
   ]
  },
  {
   "cell_type": "markdown",
   "id": "critical-cooperation",
   "metadata": {},
   "source": [
    "`A` has 4 planes, each with 1 row and 8 columns. `B` has only 1 plane with 6 rows and 8 columns. Watch what NumPy does for you when you try to do a calculation between them!"
   ]
  },
  {
   "cell_type": "markdown",
   "id": "cordless-tragedy",
   "metadata": {},
   "source": [
    "Add the two arrays together:"
   ]
  },
  {
   "cell_type": "code",
   "execution_count": 13,
   "id": "invisible-throat",
   "metadata": {},
   "outputs": [
    {
     "data": {
      "text/plain": [
       "(4, 6, 8)"
      ]
     },
     "execution_count": 13,
     "metadata": {},
     "output_type": "execute_result"
    }
   ],
   "source": [
    "(A + B).shape"
   ]
  },
  {
   "cell_type": "code",
   "execution_count": 14,
   "id": "large-specialist",
   "metadata": {},
   "outputs": [
    {
     "data": {
      "text/plain": [
       "array([[[ 0,  2,  4,  6,  8, 10, 12, 14],\n",
       "        [ 8, 10, 12, 14, 16, 18, 20, 22],\n",
       "        [16, 18, 20, 22, 24, 26, 28, 30],\n",
       "        [24, 26, 28, 30, 32, 34, 36, 38],\n",
       "        [32, 34, 36, 38, 40, 42, 44, 46],\n",
       "        [40, 42, 44, 46, 48, 50, 52, 54]],\n",
       "\n",
       "       [[ 8, 10, 12, 14, 16, 18, 20, 22],\n",
       "        [16, 18, 20, 22, 24, 26, 28, 30],\n",
       "        [24, 26, 28, 30, 32, 34, 36, 38],\n",
       "        [32, 34, 36, 38, 40, 42, 44, 46],\n",
       "        [40, 42, 44, 46, 48, 50, 52, 54],\n",
       "        [48, 50, 52, 54, 56, 58, 60, 62]],\n",
       "\n",
       "       [[16, 18, 20, 22, 24, 26, 28, 30],\n",
       "        [24, 26, 28, 30, 32, 34, 36, 38],\n",
       "        [32, 34, 36, 38, 40, 42, 44, 46],\n",
       "        [40, 42, 44, 46, 48, 50, 52, 54],\n",
       "        [48, 50, 52, 54, 56, 58, 60, 62],\n",
       "        [56, 58, 60, 62, 64, 66, 68, 70]],\n",
       "\n",
       "       [[24, 26, 28, 30, 32, 34, 36, 38],\n",
       "        [32, 34, 36, 38, 40, 42, 44, 46],\n",
       "        [40, 42, 44, 46, 48, 50, 52, 54],\n",
       "        [48, 50, 52, 54, 56, 58, 60, 62],\n",
       "        [56, 58, 60, 62, 64, 66, 68, 70],\n",
       "        [64, 66, 68, 70, 72, 74, 76, 78]]])"
      ]
     },
     "execution_count": 14,
     "metadata": {},
     "output_type": "execute_result"
    }
   ],
   "source": [
    "A + B"
   ]
  },
  {
   "cell_type": "markdown",
   "id": "prescribed-drink",
   "metadata": {},
   "source": [
    "The way broadcasting works is that NumPy duplicates the plane in `B` three times so that you have a total of four, matching the number of planes in `A`. It also duplicates the single row in `A` five times for a total of six, matching the number of rows in `B`. Then it adds each element in the newly expanded `A` array to its counterpart in the same location in `B`. The result of each calculation shows up in the corresponding location of the output."
   ]
  },
  {
   "cell_type": "markdown",
   "id": "unexpected-condition",
   "metadata": {},
   "source": [
    "> Note: This is a good way to create an array from a range using `arange()`!"
   ]
  },
  {
   "cell_type": "markdown",
   "id": "coated-penguin",
   "metadata": {},
   "source": [
    "Once again, even though you can use words like “plane,” “row,” and “column” to describe how the shapes in this example are broadcast to create matching three-dimensional shapes, things get more complicated at higher dimensions. A lot of times, you’ll have to simply follow the broadcasting rules and do lots of print-outs to make sure things are working as planned."
   ]
  },
  {
   "cell_type": "markdown",
   "id": "offensive-inside",
   "metadata": {},
   "source": [
    "Understanding broadcasting is an important part of mastering vectorized calculations, and vectorized calculations are the way to write clean, idiomatic NumPy code."
   ]
  },
  {
   "cell_type": "markdown",
   "id": "victorian-emerald",
   "metadata": {},
   "source": [
    "## Data Science Operations: Filter, Order, Aggregate\n",
    "\n",
    "That wraps up a section that was heavy in theory but a little light on practical, real-world examples. In this section, you’ll work through some examples of real, useful data science operations: filtering, sorting, and aggregating data."
   ]
  },
  {
   "cell_type": "markdown",
   "id": "failing-microwave",
   "metadata": {},
   "source": [
    "### Indexing\n",
    "\n",
    "Indexing uses many of the same idioms that normal Python code uses. You can use positive or negative indices to index from the front or back of the array. You can use a colon (`:`) to specify “the rest” or “all,” and you can even use two colons to skip elements as with regular Python lists."
   ]
  },
  {
   "cell_type": "markdown",
   "id": "coordinate-color",
   "metadata": {},
   "source": [
    "Here’s the difference: NumPy arrays use commas between axes, so you can index multiple axes in one set of square brackets. An example is the easiest way to show this off. It’s time to confirm [Dürer’s magic square](https://en.wikipedia.org/wiki/Magic_square#Albrecht_D%C3%BCrer's_magic_square)!"
   ]
  },
  {
   "cell_type": "markdown",
   "id": "generic-freeware",
   "metadata": {},
   "source": [
    "The number square below has some amazing properties. If you add up any of the rows, columns, or diagonals, then you’ll get the same number, 34. That’s also what you’ll get if you add up each of the four quadrants, the center four squares, the four corner squares, or the four corner squares of any of the contained 3 × 3 grids. You’re going to prove it!"
   ]
  },
  {
   "cell_type": "markdown",
   "id": "median-possibility",
   "metadata": {},
   "source": [
    "> **Fun fact**: In the bottom row, the numbers 15 and 14 are in the middle, representing the year that Dürer created this square. The numbers 1 and 4 are also in that row, representing the first and fourth letters of the alphabet, A and D, which are the initials of the square’s creator, Albrecht Dürer!"
   ]
  },
  {
   "cell_type": "code",
   "execution_count": 15,
   "id": "consecutive-harmony",
   "metadata": {},
   "outputs": [],
   "source": [
    "import numpy as np\n",
    "\n",
    "square = np.array([\n",
    "    [16, 3, 2, 13],\n",
    "    [5, 10, 11, 8],\n",
    "    [9, 6, 7, 12],\n",
    "    [4, 15, 14, 1]\n",
    "])"
   ]
  },
  {
   "cell_type": "code",
   "execution_count": 16,
   "id": "broke-exception",
   "metadata": {},
   "outputs": [
    {
     "data": {
      "text/plain": [
       "(4, 4)"
      ]
     },
     "execution_count": 16,
     "metadata": {},
     "output_type": "execute_result"
    }
   ],
   "source": [
    "square.shape"
   ]
  },
  {
   "cell_type": "code",
   "execution_count": 17,
   "id": "confident-sweet",
   "metadata": {},
   "outputs": [
    {
     "data": {
      "text/plain": [
       "array([16,  5,  9,  4])"
      ]
     },
     "execution_count": 17,
     "metadata": {},
     "output_type": "execute_result"
    }
   ],
   "source": [
    "square[:, 0]"
   ]
  },
  {
   "cell_type": "code",
   "execution_count": 18,
   "id": "usual-departure",
   "metadata": {},
   "outputs": [],
   "source": [
    "for i in range(4):\n",
    "    assert square[:, i].sum() == 34\n",
    "    assert square[i, :].sum() == 34"
   ]
  },
  {
   "cell_type": "code",
   "execution_count": 19,
   "id": "loose-mechanism",
   "metadata": {},
   "outputs": [],
   "source": [
    "assert square[:2, :2].sum() == 34"
   ]
  },
  {
   "cell_type": "code",
   "execution_count": 20,
   "id": "positive-corner",
   "metadata": {},
   "outputs": [],
   "source": [
    "assert square[2:, :2].sum() == 34"
   ]
  },
  {
   "cell_type": "code",
   "execution_count": 21,
   "id": "laughing-authorization",
   "metadata": {},
   "outputs": [],
   "source": [
    "assert square[:2, 2:].sum() == 34"
   ]
  },
  {
   "cell_type": "code",
   "execution_count": 22,
   "id": "regulated-essex",
   "metadata": {},
   "outputs": [],
   "source": [
    "assert square[2:, 2:].sum() == 34"
   ]
  },
  {
   "cell_type": "markdown",
   "id": "muslim-muslim",
   "metadata": {},
   "source": [
    "Inside the for loop, you verify that all the rows and all the columns add up to 34. After that, using selective indexing, you verify that each of the quadrants also adds up to 34."
   ]
  },
  {
   "cell_type": "markdown",
   "id": "secure-garlic",
   "metadata": {},
   "source": [
    "One last thing to note is that you’re able to take the sum of any array to add up all of its elements globally with `square.sum()`. This method can also take an axis argument to do an axis-wise summing instead."
   ]
  },
  {
   "cell_type": "code",
   "execution_count": 23,
   "id": "hollywood-favorite",
   "metadata": {},
   "outputs": [
    {
     "data": {
      "text/plain": [
       "136"
      ]
     },
     "execution_count": 23,
     "metadata": {},
     "output_type": "execute_result"
    }
   ],
   "source": [
    "square.sum()"
   ]
  },
  {
   "cell_type": "markdown",
   "id": "starting-veteran",
   "metadata": {},
   "source": [
    "### Masking and Filtering\n",
    "\n",
    "Index-based selection is great, but what if you want to filter your data based on more complicated nonuniform or nonsequential criteria? This is where the concept of a **mask** comes into play."
   ]
  },
  {
   "cell_type": "markdown",
   "id": "toxic-soundtrack",
   "metadata": {},
   "source": [
    "A mask is an array that has the exact same shape as your data, but instead of your values, it holds Boolean values: either `True` or `False`. You can use this mask array to index into your data array in nonlinear and complex ways. It will return all of the elements where the Boolean array has a True value."
   ]
  },
  {
   "cell_type": "markdown",
   "id": "invalid-latin",
   "metadata": {},
   "source": [
    "Here’s an example showing the process, first in slow motion and then how it’s typically done, all in one line:"
   ]
  },
  {
   "cell_type": "code",
   "execution_count": 24,
   "id": "stopped-fireplace",
   "metadata": {},
   "outputs": [
    {
     "data": {
      "text/plain": [
       "array([[ 5,  6,  8, 10, 12, 14],\n",
       "       [16, 18, 20, 22, 24, 26],\n",
       "       [28, 30, 32, 34, 36, 38],\n",
       "       [40, 42, 44, 46, 48, 50]])"
      ]
     },
     "execution_count": 24,
     "metadata": {},
     "output_type": "execute_result"
    }
   ],
   "source": [
    "# slow motion mode\n",
    "import numpy as np\n",
    "\n",
    "numbers = np.linspace(5, 50, 24, dtype=int).reshape(4, -1)\n",
    "\n",
    "numbers"
   ]
  },
  {
   "cell_type": "code",
   "execution_count": 25,
   "id": "incoming-robertson",
   "metadata": {},
   "outputs": [
    {
     "data": {
      "text/plain": [
       "array([[False, False,  True, False,  True, False],\n",
       "       [ True, False,  True, False,  True, False],\n",
       "       [ True, False,  True, False,  True, False],\n",
       "       [ True, False,  True, False,  True, False]])"
      ]
     },
     "execution_count": 25,
     "metadata": {},
     "output_type": "execute_result"
    }
   ],
   "source": [
    "mask = numbers % 4 == 0\n",
    "\n",
    "mask"
   ]
  },
  {
   "cell_type": "code",
   "execution_count": 26,
   "id": "preceding-lesbian",
   "metadata": {},
   "outputs": [
    {
     "data": {
      "text/plain": [
       "array([ 8, 12, 16, 20, 24, 28, 32, 36, 40, 44, 48])"
      ]
     },
     "execution_count": 26,
     "metadata": {},
     "output_type": "execute_result"
    }
   ],
   "source": [
    "numbers[mask]"
   ]
  },
  {
   "cell_type": "code",
   "execution_count": 27,
   "id": "korean-quarter",
   "metadata": {},
   "outputs": [
    {
     "data": {
      "text/plain": [
       "array([ 8, 12, 16, 20, 24, 28, 32, 36, 40, 44, 48])"
      ]
     },
     "execution_count": 27,
     "metadata": {},
     "output_type": "execute_result"
    }
   ],
   "source": [
    "# how it's typically done\n",
    "by_four = numbers[numbers % 4 == 0]\n",
    "\n",
    "by_four"
   ]
  },
  {
   "cell_type": "markdown",
   "id": "saving-sugar",
   "metadata": {},
   "source": [
    "You’ll see an explanation of the new array creation tricks in input 2 in a moment, but for now, focus on the meat of the example. These are the important parts:\n",
    "\n",
    "- **`mask = numbers % 4 == 0`** creates the mask by performing a **vectorized Boolean computation**, taking each element and checking to see if it divides evenly by four. This returns a mask array of the same shape with the element-wise results of the computation.\n",
    "- **`numbers[mask]`** uses this mask to index into the original numbers array. This causes the array to lose its original shape, reducing it to one dimension, but you still get the data you’re looking for.\n",
    "- **`by_four = numbers[numbers % 4 == 0]`** provides a more traditional, idiomatic masked selection that you might see in the wild, with an anonymous filtering array created inline, inside the selection brackets. This syntax is similar to usage in the R programming language."
   ]
  },
  {
   "cell_type": "markdown",
   "id": "double-champagne",
   "metadata": {},
   "source": [
    "Coming back to `numbers = np.linspace(5, 50, 24, dtype=int).reshape(4, -1)`, you encounter three new concepts:\n",
    "\n",
    "- Using [`np.linspace()`](https://realpython.com/np-linspace-numpy/) to generate an evenly spaced array\n",
    "- Setting the `dtype` of an output\n",
    "- Reshaping an array with `-1`"
   ]
  },
  {
   "cell_type": "markdown",
   "id": "native-briefs",
   "metadata": {},
   "source": [
    "[`np.linspace()`](https://numpy.org/doc/stable/reference/generated/numpy.linspace.html) generates n numbers evenly distributed between a minimum and a maximum, which is useful for evenly distributed sampling in scientific plotting"
   ]
  },
  {
   "cell_type": "markdown",
   "id": "daily-permission",
   "metadata": {},
   "source": [
    "Because of the particular calculation in this example, it makes life easier to have integers in the `numbers` array. But because the space between 5 and 50 doesn’t divide evenly by 24, the resulting numbers would be floating-point numbers. You specify a `dtype` of `int` to force the function to round down and give you whole integers. You’ll see a more detailed discussion of data types later on."
   ]
  },
  {
   "cell_type": "markdown",
   "id": "automated-spain",
   "metadata": {},
   "source": [
    "Finally, `array.reshape()` can take `-1` as one of its dimension sizes. That signifies that NumPy should just figure out how big that particular axis needs to be based on the size of the other axes. In this case, with 24 values and a size of `4` in axis 0, axis 1 ends up with a size of `6`."
   ]
  },
  {
   "cell_type": "markdown",
   "id": "timely-ethics",
   "metadata": {},
   "source": [
    "Here’s one more example to show off the power of masked filtering. The [normal distribution](https://en.wikipedia.org/wiki/Normal_distribution) is a probability distribution in which roughly 95.45% of values occur within two standard deviations of the mean."
   ]
  },
  {
   "cell_type": "markdown",
   "id": "diagnostic-elephant",
   "metadata": {},
   "source": [
    "You can verify that with a little help from NumPy’s random module for generating random values:"
   ]
  },
  {
   "cell_type": "code",
   "execution_count": 28,
   "id": "professional-compression",
   "metadata": {},
   "outputs": [
    {
     "data": {
      "text/plain": [
       "array([ 0.2354462 ,  0.8596593 ,  1.95996126,  1.21886792, -1.057614  ])"
      ]
     },
     "execution_count": 28,
     "metadata": {},
     "output_type": "execute_result"
    }
   ],
   "source": [
    "import numpy as np\n",
    "\n",
    "from numpy.random import default_rng\n",
    "\n",
    "rng = default_rng()\n",
    "\n",
    "values = rng.standard_normal(10000)\n",
    "\n",
    "values[:5]"
   ]
  },
  {
   "cell_type": "code",
   "execution_count": 29,
   "id": "quality-principle",
   "metadata": {},
   "outputs": [
    {
     "data": {
      "text/plain": [
       "1.0075881741494412"
      ]
     },
     "execution_count": 29,
     "metadata": {},
     "output_type": "execute_result"
    }
   ],
   "source": [
    "std = values.std()\n",
    "\n",
    "std"
   ]
  },
  {
   "cell_type": "code",
   "execution_count": 30,
   "id": "variable-video",
   "metadata": {},
   "outputs": [
    {
     "data": {
      "text/plain": [
       "9537"
      ]
     },
     "execution_count": 30,
     "metadata": {},
     "output_type": "execute_result"
    }
   ],
   "source": [
    "filtered = values[(values > -2 * std) & (values < 2 * std)]\n",
    "\n",
    "filtered.size"
   ]
  },
  {
   "cell_type": "code",
   "execution_count": 31,
   "id": "relative-promotion",
   "metadata": {},
   "outputs": [
    {
     "data": {
      "text/plain": [
       "10000"
      ]
     },
     "execution_count": 31,
     "metadata": {},
     "output_type": "execute_result"
    }
   ],
   "source": [
    "values.size"
   ]
  },
  {
   "cell_type": "code",
   "execution_count": 32,
   "id": "according-immunology",
   "metadata": {},
   "outputs": [
    {
     "data": {
      "text/plain": [
       "0.9537"
      ]
     },
     "execution_count": 32,
     "metadata": {},
     "output_type": "execute_result"
    }
   ],
   "source": [
    "filtered.size / values.size"
   ]
  },
  {
   "cell_type": "markdown",
   "id": "employed-mistake",
   "metadata": {},
   "source": [
    "Here you use a potentially strange-looking syntax to combine filter conditions: a **binary & operator**. Why would that be the case? It’s because NumPy designates `&` and `|` as the vectorized, element-wise operators to combine Booleans. If you try to do `A` and `B`, then you’ll get a warning about how the truth value for an array is weird, because the and is operating on the truth value of the whole array, not element by element."
   ]
  },
  {
   "cell_type": "markdown",
   "id": "vanilla-branch",
   "metadata": {},
   "source": [
    "### Transposing, Sorting, and Concatenating\n",
    "\n",
    "Other manipulations, while not quite as common as indexing or filtering, can also be very handy depending on the situation you’re in. You’ll see a few examples in this section."
   ]
  },
  {
   "cell_type": "markdown",
   "id": "outdoor-payroll",
   "metadata": {},
   "source": [
    "Here’s **transposing** an array:"
   ]
  },
  {
   "cell_type": "code",
   "execution_count": 33,
   "id": "handed-northwest",
   "metadata": {},
   "outputs": [],
   "source": [
    "import numpy as np\n",
    "\n",
    "a = np.array([\n",
    "    [1, 2],\n",
    "    [3, 4],\n",
    "    [5, 6],\n",
    "])"
   ]
  },
  {
   "cell_type": "code",
   "execution_count": 34,
   "id": "italic-invention",
   "metadata": {},
   "outputs": [
    {
     "data": {
      "text/plain": [
       "array([[1, 3, 5],\n",
       "       [2, 4, 6]])"
      ]
     },
     "execution_count": 34,
     "metadata": {},
     "output_type": "execute_result"
    }
   ],
   "source": [
    "a.T"
   ]
  },
  {
   "cell_type": "code",
   "execution_count": 35,
   "id": "auburn-orleans",
   "metadata": {},
   "outputs": [
    {
     "data": {
      "text/plain": [
       "array([[1, 3, 5],\n",
       "       [2, 4, 6]])"
      ]
     },
     "execution_count": 35,
     "metadata": {},
     "output_type": "execute_result"
    }
   ],
   "source": [
    "a.transpose()"
   ]
  },
  {
   "cell_type": "markdown",
   "id": "comprehensive-wireless",
   "metadata": {},
   "source": [
    "When you calculate the transpose of an array, the row and column indices of every element are switched. Item `[0, 2]`, for example, becomes item `[2, 0]`. You can also use `a.T` as an alias for `a.transpose()`."
   ]
  },
  {
   "cell_type": "markdown",
   "id": "forty-mustang",
   "metadata": {},
   "source": [
    "The following code block shows sorting, but you’ll also see a more powerful sorting technique in the coming section on structured data:"
   ]
  },
  {
   "cell_type": "code",
   "execution_count": 36,
   "id": "unable-basket",
   "metadata": {},
   "outputs": [
    {
     "data": {
      "text/plain": [
       "array([[1, 4, 7],\n",
       "       [5, 6, 8],\n",
       "       [1, 2, 3]])"
      ]
     },
     "execution_count": 36,
     "metadata": {},
     "output_type": "execute_result"
    }
   ],
   "source": [
    "import numpy as np\n",
    "\n",
    "data = np.array([\n",
    "    [7, 1, 4],\n",
    "    [8, 6, 5],\n",
    "    [1, 2, 3]\n",
    "])\n",
    "\n",
    "np.sort(data)"
   ]
  },
  {
   "cell_type": "code",
   "execution_count": 37,
   "id": "rolled-while",
   "metadata": {},
   "outputs": [
    {
     "data": {
      "text/plain": [
       "array([1, 1, 2, 3, 4, 5, 6, 7, 8])"
      ]
     },
     "execution_count": 37,
     "metadata": {},
     "output_type": "execute_result"
    }
   ],
   "source": [
    "np.sort(data, axis=None)"
   ]
  },
  {
   "cell_type": "code",
   "execution_count": 38,
   "id": "connected-blocking",
   "metadata": {},
   "outputs": [
    {
     "data": {
      "text/plain": [
       "array([[1, 1, 3],\n",
       "       [7, 2, 4],\n",
       "       [8, 6, 5]])"
      ]
     },
     "execution_count": 38,
     "metadata": {},
     "output_type": "execute_result"
    }
   ],
   "source": [
    "np.sort(data, axis=0)"
   ]
  },
  {
   "cell_type": "markdown",
   "id": "continent-clarity",
   "metadata": {},
   "source": [
    "Omitting the `axis` argument automatically selects the last and innermost dimension, which is the rows in this example. Using `None` flattens the array and performs a global sort. Otherwise, you can specify which axis you want. In output of `np.sort(data, axis=0)`, each column of the array still has all of its elements but they have been sorted low-to-high inside that column."
   ]
  },
  {
   "cell_type": "markdown",
   "id": "worldwide-lebanon",
   "metadata": {},
   "source": [
    "Finally, here’s an example of **concatenation**. While there’s a `np.concatenate()` function, there are also a number of helper functions that are sometimes easier to read."
   ]
  },
  {
   "cell_type": "markdown",
   "id": "distinguished-peoples",
   "metadata": {},
   "source": [
    "Here are some examples:"
   ]
  },
  {
   "cell_type": "code",
   "execution_count": 39,
   "id": "connected-radical",
   "metadata": {},
   "outputs": [],
   "source": [
    "import numpy as np\n",
    "\n",
    "a = np.array([\n",
    "    [4, 8],\n",
    "    [6, 1]\n",
    "])\n",
    "\n",
    "b = np.array([\n",
    "    [3, 5],\n",
    "    [7, 2],\n",
    "])\n"
   ]
  },
  {
   "cell_type": "code",
   "execution_count": 40,
   "id": "advisory-anthropology",
   "metadata": {},
   "outputs": [
    {
     "data": {
      "text/plain": [
       "array([[4, 8, 3, 5],\n",
       "       [6, 1, 7, 2]])"
      ]
     },
     "execution_count": 40,
     "metadata": {},
     "output_type": "execute_result"
    }
   ],
   "source": [
    "np.hstack((a, b))"
   ]
  },
  {
   "cell_type": "code",
   "execution_count": 41,
   "id": "rubber-battlefield",
   "metadata": {},
   "outputs": [
    {
     "data": {
      "text/plain": [
       "array([[3, 5],\n",
       "       [7, 2],\n",
       "       [4, 8],\n",
       "       [6, 1]])"
      ]
     },
     "execution_count": 41,
     "metadata": {},
     "output_type": "execute_result"
    }
   ],
   "source": [
    "np.vstack((b, a))"
   ]
  },
  {
   "cell_type": "code",
   "execution_count": 48,
   "id": "center-stadium",
   "metadata": {},
   "outputs": [
    {
     "data": {
      "text/plain": [
       "array([[4, 8],\n",
       "       [6, 1],\n",
       "       [3, 5],\n",
       "       [7, 2]])"
      ]
     },
     "execution_count": 48,
     "metadata": {},
     "output_type": "execute_result"
    }
   ],
   "source": [
    "np.concatenate((a, b))"
   ]
  },
  {
   "cell_type": "code",
   "execution_count": 49,
   "id": "interstate-premises",
   "metadata": {},
   "outputs": [
    {
     "data": {
      "text/plain": [
       "array([[4, 8],\n",
       "       [6, 1],\n",
       "       [3, 5],\n",
       "       [7, 2]])"
      ]
     },
     "execution_count": 49,
     "metadata": {},
     "output_type": "execute_result"
    }
   ],
   "source": [
    "np.concatenate((a, b), axis=0)"
   ]
  },
  {
   "cell_type": "code",
   "execution_count": 52,
   "id": "invalid-billy",
   "metadata": {},
   "outputs": [
    {
     "data": {
      "text/plain": [
       "array([[4, 8, 3, 5],\n",
       "       [6, 1, 7, 2]])"
      ]
     },
     "execution_count": 52,
     "metadata": {},
     "output_type": "execute_result"
    }
   ],
   "source": [
    "np.concatenate((a, b), axis=1)"
   ]
  },
  {
   "cell_type": "code",
   "execution_count": 53,
   "id": "stretch-gender",
   "metadata": {},
   "outputs": [
    {
     "data": {
      "text/plain": [
       "array([4, 8, 6, 1, 3, 5, 7, 2])"
      ]
     },
     "execution_count": 53,
     "metadata": {},
     "output_type": "execute_result"
    }
   ],
   "source": [
    "np.concatenate((a, b), axis=None)"
   ]
  },
  {
   "cell_type": "markdown",
   "id": "ambient-georgia",
   "metadata": {},
   "source": [
    "`np.hstack((a, b))` and `np.vstack((b, a))` show the slightly more intuitive functions `hstack()` and `vstack()`. `np.concatenate((a, b))` and `np.concatenate((a, b), axis=None)` show the more generic `concatenate()`, first without an `axis` argument and then with `axis=None`. This flattening behavior is similar in form to what you just saw with `sort()`."
   ]
  },
  {
   "cell_type": "markdown",
   "id": "postal-evanescence",
   "metadata": {},
   "source": [
    "One important stumbling block to note is that all these functions take a tuple of arrays as their first argument rather than a variable number of arguments as you might expect. You can tell because there’s an extra pair of parentheses."
   ]
  },
  {
   "cell_type": "markdown",
   "id": "straight-shell",
   "metadata": {},
   "source": [
    "### Aggregating\n",
    "\n",
    "Your last stop on this tour of functionality before diving into some more advanced topics and examples is **aggregation**. You’ve already seen quite a few aggregating methods, including `.sum()`, `.max()`, `.mean()`, and `.std()`. You can reference NumPy’s larger library of [functions](https://numpy.org/doc/stable/reference/routines.html) to see more. Many of the mathematical, financial, and statistical functions use aggregation to help you reduce the number of dimensions in your data."
   ]
  }
 ],
 "metadata": {
  "kernelspec": {
   "display_name": "Python 3",
   "language": "python",
   "name": "python3"
  },
  "language_info": {
   "codemirror_mode": {
    "name": "ipython",
    "version": 3
   },
   "file_extension": ".py",
   "mimetype": "text/x-python",
   "name": "python",
   "nbconvert_exporter": "python",
   "pygments_lexer": "ipython3",
   "version": "3.7.9"
  },
  "nteract": {
   "version": "nteract-on-jupyter@2.1.3"
  }
 },
 "nbformat": 4,
 "nbformat_minor": 5
}
