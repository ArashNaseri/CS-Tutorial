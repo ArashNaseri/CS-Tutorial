{
 "cells": [
  {
   "cell_type": "markdown",
   "id": "first-brazilian",
   "metadata": {},
   "source": [
    "# Optimizing Storage: Numpy Data Types"
   ]
  },
  {
   "cell_type": "markdown",
   "id": "international-metro",
   "metadata": {},
   "source": [
    "Now that you have a bit more practical experience, it’s time to go back to theory and look at data types. Data types don’t play a central role in a lot of Python code. Numbers work like they’re supposed to, strings do other things, Booleans are true or false, and other than that, you make your own objects and collections."
   ]
  },
  {
   "cell_type": "markdown",
   "id": "quick-nutrition",
   "metadata": {},
   "source": [
    "In NumPy, though, there’s a little more detail that needs to be covered. NumPy uses C code under the hood to optimize performance, and it can’t do that unless all the items in an array are of the same type. That doesn’t just mean the same Python type. They have to be the same underlying C type, with the same shape and size in bits!"
   ]
  },
  {
   "cell_type": "markdown",
   "id": "overall-privilege",
   "metadata": {},
   "source": [
    "Python defines only one type of a particular data class (there is only one integer type, one floating-point type, etc.). This can be convenient in applications that don’t need to be concerned with all the ways data can be represented in a computer. For scientific computing, however, more control is often needed."
   ]
  },
  {
   "cell_type": "markdown",
   "id": "charged-beijing",
   "metadata": {},
   "source": [
    "In NumPy, there are 24 new fundamental Python types to describe different types of scalars. These type descriptors are mostly based on the types available in the C language that CPython is written in, with several additional types compatible with Python’s types."
   ]
  },
  {
   "cell_type": "markdown",
   "id": "interpreted-browser",
   "metadata": {},
   "source": [
    "## Numerical Types: int, bool, float, and complex\n",
    "Since most of your data science and numerical calculations will tend to involve numbers, they seem like the best place to start. There are essentially four numerical types in NumPy code, and each one can take a few different sizes.\n",
    "\n",
    "The table below breaks down the details of these types:"
   ]
  },
  {
   "cell_type": "markdown",
   "id": "focused-sound",
   "metadata": {},
   "source": [
    "|Name|# of Bits|Python Type|NumPy Type|\n",
    "|:--|:--|:--|:--|\n",
    "|Integer|64|int|np.int_|\n",
    "|Booleans|8|bool|np.bool_|\n",
    "|Float|64|float|np.float_|\n",
    "|Complex|128|complex|np.complex_|"
   ]
  },
  {
   "cell_type": "markdown",
   "id": "electrical-difference",
   "metadata": {},
   "source": [
    "These are just the types that map to existing Python types. NumPy also has types for the smaller-sized versions of each, like 8-, 16-, and 32-bit integers, 32-bit single-precision floating-point numbers, and 64-bit single-precision complex numbers. The documentation lists them in their entirety."
   ]
  },
  {
   "cell_type": "markdown",
   "id": "passive-impossible",
   "metadata": {},
   "source": [
    "To specify the type when creating an array, you can provide a `dtype` argument:"
   ]
  },
  {
   "cell_type": "code",
   "execution_count": 7,
   "id": "wrong-combination",
   "metadata": {},
   "outputs": [],
   "source": [
    "import numpy as np"
   ]
  },
  {
   "cell_type": "code",
   "execution_count": 8,
   "id": "entitled-marking",
   "metadata": {},
   "outputs": [
    {
     "data": {
      "text/plain": [
       "array([1. , 3. , 5.5, 7.7, 9.2], dtype=float32)"
      ]
     },
     "execution_count": 8,
     "metadata": {},
     "output_type": "execute_result"
    }
   ],
   "source": [
    "np.array([1, 3, 5.5, 7.7, 9.2], dtype=np.single)"
   ]
  },
  {
   "cell_type": "code",
   "execution_count": 11,
   "id": "loose-wagner",
   "metadata": {},
   "outputs": [
    {
     "data": {
      "text/plain": [
       "array([1, 3, 5, 7, 9], dtype=uint8)"
      ]
     },
     "execution_count": 11,
     "metadata": {},
     "output_type": "execute_result"
    }
   ],
   "source": [
    "np.array([1, 3, 5.5, 7.7, 9.2], dtype=np.uint8)"
   ]
  },
  {
   "cell_type": "markdown",
   "id": "loved-swift",
   "metadata": {},
   "source": [
    "NumPy automatically converts your platform-independent type `np.single` to whatever fixed-size type your platform supports for that size. In this case, it uses `np.float32`. If your provided values don’t match the shape of the `dtype` you provided, then NumPy will either fix it for you or raise an error."
   ]
  },
  {
   "cell_type": "markdown",
   "id": "common-transformation",
   "metadata": {},
   "source": [
    "### String Types: Sized Unicode\n",
    "\n",
    "Strings behave a little strangely in NumPy code because NumPy needs to know how many bytes to expect, which isn’t usually a factor in Python programming. Luckily, NumPy does a pretty good job at taking care of less complex cases for you:"
   ]
  },
  {
   "cell_type": "code",
   "execution_count": 5,
   "id": "vulnerable-cooperation",
   "metadata": {},
   "outputs": [],
   "source": [
    "import numpy as np"
   ]
  },
  {
   "cell_type": "code",
   "execution_count": 6,
   "id": "tutorial-stationery",
   "metadata": {},
   "outputs": [
    {
     "data": {
      "text/plain": [
       "array(['bob', 'amy', 'han'], dtype='<U3')"
      ]
     },
     "execution_count": 6,
     "metadata": {},
     "output_type": "execute_result"
    }
   ],
   "source": [
    "names = np.array([\"bob\", \"amy\", \"han\"], dtype=str)\n",
    "names"
   ]
  },
  {
   "cell_type": "code",
   "execution_count": 7,
   "id": "noted-history",
   "metadata": {},
   "outputs": [
    {
     "data": {
      "text/plain": [
       "12"
      ]
     },
     "execution_count": 7,
     "metadata": {},
     "output_type": "execute_result"
    }
   ],
   "source": [
    "names.itemsize"
   ]
  },
  {
   "cell_type": "code",
   "execution_count": 8,
   "id": "north-melbourne",
   "metadata": {},
   "outputs": [
    {
     "data": {
      "text/plain": [
       "array(['bob', 'amy', 'han'], dtype='<U3')"
      ]
     },
     "execution_count": 8,
     "metadata": {},
     "output_type": "execute_result"
    }
   ],
   "source": [
    "names = np.array([\"bob\", \"amy\", \"han\"])\n",
    "names"
   ]
  },
  {
   "cell_type": "code",
   "execution_count": 9,
   "id": "coastal-lexington",
   "metadata": {},
   "outputs": [],
   "source": [
    "more_names = np.array([\"bobo\", \"jehosephat\"])"
   ]
  },
  {
   "cell_type": "code",
   "execution_count": 10,
   "id": "legislative-spider",
   "metadata": {},
   "outputs": [
    {
     "data": {
      "text/plain": [
       "(dtype('<U10'), 40)"
      ]
     },
     "execution_count": 10,
     "metadata": {},
     "output_type": "execute_result"
    }
   ],
   "source": [
    "more_names.dtype, more_names.itemsize"
   ]
  },
  {
   "cell_type": "code",
   "execution_count": 11,
   "id": "future-reach",
   "metadata": {},
   "outputs": [
    {
     "data": {
      "text/plain": [
       "array(['bob', 'amy', 'han', 'bobo', 'jehosephat'], dtype='<U10')"
      ]
     },
     "execution_count": 11,
     "metadata": {},
     "output_type": "execute_result"
    }
   ],
   "source": [
    "np.concatenate((names, more_names))"
   ]
  },
  {
   "cell_type": "markdown",
   "id": "hazardous-assurance",
   "metadata": {},
   "source": [
    "In `names`, you provide a `dtype` of Python’s built-in `str` type, but in its output, it’s been converted into a little-endian Unicode string of size 3. When you check the size of a given item in input 4, you see that they’re each 12 bytes: three 4-byte Unicode characters."
   ]
  },
  {
   "cell_type": "markdown",
   "id": "polished-ebony",
   "metadata": {},
   "source": [
    "> **Note:** When dealing with NumPy data types, you have to think about things like the endianness of your values. In this case, the dtype `'<U3'` means that each value is the size of three Unicode characters, with the least-significant byte stored first in memory and the most-significant byte stored last. A `dtype` of `'>U3'` would signify the reverse.\n",
    ">\n",
    ">As an example, NumPy represents the Unicode character “🐍” with the bytes `0xF4 0x01 0x00` with a dtype of `'<U1'` and `0x00 0x01 0xF4` with a `dtype` of `'>U1'`. Try it out by creating an array full of emoji, setting the dtype to one or the other, and then calling `.tobytes()` on your array!\n",
    ">\n",
    ">If you’d like to study up on how Python treats the ones and zeros of your normal Python data types, then the official documentation for the [struct library](https://docs.python.org/3/library/struct.html#struct-alignment), which is a standard library module that works with raw bytes, is another good resource."
   ]
  },
  {
   "cell_type": "markdown",
   "id": "wrong-beginning",
   "metadata": {},
   "source": [
    "When you combine that with an array that has a larger item to create a new array in input 8, NumPy helpfully figures out how big the new array’s items need to be and grows them all to size `<U10`."
   ]
  },
  {
   "cell_type": "markdown",
   "id": "varying-boating",
   "metadata": {},
   "source": [
    "But here’s what happens when you try to modify one of the slots with a value larger than the capacity of the dtype:"
   ]
  },
  {
   "cell_type": "code",
   "execution_count": 12,
   "id": "still-gabriel",
   "metadata": {},
   "outputs": [
    {
     "data": {
      "text/plain": [
       "array(['bob', 'amy', 'jam'], dtype='<U3')"
      ]
     },
     "execution_count": 12,
     "metadata": {},
     "output_type": "execute_result"
    }
   ],
   "source": [
    "names[2] = \"jamima\"\n",
    "\n",
    "names"
   ]
  },
  {
   "cell_type": "markdown",
   "id": "enabling-casino",
   "metadata": {},
   "source": [
    "It doesn’t work as expected and truncates your value instead. If you already have an array, then NumPy’s automatic size detection won’t work for you. You get three characters and that’s it. The rest get lost in the void."
   ]
  },
  {
   "cell_type": "markdown",
   "id": "common-motivation",
   "metadata": {},
   "source": [
    "This is all to say that, in general, NumPy has your back when you’re working with strings, but you should always keep an eye on the size of your elements and make sure you have enough space when modifying or changing arrays in place."
   ]
  },
  {
   "cell_type": "markdown",
   "id": "supposed-vector",
   "metadata": {},
   "source": [
    "### Structured Arrays\n",
    "\n",
    "Originally, you learned that array items all have to be the same data type, but that wasn’t entirely correct. NumPy has a special kind of array, called a **record array** or **structured array**, with which you can specify a type and, optionally, a name on a per-column basis. This makes sorting and filtering even more powerful, and it can feel similar to working with data in Excel, CSVs, or relational databases."
   ]
  },
  {
   "cell_type": "code",
   "execution_count": null,
   "id": "restricted-grill",
   "metadata": {},
   "outputs": [],
   "source": [
    "import numpy as np"
   ]
  },
  {
   "cell_type": "code",
   "execution_count": 13,
   "id": "italian-handle",
   "metadata": {},
   "outputs": [],
   "source": [
    "data = np.array([\n",
    "    (\"joe\", 32, 6),\n",
    "    (\"mary\", 15, 20),\n",
    "    (\"felipe\", 80, 100),\n",
    "    (\"beyonce\", 38, 9001),\n",
    "], dtype=[(\"name\", str, 10), (\"age\", int), (\"power\", int)])"
   ]
  },
  {
   "cell_type": "code",
   "execution_count": 14,
   "id": "executed-battery",
   "metadata": {},
   "outputs": [
    {
     "data": {
      "text/plain": [
       "('joe', 32, 6)"
      ]
     },
     "execution_count": 14,
     "metadata": {},
     "output_type": "execute_result"
    }
   ],
   "source": [
    "data[0]"
   ]
  },
  {
   "cell_type": "code",
   "execution_count": 15,
   "id": "diverse-butter",
   "metadata": {},
   "outputs": [
    {
     "data": {
      "text/plain": [
       "array(['joe', 'mary', 'felipe', 'beyonce'], dtype='<U10')"
      ]
     },
     "execution_count": 15,
     "metadata": {},
     "output_type": "execute_result"
    }
   ],
   "source": [
    "data[\"name\"]"
   ]
  },
  {
   "cell_type": "code",
   "execution_count": 16,
   "id": "opponent-disease",
   "metadata": {},
   "outputs": [
    {
     "data": {
      "text/plain": [
       "array(['beyonce'], dtype='<U10')"
      ]
     },
     "execution_count": 16,
     "metadata": {},
     "output_type": "execute_result"
    }
   ],
   "source": [
    "data[data[\"power\"] > 9000][\"name\"]"
   ]
  },
  {
   "cell_type": "markdown",
   "id": "forced-boost",
   "metadata": {},
   "source": [
    "By defining `data`, you create an array, except each item is a `tuple` with a name, an age, and a power level. For the `dtype`, you actually provide a list of tuples with the information about each field: name is a 10-character Unicode field, and both age and power are standard 4-byte or 8-byte integers."
   ]
  },
  {
   "cell_type": "markdown",
   "id": "german-matthew",
   "metadata": {},
   "source": [
    "In `data[0]`, you can see that the rows, known as records, are still accessible using the index."
   ]
  },
  {
   "cell_type": "markdown",
   "id": "tested-envelope",
   "metadata": {},
   "source": [
    "In `data['name']`, you see a new syntax for accessing an entire column, or field."
   ]
  },
  {
   "cell_type": "markdown",
   "id": "systematic-charger",
   "metadata": {},
   "source": [
    "Finally, in `data[data[\"power\"] > 9000][\"name\"]`, you see a super-powerful combination of mask-based filtering based on a field and field-based selection. Notice how it’s not that much different to read the following SQL query:\n",
    "\n",
    "```sql\n",
    "SELECT name FROM data WHERE power > 9000;\n",
    "```"
   ]
  },
  {
   "cell_type": "markdown",
   "id": "vulnerable-commons",
   "metadata": {},
   "source": [
    "In both cases, the result is a list of names where the power level is over 9000."
   ]
  },
  {
   "cell_type": "markdown",
   "id": "unable-tumor",
   "metadata": {},
   "source": [
    "You can even add in `ORDER BY` functionality by making use of `np.sort()`:"
   ]
  },
  {
   "cell_type": "code",
   "execution_count": 20,
   "id": "agreed-nicaragua",
   "metadata": {},
   "outputs": [
    {
     "data": {
      "text/plain": [
       "array(['joe', 'felipe', 'beyonce'], dtype='<U10')"
      ]
     },
     "execution_count": 20,
     "metadata": {},
     "output_type": "execute_result"
    }
   ],
   "source": [
    "np.sort(data[data[\"age\"] > 20], order=\"power\")[\"name\"]"
   ]
  },
  {
   "cell_type": "markdown",
   "id": "blessed-router",
   "metadata": {},
   "source": [
    "This sorts the data by power before retrieving it, which rounds out your selection of NumPy tools for selecting, filtering, and sorting items just like you might in SQL!"
   ]
  },
  {
   "cell_type": "markdown",
   "id": "greenhouse-courtesy",
   "metadata": {},
   "source": [
    "## Data Type Objects (`dtype`)"
   ]
  },
  {
   "cell_type": "markdown",
   "id": "diverse-education",
   "metadata": {},
   "source": [
    "A data type object (an instance of numpy.dtype class) describes how the bytes in the fixed-size block of memory corresponding to an array item should be interpreted. It describes the following aspects of the data:\n",
    "\n",
    "- Type of the data (integer, float, Python object, etc.)\n",
    "- Size of the data (how many bytes is in e.g. the integer)\n",
    "- Byte order of the data (little-endian or big-endian)\n",
    "- If the data type is structured data type, an aggregate of other data types, (e.g., describing an array item consisting of an integer and a float),\n",
    "  - what are the names of the “fields” of the structure, by which they can be accessed,\n",
    "  - what is the data-type of each field, and\n",
    "  - which part of the memory block each field takes.\n",
    "- If the data type is a sub-array, what is its shape and data type."
   ]
  },
  {
   "cell_type": "markdown",
   "id": "floral-liberal",
   "metadata": {},
   "source": [
    "To describe the type of scalar data, there are several built-in scalar types in NumPy for various precision of integers, floating-point numbers, etc. An item extracted from an array, e.g., by indexing, will be a Python object whose type is the scalar type associated with the data type of the array."
   ]
  },
  {
   "cell_type": "markdown",
   "id": "divided-radar",
   "metadata": {},
   "source": [
    "> **Note:** Note that the scalar types are not dtype objects, even though they can be used in place of one whenever a data type specification is needed in NumPy."
   ]
  },
  {
   "cell_type": "markdown",
   "id": "strategic-smart",
   "metadata": {},
   "source": [
    "Structured data types are formed by creating a data type whose field contain other data types. Each field has a name by which it can be accessed. The parent data type should be of sufficient size to contain all its fields; the parent is nearly always based on the void type which allows an arbitrary item size. Structured data types may also contain nested structured sub-array data types in their fields."
   ]
  },
  {
   "cell_type": "markdown",
   "id": "alien-grass",
   "metadata": {},
   "source": [
    "Finally, a data type can describe items that are themselves arrays of items of another data type. These sub-arrays must, however, be of a fixed size.m"
   ]
  },
  {
   "cell_type": "markdown",
   "id": "motivated-aurora",
   "metadata": {},
   "source": [
    "If an array is created using a data-type describing a sub-array, the dimensions of the sub-array are appended to the shape of the array when the array is created. Sub-arrays in a field of a structured type behave differently, see [Field Access Numpy Documentation](https://numpy.org/doc/stable/reference/arrays.indexing.html#arrays-indexing-fields)."
   ]
  },
  {
   "cell_type": "markdown",
   "id": "occasional-island",
   "metadata": {},
   "source": [
    "Sub-arrays always have a C-contiguous memory layout."
   ]
  },
  {
   "cell_type": "markdown",
   "id": "loose-trust",
   "metadata": {},
   "source": [
    "A simple data type containing a 32-bit big-endian integer:"
   ]
  },
  {
   "cell_type": "code",
   "execution_count": 15,
   "id": "lesbian-guidance",
   "metadata": {},
   "outputs": [],
   "source": [
    "dt = np.dtype('>i4')"
   ]
  },
  {
   "cell_type": "code",
   "execution_count": 17,
   "id": "violent-black",
   "metadata": {},
   "outputs": [
    {
     "data": {
      "text/plain": [
       "'>'"
      ]
     },
     "execution_count": 17,
     "metadata": {},
     "output_type": "execute_result"
    }
   ],
   "source": [
    "dt.byteorder"
   ]
  },
  {
   "cell_type": "code",
   "execution_count": 18,
   "id": "worth-provider",
   "metadata": {},
   "outputs": [
    {
     "data": {
      "text/plain": [
       "4"
      ]
     },
     "execution_count": 18,
     "metadata": {},
     "output_type": "execute_result"
    }
   ],
   "source": [
    "dt.itemsize"
   ]
  },
  {
   "cell_type": "code",
   "execution_count": 19,
   "id": "sacred-donna",
   "metadata": {},
   "outputs": [
    {
     "data": {
      "text/plain": [
       "'int32'"
      ]
     },
     "execution_count": 19,
     "metadata": {},
     "output_type": "execute_result"
    }
   ],
   "source": [
    "dt.name"
   ]
  },
  {
   "cell_type": "code",
   "execution_count": 20,
   "id": "alive-keeping",
   "metadata": {},
   "outputs": [
    {
     "data": {
      "text/plain": [
       "True"
      ]
     },
     "execution_count": 20,
     "metadata": {},
     "output_type": "execute_result"
    }
   ],
   "source": [
    "dt.type is np.int32"
   ]
  },
  {
   "cell_type": "markdown",
   "id": "interior-somewhere",
   "metadata": {},
   "source": [
    "A structured data type containing a 16-character string (in field ‍`name`) and a sub-array of two 64-bit floating-point number (in field `grades`):"
   ]
  },
  {
   "cell_type": "code",
   "execution_count": 21,
   "id": "explicit-links",
   "metadata": {},
   "outputs": [],
   "source": [
    "dt = np.dtype([('name', np.unicode_, 16), ('grades', np.float64, (2,))])"
   ]
  },
  {
   "cell_type": "code",
   "execution_count": 22,
   "id": "curious-arthritis",
   "metadata": {},
   "outputs": [
    {
     "data": {
      "text/plain": [
       "dtype('<U16')"
      ]
     },
     "execution_count": 22,
     "metadata": {},
     "output_type": "execute_result"
    }
   ],
   "source": [
    "dt['name']"
   ]
  },
  {
   "cell_type": "code",
   "execution_count": 23,
   "id": "solved-starter",
   "metadata": {},
   "outputs": [
    {
     "data": {
      "text/plain": [
       "dtype(('<f8', (2,)))"
      ]
     },
     "execution_count": 23,
     "metadata": {},
     "output_type": "execute_result"
    }
   ],
   "source": [
    "dt['grades']"
   ]
  },
  {
   "cell_type": "markdown",
   "id": "formal-puzzle",
   "metadata": {},
   "source": [
    "Items of an array of this data type are wrapped in an array scalar type that also has two fields:"
   ]
  },
  {
   "cell_type": "code",
   "execution_count": 24,
   "id": "traditional-sharp",
   "metadata": {},
   "outputs": [],
   "source": [
    "x = np.array([('Sarah', (8.0, 7.0)), ('John', (6.0, 7.0))], dtype=dt)"
   ]
  },
  {
   "cell_type": "code",
   "execution_count": 25,
   "id": "beneficial-mentor",
   "metadata": {},
   "outputs": [
    {
     "data": {
      "text/plain": [
       "('John', [6., 7.])"
      ]
     },
     "execution_count": 25,
     "metadata": {},
     "output_type": "execute_result"
    }
   ],
   "source": [
    "x[1]"
   ]
  },
  {
   "cell_type": "code",
   "execution_count": 26,
   "id": "respective-georgia",
   "metadata": {},
   "outputs": [
    {
     "data": {
      "text/plain": [
       "array([6., 7.])"
      ]
     },
     "execution_count": 26,
     "metadata": {},
     "output_type": "execute_result"
    }
   ],
   "source": [
    "x[1]['grades']"
   ]
  },
  {
   "cell_type": "code",
   "execution_count": 28,
   "id": "french-mixer",
   "metadata": {},
   "outputs": [
    {
     "data": {
      "text/plain": [
       "numpy.void"
      ]
     },
     "execution_count": 28,
     "metadata": {},
     "output_type": "execute_result"
    }
   ],
   "source": [
    "type(x[1])"
   ]
  },
  {
   "cell_type": "code",
   "execution_count": 29,
   "id": "foster-cholesterol",
   "metadata": {},
   "outputs": [
    {
     "data": {
      "text/plain": [
       "numpy.ndarray"
      ]
     },
     "execution_count": 29,
     "metadata": {},
     "output_type": "execute_result"
    }
   ],
   "source": [
    "type(x[1]['grades'])"
   ]
  },
  {
   "cell_type": "markdown",
   "id": "annual-print",
   "metadata": {},
   "source": [
    "## Specifying and constructing data types"
   ]
  },
  {
   "cell_type": "markdown",
   "id": "perfect-opinion",
   "metadata": {},
   "source": [
    "Whenever a data-type is required in a NumPy function or method, either a dtype object or something that can be converted to one can be supplied. Such conversions are done by the dtype constructor:"
   ]
  },
  {
   "cell_type": "code",
   "execution_count": 30,
   "id": "valuable-progress",
   "metadata": {},
   "outputs": [],
   "source": [
    "dt = np.dtype(np.int32)      # 32-bit integer"
   ]
  },
  {
   "cell_type": "code",
   "execution_count": 31,
   "id": "comparable-people",
   "metadata": {},
   "outputs": [],
   "source": [
    "dt = np.dtype(np.complex128) # 128-bit complex floating-point number"
   ]
  },
  {
   "cell_type": "markdown",
   "id": "aerial-convenience",
   "metadata": {},
   "source": [
    "Several python types are equivalent to a corresponding array scalar when used to generate a dtype object:"
   ]
  },
  {
   "cell_type": "markdown",
   "id": "purple-print",
   "metadata": {},
   "source": [
    "|built-in python type|numpy type|\n",
    "|:--|:--|\n",
    "|`int`|`int_`|\n",
    "|`bool`|`bool_`|\n",
    "|`float`|`float_`|\n",
    "|`complex`|`cfloat`|\n",
    "|`bytes`|`bytes_`|\n",
    "|`str`|`str_`|\n",
    "|`buffer`|`void`|\n",
    "|all others|`object_`|"
   ]
  },
  {
   "cell_type": "markdown",
   "id": "ethical-zambia",
   "metadata": {},
   "source": [
    "### More on Data Types"
   ]
  },
  {
   "cell_type": "markdown",
   "id": "soviet-judge",
   "metadata": {},
   "source": [
    "This section of the tutorial was designed to get you just enough knowledge to be productive with NumPy’s data types, understand a little of how things work under the hood, and recognize some common pitfalls. It’s certainly not an exhaustive guide. The [NumPy documentation on `ndarrays`](https://numpy.org/doc/stable/reference/arrays.ndarray.html#internal-memory-layout-of-an-ndarray) has tons more resources."
   ]
  },
  {
   "cell_type": "markdown",
   "id": "dental-notebook",
   "metadata": {},
   "source": [
    "There’s also a lot more information on [`dtype` objects](https://numpy.org/doc/stable/reference/arrays.dtypes.html), including the different ways to construct, customize, and optimize them and how to make them more robust for all your data-handling needs. If you run into trouble and your data isn’t loading into arrays exactly how you expected, then that’s a good place to start."
   ]
  },
  {
   "cell_type": "markdown",
   "id": "decreased-thousand",
   "metadata": {},
   "source": [
    "Lastly, the NumPy `recarray` is a powerful object in its own right, and you’ve really only scratched the surface of the capabilities of structured datasets. It’s definitely worth reading through the [`recarray` documentation](https://numpy.org/doc/stable/reference/generated/numpy.recarray.html) as well as the documentation for the other specialized array [subclasses](https://numpy.org/doc/stable/reference/arrays.classes.html) that NumPy provides."
   ]
  }
 ],
 "metadata": {
  "kernelspec": {
   "display_name": "Python 3",
   "language": "python",
   "name": "python3"
  },
  "language_info": {
   "codemirror_mode": {
    "name": "ipython",
    "version": 3
   },
   "file_extension": ".py",
   "mimetype": "text/x-python",
   "name": "python",
   "nbconvert_exporter": "python",
   "pygments_lexer": "ipython3",
   "version": "3.7.9"
  }
 },
 "nbformat": 4,
 "nbformat_minor": 5
}
