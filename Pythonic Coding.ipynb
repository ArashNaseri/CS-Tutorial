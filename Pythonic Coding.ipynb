{
 "cells": [
  {
   "cell_type": "markdown",
   "id": "nominated-preserve",
   "metadata": {},
   "source": [
    "# Pythonic Coding"
   ]
  },
  {
   "cell_type": "code",
   "execution_count": 7,
   "id": "documented-forth",
   "metadata": {},
   "outputs": [],
   "source": [
    "# NO!\n",
    "mydict = {\"one\": 1, \"two\": 2}\n",
    "\n",
    "# use this:\n",
    "mydict = dict(one=1, two=2)"
   ]
  },
  {
   "cell_type": "markdown",
   "id": "beneficial-approval",
   "metadata": {},
   "source": [
    "Use `namedtuple`"
   ]
  },
  {
   "cell_type": "code",
   "execution_count": 8,
   "id": "foster-feelings",
   "metadata": {},
   "outputs": [],
   "source": [
    "import collections\n",
    "\n",
    "Card = collections.namedtuple('Card', ['rank', 'suit'])"
   ]
  },
  {
   "cell_type": "code",
   "execution_count": 10,
   "id": "advance-criticism",
   "metadata": {},
   "outputs": [],
   "source": [
    "c = Card('A', 'Club')"
   ]
  },
  {
   "cell_type": "code",
   "execution_count": 12,
   "id": "recreational-bahamas",
   "metadata": {},
   "outputs": [
    {
     "data": {
      "text/plain": [
       "('A', 'Club')"
      ]
     },
     "execution_count": 12,
     "metadata": {},
     "output_type": "execute_result"
    }
   ],
   "source": [
    "c.rank, c.suit"
   ]
  },
  {
   "cell_type": "code",
   "execution_count": null,
   "id": "occasional-sugar",
   "metadata": {},
   "outputs": [],
   "source": []
  }
 ],
 "metadata": {
  "hide_code_all_hidden": true,
  "kernelspec": {
   "display_name": "Python 3",
   "language": "python",
   "name": "python3"
  },
  "language_info": {
   "codemirror_mode": {
    "name": "ipython",
    "version": 3
   },
   "file_extension": ".py",
   "mimetype": "text/x-python",
   "name": "python",
   "nbconvert_exporter": "python",
   "pygments_lexer": "ipython3",
   "version": "3.7.9"
  }
 },
 "nbformat": 4,
 "nbformat_minor": 5
}
