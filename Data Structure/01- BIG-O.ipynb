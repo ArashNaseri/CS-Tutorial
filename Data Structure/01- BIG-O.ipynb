{
 "cells": [
  {
   "cell_type": "markdown",
   "metadata": {},
   "source": [
    "# 01- Big-O"
   ]
  },
  {
   "cell_type": "markdown",
   "metadata": {},
   "source": [
    "## Table of Contents:\n",
    "* [1. Time Complexity](#time-complexity)\n",
    "    * [1. File Transfer Program](#file-transfer-problem)\n",
    "    * [1. Common Big-Os](#common-big-o)\n",
    "    * [1. Examples](#examples)\n",
    "* [2. Space Complexity](#space-complexity)"
   ]
  },
  {
   "cell_type": "markdown",
   "metadata": {},
   "source": [
    "<a class=\"anchor\" id=\"time-complexity\"></a>\n",
    "## 1. Time Complexity"
   ]
  },
  {
   "cell_type": "markdown",
   "metadata": {},
   "source": [
    "<a class=\"anchor\" id=\"file-transfer-problem\"></a>\n",
    "### 1.1 File Transfer Problem\n",
    "**How to transfer a file?**\n",
    "1. plane: O(1)\n",
    "2. email: O(s)"
   ]
  },
  {
   "cell_type": "markdown",
   "metadata": {},
   "source": [
    "<a class=\"anchor\" id=\"common-big-o\"></a>\n",
    "### 1.2 Common Big-Os\n",
    "- O(1)\n",
    "- O(Log N)\n",
    "- O(N)\n",
    "- O(N Log N)\n",
    "- O(N^2)\n",
    "- O(2^N)"
   ]
  },
  {
   "cell_type": "markdown",
   "metadata": {},
   "source": [
    "<a class=\"anchor\" id=\"examples\"></a>\n",
    "### 1.3 Examples"
   ]
  },
  {
   "cell_type": "markdown",
   "metadata": {},
   "source": [
    "```java\n",
    "void printUnorderedPairs(int[] arrayA, int[] arrayB){\n",
    "    for (int i = 0; i < arrayA.length; i++){\n",
    "        for (int j = 0; j < arrayB.length; j++){\n",
    "            /* O(1) work here */\n",
    "        }\n",
    "    }\n",
    "}\n",
    "```"
   ]
  },
  {
   "cell_type": "markdown",
   "metadata": {},
   "source": [
    "```java\n",
    "void printUnorderedPairs(int[] arrayA, int[] arrayB){\n",
    "    for (int i = 0; i < arrayA.length; i++){\n",
    "        for (int j = 0; j < arrayB.length; j++){\n",
    "            for (int k = 0; k <= 100; k++){\n",
    "                /* O(1) work here */\n",
    "            }\n",
    "        }\n",
    "    }\n",
    "}\n",
    "```"
   ]
  },
  {
   "cell_type": "markdown",
   "metadata": {},
   "source": [
    "<a class=\"anchor\" id=\"space-complexity\"></a>\n",
    "## 2. Space Complexity"
   ]
  },
  {
   "cell_type": "code",
   "execution_count": null,
   "metadata": {},
   "outputs": [],
   "source": []
  }
 ],
 "metadata": {
  "kernelspec": {
   "display_name": "Python 3",
   "language": "python",
   "name": "python3"
  },
  "language_info": {
   "codemirror_mode": {
    "name": "ipython",
    "version": 3
   },
   "file_extension": ".py",
   "mimetype": "text/x-python",
   "name": "python",
   "nbconvert_exporter": "python",
   "pygments_lexer": "ipython3",
   "version": "3.7.6"
  }
 },
 "nbformat": 4,
 "nbformat_minor": 4
}
