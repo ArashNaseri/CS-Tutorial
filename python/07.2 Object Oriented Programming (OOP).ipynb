{
 "cells": [
  {
   "cell_type": "markdown",
   "metadata": {},
   "source": [
    "# 07.2 Object Oriented Programming (OOP)"
   ]
  },
  {
   "cell_type": "markdown",
   "metadata": {},
   "source": [
    "A class in python is defined as below:\n",
    "\n",
    "\n",
    "```python\n",
    "class NameOfClass():\n",
    "    # class object attribute\n",
    "    # same for any instance of a class\n",
    "    class_var = [] #\n",
    "\n",
    "    def __init__(self, param1, param2):\n",
    "        self.param1 = param1\n",
    "        self.param2 = param2\n",
    "\n",
    "        flag = True\n",
    "\n",
    "    def some_method(self):\n",
    "        local_var = 3\n",
    "        # perfome some action\n",
    "        pass\n",
    "```"
   ]
  },
  {
   "cell_type": "markdown",
   "metadata": {},
   "source": [
    "There are 3 types of variables here:\n",
    "1. class variables, [`class_var`] (shared among all objects)\n",
    "2. object variables [`self.param1`, `self.param2`]\n",
    "3. local variables [`flag` and `local_var`]"
   ]
  },
  {
   "cell_type": "code",
   "execution_count": 10,
   "metadata": {},
   "outputs": [],
   "source": [
    "class Student():\n",
    "    \n",
    "    def __init__(self, name, student_id, grades={}):\n",
    "        self.name = name\n",
    "        self.student_id = student_id\n",
    "        self.grades = {}\n",
    "        \n",
    "    def calculate_gpa(self):\n",
    "        num_courses = len(self.grades)\n",
    "        \n",
    "        if not num_courses:\n",
    "            return 0\n",
    "        \n",
    "        gpa = sum(self.grades.values()) / num_courses\n",
    "        return gpa"
   ]
  },
  {
   "cell_type": "code",
   "execution_count": 11,
   "metadata": {},
   "outputs": [],
   "source": [
    "st_1 = Student(\"Ali\", \"123\")"
   ]
  },
  {
   "cell_type": "code",
   "execution_count": 12,
   "metadata": {},
   "outputs": [
    {
     "data": {
      "text/plain": [
       "0"
      ]
     },
     "execution_count": 12,
     "metadata": {},
     "output_type": "execute_result"
    }
   ],
   "source": [
    "st_1.calculate_gpa()"
   ]
  },
  {
   "cell_type": "code",
   "execution_count": 13,
   "metadata": {},
   "outputs": [],
   "source": [
    "st_2 = Student(\"Mohsen\", \"456\", {\"Math\": 4, \"Physics\": 3.7})"
   ]
  },
  {
   "cell_type": "code",
   "execution_count": 14,
   "metadata": {},
   "outputs": [
    {
     "data": {
      "text/plain": [
       "0"
      ]
     },
     "execution_count": 14,
     "metadata": {},
     "output_type": "execute_result"
    }
   ],
   "source": [
    "st_2.calculate_gpa()"
   ]
  },
  {
   "cell_type": "markdown",
   "metadata": {},
   "source": [
    "## How the Syntax Works\n",
    "```python\n",
    ">>> obj = MyClass()\n",
    ">>> obj.method()\n",
    "('instance method called', <MyClass instance at 0x101a2f4c8>)\n",
    "```\n",
    "\n",
    "When the method is called, Python replaces the self argument with the instance object, obj. We could ignore the syntactic sugar of the dot-call syntax (`obj.method()`) and pass the instance object manually to get the same result:\n",
    "\n",
    "```python\n",
    ">>> MyClass.method(obj)\n",
    "('instance method called', <MyClass instance at 0x101a2f4c8>)\n",
    "```"
   ]
  },
  {
   "cell_type": "code",
   "execution_count": 15,
   "metadata": {},
   "outputs": [],
   "source": [
    "st1 = Student(name=\"Ali\", student_id=\"123\")"
   ]
  },
  {
   "cell_type": "code",
   "execution_count": 18,
   "metadata": {},
   "outputs": [
    {
     "data": {
      "text/plain": [
       "0"
      ]
     },
     "execution_count": 18,
     "metadata": {},
     "output_type": "execute_result"
    }
   ],
   "source": [
    "# these two lines do the same\n",
    "# the second line is often simplest and often used but is just only a syntactic sugar.\n",
    "Student.calculate_gpa(st1)\n",
    "st1.calculate_gpa()"
   ]
  },
  {
   "cell_type": "code",
   "execution_count": null,
   "metadata": {},
   "outputs": [],
   "source": []
  }
 ],
 "metadata": {
  "kernelspec": {
   "display_name": "Python 3",
   "language": "python",
   "name": "python3"
  },
  "language_info": {
   "codemirror_mode": {
    "name": "ipython",
    "version": 3
   },
   "file_extension": ".py",
   "mimetype": "text/x-python",
   "name": "python",
   "nbconvert_exporter": "python",
   "pygments_lexer": "ipython3",
   "version": "3.7.6"
  }
 },
 "nbformat": 4,
 "nbformat_minor": 4
}
