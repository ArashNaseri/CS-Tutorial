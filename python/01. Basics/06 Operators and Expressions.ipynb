{
 "cells": [
  {
   "cell_type": "markdown",
   "id": "specified-challenge",
   "metadata": {},
   "source": [
    "# Operators and Expressions\n",
    "\n",
    "In Python, operators are special symbols that designate that some sort of computation should be performed. The values that an operator acts on are called **operands**."
   ]
  },
  {
   "cell_type": "markdown",
   "id": "potential-desire",
   "metadata": {},
   "source": [
    "Here is an example:"
   ]
  },
  {
   "cell_type": "code",
   "execution_count": 2,
   "id": "enhanced-david",
   "metadata": {},
   "outputs": [],
   "source": [
    "a = 10\n",
    "b = 20"
   ]
  },
  {
   "cell_type": "code",
   "execution_count": 3,
   "id": "found-priority",
   "metadata": {},
   "outputs": [
    {
     "data": {
      "text/plain": [
       "30"
      ]
     },
     "execution_count": 3,
     "metadata": {},
     "output_type": "execute_result"
    }
   ],
   "source": [
    "a + b"
   ]
  },
  {
   "cell_type": "markdown",
   "id": "abroad-bernard",
   "metadata": {},
   "source": [
    "In this case, the `+` operator adds the operands `a` and `b` together. An operand can be either a literal value or a variable that references an object:"
   ]
  },
  {
   "cell_type": "code",
   "execution_count": 4,
   "id": "ancient-remainder",
   "metadata": {},
   "outputs": [],
   "source": [
    "a = 10\n",
    "b = 20"
   ]
  },
  {
   "cell_type": "code",
   "execution_count": 5,
   "id": "affected-campus",
   "metadata": {},
   "outputs": [
    {
     "data": {
      "text/plain": [
       "25"
      ]
     },
     "execution_count": 5,
     "metadata": {},
     "output_type": "execute_result"
    }
   ],
   "source": [
    "a + b - 5"
   ]
  },
  {
   "cell_type": "markdown",
   "id": "august-punishment",
   "metadata": {},
   "source": [
    "A sequence of operands and operators, like `a + b - 5`, is called an **expression**. Python supports many operators for combining data objects into expressions. These are explored below."
   ]
  },
  {
   "cell_type": "markdown",
   "id": "ordered-infection",
   "metadata": {},
   "source": [
    "## Arithmetic Operators"
   ]
  },
  {
   "cell_type": "markdown",
   "id": "identical-surprise",
   "metadata": {},
   "source": [
    "The following table lists the arithmetic operators supported by Python:\n",
    "\n",
    "\n",
    "|Operator | Example | Meaning | Result|\n",
    "|:--|:--|:--|:--|\n",
    "|`+` (unary) |\t`+a`\t| **Unary Positive** | `a` In other words, it doesn’t really do anything. It mostly exists for the sake of completeness, to complement Unary Negation.|\n",
    "|`+` (binary) |\t`a + b`\t| **Addition** |\tSum of `a` and `b` |\n",
    "|`-` (unary) |\t`-a`\t| **Unary Negation** |\tValue equal to `a` but opposite in sign |\n",
    "|`-` (binary) |\t`a - b`\t| **Subtraction** | `b` subtracted from `a` |\n",
    "|`*`|\t`a * b`\t| **Multiplication** | Product of `a` and `b` |\n",
    "|`/`|\t`a / b`\t| **Division** | Quotient when `a` is divided by `b`. The result always has type float. |\n",
    "|`%`|\t`a % b`\t| **Modulo** | Remainder when `a` is divided by `b` |\n",
    "|`//`|\t`a // b`\t| **Floor Division** | (also called Integer Division)\tQuotient when `a` is divided by `b`, rounded to the next smallest whole number |\n",
    "|`**`|\t`a ** b`\t| **Exponentiation** | `a` raised to the power of `b` |"
   ]
  },
  {
   "cell_type": "markdown",
   "id": "optical-sarah",
   "metadata": {},
   "source": [
    "Here are some examples of these operators in use:"
   ]
  },
  {
   "cell_type": "code",
   "execution_count": 104,
   "id": "verbal-estimate",
   "metadata": {},
   "outputs": [],
   "source": [
    "a = 4\n",
    "b = 3"
   ]
  },
  {
   "cell_type": "code",
   "execution_count": 105,
   "id": "stuck-improvement",
   "metadata": {},
   "outputs": [
    {
     "data": {
      "text/plain": [
       "4"
      ]
     },
     "execution_count": 105,
     "metadata": {},
     "output_type": "execute_result"
    }
   ],
   "source": [
    "+a"
   ]
  },
  {
   "cell_type": "code",
   "execution_count": 8,
   "id": "activated-compilation",
   "metadata": {},
   "outputs": [
    {
     "data": {
      "text/plain": [
       "-3"
      ]
     },
     "execution_count": 8,
     "metadata": {},
     "output_type": "execute_result"
    }
   ],
   "source": [
    "-b"
   ]
  },
  {
   "cell_type": "code",
   "execution_count": 9,
   "id": "operational-heading",
   "metadata": {},
   "outputs": [
    {
     "data": {
      "text/plain": [
       "7"
      ]
     },
     "execution_count": 9,
     "metadata": {},
     "output_type": "execute_result"
    }
   ],
   "source": [
    "a + b"
   ]
  },
  {
   "cell_type": "code",
   "execution_count": 10,
   "id": "requested-jewel",
   "metadata": {},
   "outputs": [
    {
     "data": {
      "text/plain": [
       "1"
      ]
     },
     "execution_count": 10,
     "metadata": {},
     "output_type": "execute_result"
    }
   ],
   "source": [
    "a - b"
   ]
  },
  {
   "cell_type": "code",
   "execution_count": 11,
   "id": "wrapped-description",
   "metadata": {},
   "outputs": [
    {
     "data": {
      "text/plain": [
       "12"
      ]
     },
     "execution_count": 11,
     "metadata": {},
     "output_type": "execute_result"
    }
   ],
   "source": [
    "a * b"
   ]
  },
  {
   "cell_type": "code",
   "execution_count": 12,
   "id": "legal-cliff",
   "metadata": {},
   "outputs": [
    {
     "data": {
      "text/plain": [
       "1.3333333333333333"
      ]
     },
     "execution_count": 12,
     "metadata": {},
     "output_type": "execute_result"
    }
   ],
   "source": [
    "a / b"
   ]
  },
  {
   "cell_type": "code",
   "execution_count": 13,
   "id": "opposite-thesaurus",
   "metadata": {},
   "outputs": [
    {
     "data": {
      "text/plain": [
       "1"
      ]
     },
     "execution_count": 13,
     "metadata": {},
     "output_type": "execute_result"
    }
   ],
   "source": [
    "a % b"
   ]
  },
  {
   "cell_type": "code",
   "execution_count": 14,
   "id": "tutorial-buying",
   "metadata": {},
   "outputs": [
    {
     "data": {
      "text/plain": [
       "64"
      ]
     },
     "execution_count": 14,
     "metadata": {},
     "output_type": "execute_result"
    }
   ],
   "source": [
    "a ** b"
   ]
  },
  {
   "cell_type": "markdown",
   "id": "sorted-shape",
   "metadata": {},
   "source": [
    "The result of standard division (`/`) is always a `float`, even if the dividend is evenly divisible by the divisor:"
   ]
  },
  {
   "cell_type": "code",
   "execution_count": 15,
   "id": "military-retirement",
   "metadata": {},
   "outputs": [
    {
     "data": {
      "text/plain": [
       "2.0"
      ]
     },
     "execution_count": 15,
     "metadata": {},
     "output_type": "execute_result"
    }
   ],
   "source": [
    "10 / 5"
   ]
  },
  {
   "cell_type": "code",
   "execution_count": 16,
   "id": "electronic-roman",
   "metadata": {},
   "outputs": [
    {
     "data": {
      "text/plain": [
       "float"
      ]
     },
     "execution_count": 16,
     "metadata": {},
     "output_type": "execute_result"
    }
   ],
   "source": [
    "type(10 / 5)"
   ]
  },
  {
   "cell_type": "markdown",
   "id": "incorporated-census",
   "metadata": {},
   "source": [
    "When the result of floor division (`//`) is positive, it is as though the fractional portion is truncated off, leaving only the integer portion. When the result is negative, the result is rounded down to the next smallest (greater negative) integer:"
   ]
  },
  {
   "cell_type": "code",
   "execution_count": 17,
   "id": "medical-patient",
   "metadata": {},
   "outputs": [
    {
     "data": {
      "text/plain": [
       "2.5"
      ]
     },
     "execution_count": 17,
     "metadata": {},
     "output_type": "execute_result"
    }
   ],
   "source": [
    "10 / 4"
   ]
  },
  {
   "cell_type": "code",
   "execution_count": 18,
   "id": "immune-terrain",
   "metadata": {},
   "outputs": [
    {
     "data": {
      "text/plain": [
       "2"
      ]
     },
     "execution_count": 18,
     "metadata": {},
     "output_type": "execute_result"
    }
   ],
   "source": [
    "10 // 4"
   ]
  },
  {
   "cell_type": "code",
   "execution_count": 19,
   "id": "extensive-sterling",
   "metadata": {},
   "outputs": [
    {
     "data": {
      "text/plain": [
       "-3"
      ]
     },
     "execution_count": 19,
     "metadata": {},
     "output_type": "execute_result"
    }
   ],
   "source": [
    "10 // -4"
   ]
  },
  {
   "cell_type": "code",
   "execution_count": 20,
   "id": "enabling-elder",
   "metadata": {},
   "outputs": [
    {
     "data": {
      "text/plain": [
       "-3"
      ]
     },
     "execution_count": 20,
     "metadata": {},
     "output_type": "execute_result"
    }
   ],
   "source": [
    "-10 // 4"
   ]
  },
  {
   "cell_type": "code",
   "execution_count": 21,
   "id": "competitive-presence",
   "metadata": {},
   "outputs": [
    {
     "data": {
      "text/plain": [
       "2"
      ]
     },
     "execution_count": 21,
     "metadata": {},
     "output_type": "execute_result"
    }
   ],
   "source": [
    "-10 // -4"
   ]
  },
  {
   "cell_type": "markdown",
   "id": "secure-internship",
   "metadata": {},
   "source": [
    "## Comparison Operators\n",
    "\n",
    "|Operator |\tExample |\tMeaning |\tResult |\n",
    "|:--|:--|:--|:--|\n",
    "|`==` |\t`a == b` |\t**Equal to** | `True` if the value of `a` is equal to the value of `b`. `False` otherwise |\n",
    "|`!=` |\t`a != b` |\t**Not equal to** | `True` if `a` is not equal to `b`. `False` otherwise |\n",
    "|`<` |\t`a < b` |\t**Less than** | `True` if `a` is less than `b`. `False` otherwise |\n",
    "|`<=` |\t`a <= b` |\t**Less than or equal to** | `True` if `a` is less than or equal to `b`. `False` otherwise |\n",
    "|`>` |\t`a > b` |\t**Greater than** | `True` if `a` is greater than `b`. `False` otherwise |\n",
    "|`>=` |\t`a >= b` |\t**Greater than or equal to** | `True` if `a` is greater than or equal to `b`. `False` otherwise |"
   ]
  },
  {
   "cell_type": "markdown",
   "id": "mediterranean-tissue",
   "metadata": {},
   "source": [
    "Here are examples of the comparison operators in use:"
   ]
  },
  {
   "cell_type": "code",
   "execution_count": 23,
   "id": "ongoing-ranch",
   "metadata": {},
   "outputs": [],
   "source": [
    "a = 10\n",
    "b = 20"
   ]
  },
  {
   "cell_type": "code",
   "execution_count": 24,
   "id": "homeless-arthur",
   "metadata": {},
   "outputs": [
    {
     "data": {
      "text/plain": [
       "False"
      ]
     },
     "execution_count": 24,
     "metadata": {},
     "output_type": "execute_result"
    }
   ],
   "source": [
    "a == b"
   ]
  },
  {
   "cell_type": "code",
   "execution_count": 25,
   "id": "excited-dinner",
   "metadata": {},
   "outputs": [
    {
     "data": {
      "text/plain": [
       "True"
      ]
     },
     "execution_count": 25,
     "metadata": {},
     "output_type": "execute_result"
    }
   ],
   "source": [
    "a != b"
   ]
  },
  {
   "cell_type": "code",
   "execution_count": 26,
   "id": "transsexual-rescue",
   "metadata": {},
   "outputs": [
    {
     "data": {
      "text/plain": [
       "True"
      ]
     },
     "execution_count": 26,
     "metadata": {},
     "output_type": "execute_result"
    }
   ],
   "source": [
    "a <= b"
   ]
  },
  {
   "cell_type": "code",
   "execution_count": 27,
   "id": "piano-parking",
   "metadata": {},
   "outputs": [
    {
     "data": {
      "text/plain": [
       "False"
      ]
     },
     "execution_count": 27,
     "metadata": {},
     "output_type": "execute_result"
    }
   ],
   "source": [
    "a >= b"
   ]
  },
  {
   "cell_type": "code",
   "execution_count": 28,
   "id": "explicit-characterization",
   "metadata": {},
   "outputs": [],
   "source": [
    "a = 30\n",
    "b = 30"
   ]
  },
  {
   "cell_type": "code",
   "execution_count": 29,
   "id": "meaningful-currency",
   "metadata": {},
   "outputs": [
    {
     "data": {
      "text/plain": [
       "True"
      ]
     },
     "execution_count": 29,
     "metadata": {},
     "output_type": "execute_result"
    }
   ],
   "source": [
    "a == b"
   ]
  },
  {
   "cell_type": "code",
   "execution_count": 30,
   "id": "entitled-reference",
   "metadata": {},
   "outputs": [
    {
     "data": {
      "text/plain": [
       "True"
      ]
     },
     "execution_count": 30,
     "metadata": {},
     "output_type": "execute_result"
    }
   ],
   "source": [
    "a <= b"
   ]
  },
  {
   "cell_type": "code",
   "execution_count": 31,
   "id": "middle-immune",
   "metadata": {},
   "outputs": [
    {
     "data": {
      "text/plain": [
       "True"
      ]
     },
     "execution_count": 31,
     "metadata": {},
     "output_type": "execute_result"
    }
   ],
   "source": [
    "a >= b"
   ]
  },
  {
   "cell_type": "markdown",
   "id": "czech-wesley",
   "metadata": {},
   "source": [
    "Comparison operators are typically used in Boolean contexts like conditional and loop statements to direct program flow, as you will see later."
   ]
  },
  {
   "cell_type": "markdown",
   "id": "cloudy-pierre",
   "metadata": {},
   "source": [
    "### Equality Comparison on Floating-Point Values\n",
    "\n",
    "Recall from the earlier discussion of floating-point numbers that the value stored internally for a float object may not be precisely what you’d think it would be. For that reason, it is poor practice to compare floating-point values for exact equality. Consider this example:"
   ]
  },
  {
   "cell_type": "code",
   "execution_count": 119,
   "id": "resident-royalty",
   "metadata": {},
   "outputs": [
    {
     "data": {
      "text/plain": [
       "False"
      ]
     },
     "execution_count": 119,
     "metadata": {},
     "output_type": "execute_result"
    }
   ],
   "source": [
    "x = 1.1 + 2.2\n",
    "x == 3.3"
   ]
  },
  {
   "cell_type": "markdown",
   "id": "registered-buffer",
   "metadata": {},
   "source": [
    "Yikes! The internal representations of the addition operands are not exactly equal to `1.1` and `2.2`, so you cannot rely on x to compare exactly to `3.3`."
   ]
  },
  {
   "cell_type": "markdown",
   "id": "spread-might",
   "metadata": {},
   "source": [
    "The preferred way to determine whether two floating-point values are “equal” is to compute whether they are close to one another, given some tolerance. Take a look at this example:"
   ]
  },
  {
   "cell_type": "code",
   "execution_count": 127,
   "id": "greater-harvard",
   "metadata": {},
   "outputs": [],
   "source": [
    "tolerance = 0.00001"
   ]
  },
  {
   "cell_type": "code",
   "execution_count": 128,
   "id": "fourth-skill",
   "metadata": {},
   "outputs": [
    {
     "data": {
      "text/plain": [
       "True"
      ]
     },
     "execution_count": 128,
     "metadata": {},
     "output_type": "execute_result"
    }
   ],
   "source": [
    "abs(x - 3.3) < tolerance"
   ]
  },
  {
   "cell_type": "markdown",
   "id": "european-credit",
   "metadata": {},
   "source": [
    "`abs()` returns absolute value. If the absolute value of the difference between the two numbers is less than the specified tolerance, they are close enough to one another to be considered equal."
   ]
  },
  {
   "cell_type": "markdown",
   "id": "qualified-birth",
   "metadata": {},
   "source": [
    "## Logical Operators\n",
    "\n",
    "The logical operators `not`, `or`, `and` and modify and join together expressions evaluated in Boolean context to create more complex conditions."
   ]
  },
  {
   "cell_type": "markdown",
   "id": "micro-blood",
   "metadata": {},
   "source": [
    "### Logical Expressions Involving Boolean Operands\n",
    "\n",
    "As you have seen, some objects and expressions in Python actually are of Boolean type. That is, they are equal to one of the Python objects `True` or `False`."
   ]
  },
  {
   "cell_type": "code",
   "execution_count": 35,
   "id": "collect-consensus",
   "metadata": {},
   "outputs": [
    {
     "data": {
      "text/plain": [
       "True"
      ]
     },
     "execution_count": 35,
     "metadata": {},
     "output_type": "execute_result"
    }
   ],
   "source": [
    "x = 5\n",
    "x < 10"
   ]
  },
  {
   "cell_type": "code",
   "execution_count": 41,
   "id": "vertical-virus",
   "metadata": {},
   "outputs": [
    {
     "data": {
      "text/plain": [
       "bool"
      ]
     },
     "execution_count": 41,
     "metadata": {},
     "output_type": "execute_result"
    }
   ],
   "source": [
    "type(x < 10)"
   ]
  },
  {
   "cell_type": "markdown",
   "id": "legendary-texas",
   "metadata": {},
   "source": [
    "|Operator |\tExample\t |Meaning |\n",
    "|:--|:--|:--|\n",
    "|`not` | `not x` | `True` if `x` is `False`. `False` if `x` is `True` (Logically reverses the sense of `x`) |\n",
    "|`or` | `x or y` | `True` if either `x` or `y` is `True`. `False` otherwise. |\n",
    "|`and` | `x and y` | `True` if both `x` and `y` are `True`. `False` otherwise. |"
   ]
  },
  {
   "cell_type": "markdown",
   "id": "bulgarian-garden",
   "metadata": {},
   "source": [
    "Take a look at how they work in practice below."
   ]
  },
  {
   "cell_type": "code",
   "execution_count": 137,
   "id": "permanent-garden",
   "metadata": {},
   "outputs": [],
   "source": [
    "x = 5"
   ]
  },
  {
   "cell_type": "code",
   "execution_count": 138,
   "id": "taken-senegal",
   "metadata": {},
   "outputs": [
    {
     "data": {
      "text/plain": [
       "False"
      ]
     },
     "execution_count": 138,
     "metadata": {},
     "output_type": "execute_result"
    }
   ],
   "source": [
    "not x < 10"
   ]
  },
  {
   "cell_type": "code",
   "execution_count": 139,
   "id": "informal-holocaust",
   "metadata": {},
   "outputs": [],
   "source": [
    "x = 5"
   ]
  },
  {
   "cell_type": "code",
   "execution_count": 140,
   "id": "hydraulic-pottery",
   "metadata": {},
   "outputs": [
    {
     "data": {
      "text/plain": [
       "True"
      ]
     },
     "execution_count": 140,
     "metadata": {},
     "output_type": "execute_result"
    }
   ],
   "source": [
    "x < 10 or x > 10"
   ]
  },
  {
   "cell_type": "code",
   "execution_count": 141,
   "id": "behind-mount",
   "metadata": {},
   "outputs": [
    {
     "data": {
      "text/plain": [
       "False"
      ]
     },
     "execution_count": 141,
     "metadata": {},
     "output_type": "execute_result"
    }
   ],
   "source": [
    "x < 10 and x > 10"
   ]
  },
  {
   "cell_type": "markdown",
   "id": "precious-reliance",
   "metadata": {},
   "source": [
    "### Evaluation of Non-Boolean Values in Boolean Context\n",
    "\n",
    "Many objects and expressions are not equal to True or False. Nonetheless, they may still be evaluated in Boolean context and determined to be “truthy” or “falsy.”"
   ]
  },
  {
   "cell_type": "markdown",
   "id": "distributed-suite",
   "metadata": {},
   "source": [
    "So what is true and what isn’t? As a philosophical question, that is outside the scope of this tutorial!"
   ]
  },
  {
   "cell_type": "markdown",
   "id": "governing-cheese",
   "metadata": {},
   "source": [
    "But in Python, it is well-defined. All the following are considered false when evaluated in Boolean context:\n",
    "- The Boolean value `False`\n",
    "- Any value that is numerically zero (`0`, `0.0`, `0.0+0.0j`)\n",
    "- An empty string\n",
    "- An object of a built-in composite data type which is empty (see later section)\n",
    "- The special value denoted by the Python keyword `None`"
   ]
  },
  {
   "cell_type": "markdown",
   "id": "restricted-uganda",
   "metadata": {},
   "source": [
    "Virtually any other object built into Python is regarded as `True`."
   ]
  },
  {
   "cell_type": "markdown",
   "id": "frank-welsh",
   "metadata": {},
   "source": [
    "You can determine the “truthiness” of an object or expression with the built-in `bool()` function. `bool()` returns `True` if its argument is truthy and `False` if it is falsy."
   ]
  },
  {
   "cell_type": "markdown",
   "id": "improved-sigma",
   "metadata": {},
   "source": [
    "#### Numeric Value\n",
    "- A zero value is false.\n",
    "- A non-zero value is true."
   ]
  },
  {
   "cell_type": "code",
   "execution_count": 154,
   "id": "decreased-article",
   "metadata": {},
   "outputs": [
    {
     "name": "stdout",
     "output_type": "stream",
     "text": [
      "False False False\n"
     ]
    }
   ],
   "source": [
    "print(bool(0), bool(0.0), bool(0.0+0j))"
   ]
  },
  {
   "cell_type": "code",
   "execution_count": 155,
   "id": "reported-intake",
   "metadata": {},
   "outputs": [
    {
     "name": "stdout",
     "output_type": "stream",
     "text": [
      "True True True\n"
     ]
    }
   ],
   "source": [
    "print(bool(-3), bool(3.14159), bool(1.0+1j))"
   ]
  },
  {
   "cell_type": "markdown",
   "id": "north-romantic",
   "metadata": {},
   "source": [
    "#### String\n",
    "- An empty string is false.\n",
    "- A non-empty string is true."
   ]
  },
  {
   "cell_type": "code",
   "execution_count": 156,
   "id": "formed-sydney",
   "metadata": {},
   "outputs": [
    {
     "name": "stdout",
     "output_type": "stream",
     "text": [
      "False False False\n"
     ]
    }
   ],
   "source": [
    "print(bool(''), bool(\"\"), bool(\"\"\"\"\"\"))"
   ]
  },
  {
   "cell_type": "code",
   "execution_count": 157,
   "id": "romance-contract",
   "metadata": {},
   "outputs": [
    {
     "name": "stdout",
     "output_type": "stream",
     "text": [
      "True True True\n"
     ]
    }
   ],
   "source": [
    "print(bool('foo'), bool(\" \"), bool(''' '''))"
   ]
  },
  {
   "cell_type": "markdown",
   "id": "proof-holiday",
   "metadata": {},
   "source": [
    "#### Built-In Composite Data Object\n",
    "> Python provides built-in composite data types called `list`, `tuple`, `dict`, and `set` (and some more). These are “container” types that contain other objects. An object of one of these types is considered false if it is empty and true if it is non-empty.\n",
    ">\n",
    ">The examples below demonstrate this for the list type. (Lists are defined in Python with square brackets.)\n",
    ">\n",
    ">For more information on the `list`, `tuple`, `dict`, `set`, etc. types, see the upcoming sections."
   ]
  },
  {
   "cell_type": "code",
   "execution_count": 158,
   "id": "solid-perth",
   "metadata": {},
   "outputs": [
    {
     "data": {
      "text/plain": [
       "list"
      ]
     },
     "execution_count": 158,
     "metadata": {},
     "output_type": "execute_result"
    }
   ],
   "source": [
    "type([])"
   ]
  },
  {
   "cell_type": "code",
   "execution_count": 159,
   "id": "reserved-journalism",
   "metadata": {},
   "outputs": [
    {
     "data": {
      "text/plain": [
       "False"
      ]
     },
     "execution_count": 159,
     "metadata": {},
     "output_type": "execute_result"
    }
   ],
   "source": [
    "bool([])"
   ]
  },
  {
   "cell_type": "code",
   "execution_count": 160,
   "id": "individual-diary",
   "metadata": {},
   "outputs": [
    {
     "data": {
      "text/plain": [
       "list"
      ]
     },
     "execution_count": 160,
     "metadata": {},
     "output_type": "execute_result"
    }
   ],
   "source": [
    "type([1, 2, 3])"
   ]
  },
  {
   "cell_type": "code",
   "execution_count": 161,
   "id": "reflected-blood",
   "metadata": {},
   "outputs": [
    {
     "data": {
      "text/plain": [
       "True"
      ]
     },
     "execution_count": 161,
     "metadata": {},
     "output_type": "execute_result"
    }
   ],
   "source": [
    "bool([1, 2, 3])"
   ]
  },
  {
   "cell_type": "markdown",
   "id": "vital-scanner",
   "metadata": {},
   "source": [
    "#### The `None` Keyword\n",
    "- `None` is always false:"
   ]
  },
  {
   "cell_type": "code",
   "execution_count": 162,
   "id": "alternative-telescope",
   "metadata": {},
   "outputs": [
    {
     "data": {
      "text/plain": [
       "False"
      ]
     },
     "execution_count": 162,
     "metadata": {},
     "output_type": "execute_result"
    }
   ],
   "source": [
    "bool(None)"
   ]
  },
  {
   "cell_type": "markdown",
   "id": "floppy-midnight",
   "metadata": {},
   "source": [
    "## Bitwise Operators\n",
    "\n",
    "Bitwise operators treat operands as sequences of binary digits and operate on them bit by bit. Bitwise operators will be addressed fully later."
   ]
  },
  {
   "cell_type": "markdown",
   "id": "destroyed-harvest",
   "metadata": {},
   "source": [
    "## Identity Operators\n",
    "\n",
    "Python provides two operators, `is` and `is not`, that determine whether the given operands have the same identity—that is, refer to the same object. This is not the same thing as equality, which means the two operands refer to objects that contain the same data but are not necessarily the same object."
   ]
  },
  {
   "cell_type": "markdown",
   "id": "classical-combine",
   "metadata": {},
   "source": [
    "Here is an example of two object that are equal but not identical:"
   ]
  },
  {
   "cell_type": "code",
   "execution_count": 64,
   "id": "tribal-testing",
   "metadata": {},
   "outputs": [],
   "source": [
    "x = 1001\n",
    "y = 1000 + 1"
   ]
  },
  {
   "cell_type": "code",
   "execution_count": 65,
   "id": "perfect-perth",
   "metadata": {},
   "outputs": [
    {
     "name": "stdout",
     "output_type": "stream",
     "text": [
      "1001 1001\n"
     ]
    }
   ],
   "source": [
    "print(x, y)"
   ]
  },
  {
   "cell_type": "code",
   "execution_count": 66,
   "id": "correct-oakland",
   "metadata": {},
   "outputs": [
    {
     "data": {
      "text/plain": [
       "True"
      ]
     },
     "execution_count": 66,
     "metadata": {},
     "output_type": "execute_result"
    }
   ],
   "source": [
    "x == y"
   ]
  },
  {
   "cell_type": "code",
   "execution_count": 67,
   "id": "caring-carnival",
   "metadata": {},
   "outputs": [
    {
     "data": {
      "text/plain": [
       "False"
      ]
     },
     "execution_count": 67,
     "metadata": {},
     "output_type": "execute_result"
    }
   ],
   "source": [
    "x is y"
   ]
  },
  {
   "cell_type": "markdown",
   "id": "elect-laptop",
   "metadata": {},
   "source": [
    "Here, `x` and `y` both refer to objects whose value is `1001`. They are equal. But they do not reference the same object, as you can verify:"
   ]
  },
  {
   "cell_type": "code",
   "execution_count": 68,
   "id": "controlled-member",
   "metadata": {},
   "outputs": [
    {
     "data": {
      "text/plain": [
       "140016350734768"
      ]
     },
     "execution_count": 68,
     "metadata": {},
     "output_type": "execute_result"
    }
   ],
   "source": [
    "id(x)"
   ]
  },
  {
   "cell_type": "code",
   "execution_count": 69,
   "id": "false-mortality",
   "metadata": {},
   "outputs": [
    {
     "data": {
      "text/plain": [
       "140016350734224"
      ]
     },
     "execution_count": 69,
     "metadata": {},
     "output_type": "execute_result"
    }
   ],
   "source": [
    "id(y)"
   ]
  },
  {
   "cell_type": "markdown",
   "id": "soviet-thumb",
   "metadata": {},
   "source": [
    "`x` and `y` do not have the same identity, and `x` is `y` returns `False`."
   ]
  },
  {
   "cell_type": "markdown",
   "id": "sustained-creator",
   "metadata": {},
   "source": [
    "You saw previously that when you make an assignment like `x = y`, Python merely creates a second reference to the same object, and that you could confirm that fact with the `id()` function. You can also confirm it using the `is` operator:"
   ]
  },
  {
   "cell_type": "code",
   "execution_count": 70,
   "id": "assigned-hampton",
   "metadata": {},
   "outputs": [],
   "source": [
    "a = 'I am a string'\n",
    "b = a"
   ]
  },
  {
   "cell_type": "code",
   "execution_count": 71,
   "id": "imported-sampling",
   "metadata": {},
   "outputs": [
    {
     "data": {
      "text/plain": [
       "140016350689072"
      ]
     },
     "execution_count": 71,
     "metadata": {},
     "output_type": "execute_result"
    }
   ],
   "source": [
    "id(a)"
   ]
  },
  {
   "cell_type": "code",
   "execution_count": 72,
   "id": "nervous-language",
   "metadata": {},
   "outputs": [
    {
     "data": {
      "text/plain": [
       "140016350689072"
      ]
     },
     "execution_count": 72,
     "metadata": {},
     "output_type": "execute_result"
    }
   ],
   "source": [
    "id(b)"
   ]
  },
  {
   "cell_type": "code",
   "execution_count": 73,
   "id": "worse-attendance",
   "metadata": {},
   "outputs": [
    {
     "data": {
      "text/plain": [
       "True"
      ]
     },
     "execution_count": 73,
     "metadata": {},
     "output_type": "execute_result"
    }
   ],
   "source": [
    "a is b"
   ]
  },
  {
   "cell_type": "code",
   "execution_count": 74,
   "id": "recognized-hygiene",
   "metadata": {},
   "outputs": [
    {
     "data": {
      "text/plain": [
       "True"
      ]
     },
     "execution_count": 74,
     "metadata": {},
     "output_type": "execute_result"
    }
   ],
   "source": [
    "a == b"
   ]
  },
  {
   "cell_type": "markdown",
   "id": "classified-tiger",
   "metadata": {},
   "source": [
    "In this case, since `a` and `b` reference the same object, it stands to reason that `a` and `b` would be equal as well."
   ]
  },
  {
   "cell_type": "markdown",
   "id": "fundamental-shift",
   "metadata": {},
   "source": [
    "Unsurprisingly, the opposite of `is` is `is not`:"
   ]
  },
  {
   "cell_type": "code",
   "execution_count": 75,
   "id": "voluntary-election",
   "metadata": {},
   "outputs": [],
   "source": [
    "x = 10\n",
    "y = 20"
   ]
  },
  {
   "cell_type": "code",
   "execution_count": 169,
   "id": "buried-force",
   "metadata": {},
   "outputs": [
    {
     "data": {
      "text/plain": [
       "False"
      ]
     },
     "execution_count": 169,
     "metadata": {},
     "output_type": "execute_result"
    }
   ],
   "source": [
    "x is not y"
   ]
  },
  {
   "cell_type": "markdown",
   "id": "virtual-grade",
   "metadata": {},
   "source": [
    "## Augmented Assignment Operators\n",
    "\n",
    "You have seen that a single equal sign (`=`) is used to assign a value to a variable. It is, of course, perfectly viable for the value to the right of the assignment to be an expression containing other variables:"
   ]
  },
  {
   "cell_type": "code",
   "execution_count": 186,
   "id": "improved-carolina",
   "metadata": {},
   "outputs": [],
   "source": [
    "a = 10\n",
    "b = 20\n",
    "c = a * 5 + b"
   ]
  },
  {
   "cell_type": "code",
   "execution_count": 187,
   "id": "grateful-delight",
   "metadata": {},
   "outputs": [
    {
     "data": {
      "text/plain": [
       "70"
      ]
     },
     "execution_count": 187,
     "metadata": {},
     "output_type": "execute_result"
    }
   ],
   "source": [
    "c"
   ]
  },
  {
   "cell_type": "markdown",
   "id": "stretch-jaguar",
   "metadata": {},
   "source": [
    "In fact, the expression to the right of the assignment can include references to the variable that is being assigned to:"
   ]
  },
  {
   "cell_type": "markdown",
   "id": "instant-disability",
   "metadata": {},
   "source": [
    "Python supports a shorthand augmented assignment notation for these arithmetic and bitwise operators:\n",
    "\n",
    "|Arithmetic|Bitwise|\n",
    "|:--|:--|\n",
    "|`+`| `&` |\n",
    "|`-`|`|`|\n",
    "|`*`|`^`|\n",
    "|`/`|`>>`|\n",
    "|`%`|`<<`|\n",
    "|`//`||\n",
    "|`**`||"
   ]
  },
  {
   "cell_type": "markdown",
   "id": "subject-montgomery",
   "metadata": {},
   "source": [
    "For these operators, the following are equivalent:\n",
    "\n",
    "```python\n",
    "x <op>= y\n",
    "x = x <op> y\n",
    "```"
   ]
  },
  {
   "cell_type": "markdown",
   "id": "infectious-ultimate",
   "metadata": {},
   "source": [
    "Take a look at these examples:\n",
    "\n",
    "|Augmented Assignment || Standard Assignment |\n",
    "|:--|:--|:--|\n",
    "|`a += 5` | is equivalent to\t| `a = a + 5`|\n",
    "|`a /= 10` | is equivalent to\t| `a = a / 10`|\n",
    "|`a ^= b` | is equivalent to\t| `a = a ^ b`|"
   ]
  },
  {
   "cell_type": "markdown",
   "id": "environmental-entry",
   "metadata": {},
   "source": [
    "## Conclusion\n",
    "In this section, you learned about the diverse **operators** Python supports to combine objects into **expressions**."
   ]
  },
  {
   "cell_type": "markdown",
   "id": "moved-israel",
   "metadata": {},
   "source": [
    "Most of the examples you have seen so far have involved only simple atomic data, but you saw a brief introduction to the **string** data type. The next tutorial will explore **string** objects in much more detail."
   ]
  }
 ],
 "metadata": {
  "kernelspec": {
   "display_name": "Python 3",
   "language": "python",
   "name": "python3"
  },
  "language_info": {
   "codemirror_mode": {
    "name": "ipython",
    "version": 3
   },
   "file_extension": ".py",
   "mimetype": "text/x-python",
   "name": "python",
   "nbconvert_exporter": "python",
   "pygments_lexer": "ipython3",
   "version": "3.7.9"
  }
 },
 "nbformat": 4,
 "nbformat_minor": 5
}
