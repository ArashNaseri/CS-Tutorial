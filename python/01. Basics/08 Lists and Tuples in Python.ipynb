{
 "cells": [
  {
   "cell_type": "markdown",
   "id": "excited-installation",
   "metadata": {},
   "source": [
    "# Lists and Tuples in Python\n",
    "\n",
    "Lists and tuples are arguably Python’s most versatile, useful data types. You will find them in virtually every nontrivial Python program."
   ]
  },
  {
   "cell_type": "markdown",
   "id": "younger-minutes",
   "metadata": {},
   "source": [
    "## Python Lists\n",
    "In short, a list is a collection of arbitrary objects, somewhat akin to an array in many other programming languages but more flexible. Lists are defined in Python by enclosing a comma-separated sequence of objects in square brackets (`[]`), as shown below:"
   ]
  },
  {
   "cell_type": "code",
   "execution_count": null,
   "id": "recorded-lithuania",
   "metadata": {},
   "outputs": [],
   "source": []
  }
 ],
 "metadata": {
  "kernelspec": {
   "display_name": "Python 3",
   "language": "python",
   "name": "python3"
  },
  "language_info": {
   "codemirror_mode": {
    "name": "ipython",
    "version": 3
   },
   "file_extension": ".py",
   "mimetype": "text/x-python",
   "name": "python",
   "nbconvert_exporter": "python",
   "pygments_lexer": "ipython3",
   "version": "3.7.9"
  }
 },
 "nbformat": 4,
 "nbformat_minor": 5
}
