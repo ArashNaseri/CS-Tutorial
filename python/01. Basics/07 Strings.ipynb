{
 "cells": [
  {
   "cell_type": "markdown",
   "id": "isolated-queen",
   "metadata": {},
   "source": [
    "# Strings\n",
    "\n",
    "In the section on Basic Data Types in Python, you learned how to define **strings**: objects that contain sequences of character data. Processing character data is integral to programming. It is a rare application that doesn’t need to manipulate strings at least to some extent."
   ]
  },
  {
   "cell_type": "markdown",
   "id": "abstract-poultry",
   "metadata": {},
   "source": [
    "## String Manipulation\n",
    "\n",
    "The sections below highlight the operators, methods, and functions that are available for working with strings."
   ]
  },
  {
   "cell_type": "markdown",
   "id": "joined-poland",
   "metadata": {},
   "source": [
    "### String Operators\n",
    "\n",
    "You have already seen the operators `+` and `*` applied to numeric operands in the section on Operators and Expressions in Python. These two operators can be applied to strings as well."
   ]
  },
  {
   "cell_type": "code",
   "execution_count": 1,
   "id": "manual-midwest",
   "metadata": {},
   "outputs": [],
   "source": [
    "s = 'foo'\n",
    "t = 'bar'\n",
    "u = 'baz'"
   ]
  },
  {
   "cell_type": "code",
   "execution_count": 2,
   "id": "plastic-studio",
   "metadata": {},
   "outputs": [
    {
     "data": {
      "text/plain": [
       "'foobar'"
      ]
     },
     "execution_count": 2,
     "metadata": {},
     "output_type": "execute_result"
    }
   ],
   "source": [
    "s + t"
   ]
  },
  {
   "cell_type": "code",
   "execution_count": 3,
   "id": "historic-heath",
   "metadata": {},
   "outputs": [
    {
     "data": {
      "text/plain": [
       "'foobarbaz'"
      ]
     },
     "execution_count": 3,
     "metadata": {},
     "output_type": "execute_result"
    }
   ],
   "source": [
    "s + t + u"
   ]
  },
  {
   "cell_type": "code",
   "execution_count": 4,
   "id": "everyday-sydney",
   "metadata": {},
   "outputs": [
    {
     "name": "stdout",
     "output_type": "stream",
     "text": [
      "Go team!!!\n"
     ]
    }
   ],
   "source": [
    "print('Go team' + '!!!')"
   ]
  },
  {
   "cell_type": "markdown",
   "id": "opened-fighter",
   "metadata": {},
   "source": [
    "### The * Operator\n",
    "\n",
    "The `*` operator creates multiple copies of a string. If `s` is a string and `n` is an integer, either of the following expressions returns a string consisting of `n` concatenated copies of `s`:\n",
    "\n",
    "```python\n",
    "s * n\n",
    "n * s\n",
    "```"
   ]
  },
  {
   "cell_type": "markdown",
   "id": "academic-cylinder",
   "metadata": {},
   "source": [
    "Here are examples of both forms:"
   ]
  },
  {
   "cell_type": "code",
   "execution_count": 5,
   "id": "regular-breach",
   "metadata": {},
   "outputs": [],
   "source": [
    "s = 'foo.'"
   ]
  },
  {
   "cell_type": "code",
   "execution_count": 6,
   "id": "considerable-leader",
   "metadata": {},
   "outputs": [
    {
     "data": {
      "text/plain": [
       "'foo.foo.foo.foo.'"
      ]
     },
     "execution_count": 6,
     "metadata": {},
     "output_type": "execute_result"
    }
   ],
   "source": [
    "s * 4"
   ]
  },
  {
   "cell_type": "code",
   "execution_count": 7,
   "id": "demographic-finnish",
   "metadata": {},
   "outputs": [
    {
     "data": {
      "text/plain": [
       "'foo.foo.foo.foo.'"
      ]
     },
     "execution_count": 7,
     "metadata": {},
     "output_type": "execute_result"
    }
   ],
   "source": [
    "4 * s"
   ]
  },
  {
   "cell_type": "markdown",
   "id": "analyzed-therapist",
   "metadata": {},
   "source": [
    "The multiplier operand `n` must be an integer. You’d think it would be required to be a positive integer, but amusingly, it can be zero or negative, in which case the result is an empty string:"
   ]
  },
  {
   "cell_type": "code",
   "execution_count": 9,
   "id": "constant-athletics",
   "metadata": {},
   "outputs": [
    {
     "data": {
      "text/plain": [
       "''"
      ]
     },
     "execution_count": 9,
     "metadata": {},
     "output_type": "execute_result"
    }
   ],
   "source": [
    "'foo' * -8"
   ]
  },
  {
   "cell_type": "markdown",
   "id": "spatial-necklace",
   "metadata": {},
   "source": [
    "If you were to create a string variable and initialize it to the empty string by assigning it the value `'foo' * -8`, anyone would rightly think you were a bit daft. But it would work."
   ]
  },
  {
   "cell_type": "markdown",
   "id": "answering-listening",
   "metadata": {},
   "source": [
    "### The in Operator\n",
    "\n",
    "Python also provides a membership operator that can be used with strings. The in operator returns `True` if the first operand is contained within the second, and `False` otherwise:"
   ]
  },
  {
   "cell_type": "code",
   "execution_count": 10,
   "id": "proprietary-airplane",
   "metadata": {},
   "outputs": [],
   "source": [
    "s = 'foo'"
   ]
  },
  {
   "cell_type": "code",
   "execution_count": 11,
   "id": "parental-albert",
   "metadata": {},
   "outputs": [
    {
     "data": {
      "text/plain": [
       "True"
      ]
     },
     "execution_count": 11,
     "metadata": {},
     "output_type": "execute_result"
    }
   ],
   "source": [
    "s in 'That\\'s food for thought.'"
   ]
  },
  {
   "cell_type": "code",
   "execution_count": 12,
   "id": "unsigned-welcome",
   "metadata": {},
   "outputs": [
    {
     "data": {
      "text/plain": [
       "False"
      ]
     },
     "execution_count": 12,
     "metadata": {},
     "output_type": "execute_result"
    }
   ],
   "source": [
    "s in 'That\\'s good for now.'"
   ]
  },
  {
   "cell_type": "markdown",
   "id": "smart-corruption",
   "metadata": {},
   "source": [
    "There is also a `not in` operator, which does the opposite:"
   ]
  },
  {
   "cell_type": "code",
   "execution_count": 13,
   "id": "official-aurora",
   "metadata": {},
   "outputs": [
    {
     "data": {
      "text/plain": [
       "True"
      ]
     },
     "execution_count": 13,
     "metadata": {},
     "output_type": "execute_result"
    }
   ],
   "source": [
    "'z' not in 'abc'"
   ]
  },
  {
   "cell_type": "code",
   "execution_count": 14,
   "id": "korean-emergency",
   "metadata": {},
   "outputs": [
    {
     "data": {
      "text/plain": [
       "False"
      ]
     },
     "execution_count": 14,
     "metadata": {},
     "output_type": "execute_result"
    }
   ],
   "source": [
    "'z' not in 'xyz'"
   ]
  },
  {
   "cell_type": "markdown",
   "id": "orange-lithuania",
   "metadata": {},
   "source": [
    "### Built-in String Functions\n",
    "\n",
    "As you saw in the tutorial on Basic Data Types in Python, Python provides many functions that are built-in to the interpreter and always available. Here are a few that work with strings:\n",
    "\n",
    "\n",
    "|Function | Description|\n",
    "|:--|:--|\n",
    "|`chr()` | Converts an integer to a character |\n",
    "|`ord()` | Converts a character to an integer |\n",
    "|`len()` | Returns the length of a string |\n",
    "|`str()` | Returns a string representation of an object |"
   ]
  },
  {
   "cell_type": "markdown",
   "id": "present-battle",
   "metadata": {},
   "source": [
    "These are explored more fully below."
   ]
  },
  {
   "cell_type": "markdown",
   "id": "administrative-sunrise",
   "metadata": {},
   "source": [
    "#### `ord(c)`\n",
    "> Returns an integer value for the given character."
   ]
  },
  {
   "cell_type": "markdown",
   "id": "copyrighted-calendar",
   "metadata": {},
   "source": [
    "At the most basic level, computers store all information as numbers. To represent character data, a translation scheme is used which maps each character to its representative number."
   ]
  },
  {
   "cell_type": "markdown",
   "id": "impressive-nebraska",
   "metadata": {},
   "source": [
    "The simplest scheme in common use is called [ASCII](https://en.wikipedia.org/wiki/ASCII). It covers the common Latin characters you are probably most accustomed to working with. For these characters, ord(c) returns the ASCII value for character c:"
   ]
  },
  {
   "cell_type": "code",
   "execution_count": 15,
   "id": "baking-potential",
   "metadata": {},
   "outputs": [
    {
     "data": {
      "text/plain": [
       "97"
      ]
     },
     "execution_count": 15,
     "metadata": {},
     "output_type": "execute_result"
    }
   ],
   "source": [
    "ord('a')"
   ]
  },
  {
   "cell_type": "code",
   "execution_count": 16,
   "id": "golden-variation",
   "metadata": {},
   "outputs": [
    {
     "data": {
      "text/plain": [
       "35"
      ]
     },
     "execution_count": 16,
     "metadata": {},
     "output_type": "execute_result"
    }
   ],
   "source": [
    "ord('#')"
   ]
  },
  {
   "cell_type": "markdown",
   "id": "vocal-boards",
   "metadata": {},
   "source": [
    "ASCII is fine as far as it goes. But there are many different languages in use in the world and countless symbols and glyphs that appear in digital media. The full set of characters that potentially may need to be represented in computer code far surpasses the ordinary Latin letters, numbers, and symbols you usually see."
   ]
  },
  {
   "cell_type": "markdown",
   "id": "acute-synthesis",
   "metadata": {},
   "source": [
    "[Unicode](http://www.unicode.org/standard/WhatIsUnicode.html) is an ambitious standard that attempts to provide a numeric code for every possible character, in every possible language, on every possible platform. Python 3 supports Unicode extensively, including allowing Unicode characters within strings."
   ]
  },
  {
   "cell_type": "markdown",
   "id": "executed-bulgarian",
   "metadata": {},
   "source": [
    "As long as you stay in the domain of the common characters, there is little practical difference between ASCII and Unicode. But the `ord()` function will return numeric values for [Unicode characters](https://realpython.com/courses/python-unicode/) as well:"
   ]
  },
  {
   "cell_type": "code",
   "execution_count": 17,
   "id": "tamil-empire",
   "metadata": {},
   "outputs": [
    {
     "data": {
      "text/plain": [
       "8364"
      ]
     },
     "execution_count": 17,
     "metadata": {},
     "output_type": "execute_result"
    }
   ],
   "source": [
    "ord('€')"
   ]
  },
  {
   "cell_type": "code",
   "execution_count": 18,
   "id": "industrial-decline",
   "metadata": {},
   "outputs": [
    {
     "data": {
      "text/plain": [
       "8721"
      ]
     },
     "execution_count": 18,
     "metadata": {},
     "output_type": "execute_result"
    }
   ],
   "source": [
    "ord('∑')"
   ]
  },
  {
   "cell_type": "markdown",
   "id": "color-warren",
   "metadata": {},
   "source": [
    "#### `chr(n)`\n",
    "\n",
    "> Returns a character value for the given integer."
   ]
  },
  {
   "cell_type": "markdown",
   "id": "serial-oakland",
   "metadata": {},
   "source": [
    "`chr()` does the reverse of `ord()`. Given a numeric value `n`, `chr(n)` returns a string representing the character that corresponds to `n`:"
   ]
  },
  {
   "cell_type": "code",
   "execution_count": 19,
   "id": "medieval-charleston",
   "metadata": {},
   "outputs": [
    {
     "data": {
      "text/plain": [
       "'a'"
      ]
     },
     "execution_count": 19,
     "metadata": {},
     "output_type": "execute_result"
    }
   ],
   "source": [
    "chr(97)"
   ]
  },
  {
   "cell_type": "code",
   "execution_count": 20,
   "id": "clinical-printing",
   "metadata": {},
   "outputs": [
    {
     "data": {
      "text/plain": [
       "'#'"
      ]
     },
     "execution_count": 20,
     "metadata": {},
     "output_type": "execute_result"
    }
   ],
   "source": [
    "chr(35)"
   ]
  },
  {
   "cell_type": "markdown",
   "id": "israeli-member",
   "metadata": {},
   "source": [
    "`chr()` handles Unicode characters as well:"
   ]
  },
  {
   "cell_type": "code",
   "execution_count": 21,
   "id": "lyric-lincoln",
   "metadata": {},
   "outputs": [
    {
     "data": {
      "text/plain": [
       "'€'"
      ]
     },
     "execution_count": 21,
     "metadata": {},
     "output_type": "execute_result"
    }
   ],
   "source": [
    "chr(8364)"
   ]
  },
  {
   "cell_type": "code",
   "execution_count": 22,
   "id": "through-satin",
   "metadata": {},
   "outputs": [
    {
     "data": {
      "text/plain": [
       "'∑'"
      ]
     },
     "execution_count": 22,
     "metadata": {},
     "output_type": "execute_result"
    }
   ],
   "source": [
    "chr(8721)"
   ]
  },
  {
   "cell_type": "markdown",
   "id": "liquid-guide",
   "metadata": {},
   "source": [
    "#### len(s)\n",
    "\n",
    "With `len()`, you can check Python string length. `len(s)` returns the number of characters in `s`:"
   ]
  },
  {
   "cell_type": "code",
   "execution_count": 23,
   "id": "unavailable-steps",
   "metadata": {},
   "outputs": [
    {
     "data": {
      "text/plain": [
       "14"
      ]
     },
     "execution_count": 23,
     "metadata": {},
     "output_type": "execute_result"
    }
   ],
   "source": [
    "s = 'I am a string.'\n",
    "len(s)"
   ]
  },
  {
   "cell_type": "markdown",
   "id": "earned-conviction",
   "metadata": {},
   "source": [
    "#### `str(obj)`\n",
    "\n",
    "> Returns a string representation of an object."
   ]
  },
  {
   "cell_type": "markdown",
   "id": "induced-sucking",
   "metadata": {},
   "source": [
    "Virtually any object in Python can be rendered as a string. `str(obj)` returns the string representation of object obj:"
   ]
  },
  {
   "cell_type": "code",
   "execution_count": 24,
   "id": "nuclear-revolution",
   "metadata": {},
   "outputs": [
    {
     "data": {
      "text/plain": [
       "'49.2'"
      ]
     },
     "execution_count": 24,
     "metadata": {},
     "output_type": "execute_result"
    }
   ],
   "source": [
    "str(49.2)"
   ]
  },
  {
   "cell_type": "code",
   "execution_count": 25,
   "id": "adjustable-shape",
   "metadata": {},
   "outputs": [
    {
     "data": {
      "text/plain": [
       "'(3+4j)'"
      ]
     },
     "execution_count": 25,
     "metadata": {},
     "output_type": "execute_result"
    }
   ],
   "source": [
    "str(3+4j)"
   ]
  },
  {
   "cell_type": "code",
   "execution_count": 26,
   "id": "agreed-graham",
   "metadata": {},
   "outputs": [
    {
     "data": {
      "text/plain": [
       "'32'"
      ]
     },
     "execution_count": 26,
     "metadata": {},
     "output_type": "execute_result"
    }
   ],
   "source": [
    "str(3 + 29)"
   ]
  },
  {
   "cell_type": "code",
   "execution_count": 27,
   "id": "olive-championship",
   "metadata": {},
   "outputs": [
    {
     "data": {
      "text/plain": [
       "'foo'"
      ]
     },
     "execution_count": 27,
     "metadata": {},
     "output_type": "execute_result"
    }
   ],
   "source": [
    "str('foo')"
   ]
  },
  {
   "cell_type": "markdown",
   "id": "whole-addiction",
   "metadata": {},
   "source": [
    "## String Indexing\n",
    "\n",
    "Often in programming languages, individual items in an ordered set of data can be accessed directly using a numeric index or key value. This process is referred to as indexing."
   ]
  },
  {
   "cell_type": "markdown",
   "id": "freelance-kingdom",
   "metadata": {},
   "source": [
    "In Python, strings are ordered sequences of character data, and thus can be indexed in this way. Individual characters in a string can be accessed by specifying the string name followed by a number in square brackets (`[]`)."
   ]
  },
  {
   "cell_type": "markdown",
   "id": "approved-registrar",
   "metadata": {},
   "source": [
    "String indexing in Python is zero-based: the first character in the string has index 0, the next has index 1, and so on. The index of the last character will be the length of the string minus one."
   ]
  },
  {
   "cell_type": "markdown",
   "id": "indonesian-reggae",
   "metadata": {},
   "source": [
    "For example, a schematic diagram of the indices of the string 'foobar' would look like this:"
   ]
  },
  {
   "cell_type": "markdown",
   "id": "fresh-charleston",
   "metadata": {},
   "source": [
    "<img src=\"./images/string-indexing.png\" alt=\"string indexing\" width=300 align=\"center\" />"
   ]
  },
  {
   "cell_type": "markdown",
   "id": "controversial-recruitment",
   "metadata": {},
   "source": [
    "The individual characters can be accessed by index as follows:"
   ]
  },
  {
   "cell_type": "code",
   "execution_count": 28,
   "id": "formed-senator",
   "metadata": {},
   "outputs": [],
   "source": [
    "s = 'foobar'"
   ]
  },
  {
   "cell_type": "code",
   "execution_count": 29,
   "id": "processed-mentor",
   "metadata": {},
   "outputs": [
    {
     "data": {
      "text/plain": [
       "'f'"
      ]
     },
     "execution_count": 29,
     "metadata": {},
     "output_type": "execute_result"
    }
   ],
   "source": [
    "s[0]"
   ]
  },
  {
   "cell_type": "code",
   "execution_count": 30,
   "id": "exceptional-america",
   "metadata": {},
   "outputs": [
    {
     "data": {
      "text/plain": [
       "'o'"
      ]
     },
     "execution_count": 30,
     "metadata": {},
     "output_type": "execute_result"
    }
   ],
   "source": [
    "s[1]"
   ]
  },
  {
   "cell_type": "code",
   "execution_count": 31,
   "id": "floating-bryan",
   "metadata": {},
   "outputs": [
    {
     "data": {
      "text/plain": [
       "'b'"
      ]
     },
     "execution_count": 31,
     "metadata": {},
     "output_type": "execute_result"
    }
   ],
   "source": [
    "s[3]"
   ]
  },
  {
   "cell_type": "code",
   "execution_count": 32,
   "id": "mechanical-doctrine",
   "metadata": {},
   "outputs": [
    {
     "data": {
      "text/plain": [
       "6"
      ]
     },
     "execution_count": 32,
     "metadata": {},
     "output_type": "execute_result"
    }
   ],
   "source": [
    "len(s)"
   ]
  },
  {
   "cell_type": "code",
   "execution_count": 33,
   "id": "threaded-stocks",
   "metadata": {},
   "outputs": [
    {
     "data": {
      "text/plain": [
       "'r'"
      ]
     },
     "execution_count": 33,
     "metadata": {},
     "output_type": "execute_result"
    }
   ],
   "source": [
    "s[len(s)-1]"
   ]
  },
  {
   "cell_type": "markdown",
   "id": "rubber-landscape",
   "metadata": {},
   "source": [
    "Attempting to index beyond the end of the string results in an error:"
   ]
  },
  {
   "cell_type": "code",
   "execution_count": 35,
   "id": "strange-roman",
   "metadata": {},
   "outputs": [
    {
     "ename": "IndexError",
     "evalue": "string index out of range",
     "output_type": "error",
     "traceback": [
      "\u001b[0;31m---------------------------------------------------------------------------\u001b[0m",
      "\u001b[0;31mIndexError\u001b[0m                                Traceback (most recent call last)",
      "\u001b[0;32m<ipython-input-35-c4bc18d4aa1b>\u001b[0m in \u001b[0;36m<module>\u001b[0;34m\u001b[0m\n\u001b[0;32m----> 1\u001b[0;31m \u001b[0ms\u001b[0m\u001b[0;34m[\u001b[0m\u001b[0;36m6\u001b[0m\u001b[0;34m]\u001b[0m\u001b[0;34m\u001b[0m\u001b[0;34m\u001b[0m\u001b[0m\n\u001b[0m",
      "\u001b[0;31mIndexError\u001b[0m: string index out of range"
     ]
    }
   ],
   "source": [
    "s[6]"
   ]
  },
  {
   "cell_type": "markdown",
   "id": "empirical-identification",
   "metadata": {},
   "source": [
    "String indices can also be specified with negative numbers, in which case indexing occurs from the end of the string backward: `-1` refers to the last character, `-2` the second-to-last character, and so on. Here is the same diagram showing both the positive and negative indices into the string `'foobar'`:\n",
    "\n",
    "<img src=\"./images/string-indexing-negative.png\" alt=\"negative string indexing\" width=300 align=\"center\" />"
   ]
  },
  {
   "cell_type": "markdown",
   "id": "transparent-pacific",
   "metadata": {},
   "source": [
    "Here are some examples of negative indexing:"
   ]
  },
  {
   "cell_type": "code",
   "execution_count": 36,
   "id": "executed-harvest",
   "metadata": {},
   "outputs": [],
   "source": [
    "s = 'foobar'"
   ]
  },
  {
   "cell_type": "code",
   "execution_count": 37,
   "id": "intellectual-establishment",
   "metadata": {},
   "outputs": [
    {
     "data": {
      "text/plain": [
       "'r'"
      ]
     },
     "execution_count": 37,
     "metadata": {},
     "output_type": "execute_result"
    }
   ],
   "source": [
    "s[-1]"
   ]
  },
  {
   "cell_type": "code",
   "execution_count": 38,
   "id": "standing-vaccine",
   "metadata": {},
   "outputs": [
    {
     "data": {
      "text/plain": [
       "'a'"
      ]
     },
     "execution_count": 38,
     "metadata": {},
     "output_type": "execute_result"
    }
   ],
   "source": [
    "s[-2]"
   ]
  },
  {
   "cell_type": "code",
   "execution_count": 39,
   "id": "rough-operator",
   "metadata": {},
   "outputs": [
    {
     "data": {
      "text/plain": [
       "6"
      ]
     },
     "execution_count": 39,
     "metadata": {},
     "output_type": "execute_result"
    }
   ],
   "source": [
    "len(s)"
   ]
  },
  {
   "cell_type": "code",
   "execution_count": 40,
   "id": "popular-dispute",
   "metadata": {},
   "outputs": [
    {
     "data": {
      "text/plain": [
       "'f'"
      ]
     },
     "execution_count": 40,
     "metadata": {},
     "output_type": "execute_result"
    }
   ],
   "source": [
    "s[-len(s)]"
   ]
  },
  {
   "cell_type": "markdown",
   "id": "union-large",
   "metadata": {},
   "source": [
    "Attempting to index with negative numbers beyond the start of the string results in an error:"
   ]
  },
  {
   "cell_type": "code",
   "execution_count": 42,
   "id": "veterinary-dodge",
   "metadata": {},
   "outputs": [
    {
     "ename": "IndexError",
     "evalue": "string index out of range",
     "output_type": "error",
     "traceback": [
      "\u001b[0;31m---------------------------------------------------------------------------\u001b[0m",
      "\u001b[0;31mIndexError\u001b[0m                                Traceback (most recent call last)",
      "\u001b[0;32m<ipython-input-42-f93c2f8ec6cd>\u001b[0m in \u001b[0;36m<module>\u001b[0;34m\u001b[0m\n\u001b[0;32m----> 1\u001b[0;31m \u001b[0ms\u001b[0m\u001b[0;34m[\u001b[0m\u001b[0;34m-\u001b[0m\u001b[0;36m7\u001b[0m\u001b[0;34m]\u001b[0m\u001b[0;34m\u001b[0m\u001b[0;34m\u001b[0m\u001b[0m\n\u001b[0m",
      "\u001b[0;31mIndexError\u001b[0m: string index out of range"
     ]
    }
   ],
   "source": [
    "s[-7]"
   ]
  },
  {
   "cell_type": "markdown",
   "id": "weighted-investigation",
   "metadata": {},
   "source": [
    "For any non-empty string `s`, `s[len(s)-1]` and `s[-1]` both return the last character. There isn’t any index that makes sense for an empty string."
   ]
  },
  {
   "cell_type": "markdown",
   "id": "sufficient-turtle",
   "metadata": {},
   "source": [
    "## String Slicing\n",
    "\n",
    "Python also allows a form of indexing syntax that extracts substrings from a string, known as string slicing. If `s` is a string, an expression of the form `s[m:n]` returns the portion of `s` starting with position `m`, and up to but not including position `n`:"
   ]
  },
  {
   "cell_type": "code",
   "execution_count": 43,
   "id": "indoor-vegetarian",
   "metadata": {},
   "outputs": [],
   "source": [
    "s = 'foobar'"
   ]
  },
  {
   "cell_type": "code",
   "execution_count": 44,
   "id": "french-season",
   "metadata": {},
   "outputs": [
    {
     "data": {
      "text/plain": [
       "'oba'"
      ]
     },
     "execution_count": 44,
     "metadata": {},
     "output_type": "execute_result"
    }
   ],
   "source": [
    "s[2:5]"
   ]
  },
  {
   "cell_type": "markdown",
   "id": "polar-filling",
   "metadata": {},
   "source": [
    "> **Remember:** String indices are zero-based. The first character in a string has index `0`. This applies to both standard indexing and slicing."
   ]
  },
  {
   "cell_type": "markdown",
   "id": "ultimate-cleanup",
   "metadata": {},
   "source": [
    "Again, the second index specifies the first character that is not included in the result—the character `'r'` (`s[5]`) in the example above. That may seem slightly unintuitive, but it produces this result which makes sense: the expression `s[m:n]` will return a substring that is `n - m` characters in length, in this case, `5 - 2 = 3`."
   ]
  },
  {
   "cell_type": "markdown",
   "id": "pointed-dominant",
   "metadata": {},
   "source": [
    "If you omit the first index, the slice starts at the beginning of the string. Thus, `s[:m]` and `s[0:m]` are equivalent:"
   ]
  },
  {
   "cell_type": "code",
   "execution_count": 45,
   "id": "binding-inspector",
   "metadata": {},
   "outputs": [],
   "source": [
    "s = 'foobar'"
   ]
  },
  {
   "cell_type": "code",
   "execution_count": 46,
   "id": "surface-window",
   "metadata": {},
   "outputs": [
    {
     "data": {
      "text/plain": [
       "'foob'"
      ]
     },
     "execution_count": 46,
     "metadata": {},
     "output_type": "execute_result"
    }
   ],
   "source": [
    "s[:4]"
   ]
  },
  {
   "cell_type": "code",
   "execution_count": 47,
   "id": "cooked-prague",
   "metadata": {},
   "outputs": [
    {
     "data": {
      "text/plain": [
       "'foob'"
      ]
     },
     "execution_count": 47,
     "metadata": {},
     "output_type": "execute_result"
    }
   ],
   "source": [
    "s[0:4]"
   ]
  },
  {
   "cell_type": "markdown",
   "id": "relative-bidding",
   "metadata": {},
   "source": [
    "Similarly, if you omit the second index as in `s[n:]`, the slice extends from the first index through the end of the string. This is a nice, concise alternative to the more cumbersome `s[n:len(s)]`:"
   ]
  },
  {
   "cell_type": "code",
   "execution_count": 48,
   "id": "polish-receptor",
   "metadata": {},
   "outputs": [],
   "source": [
    "s = 'foobar'"
   ]
  },
  {
   "cell_type": "code",
   "execution_count": 49,
   "id": "collectible-liverpool",
   "metadata": {},
   "outputs": [
    {
     "data": {
      "text/plain": [
       "'obar'"
      ]
     },
     "execution_count": 49,
     "metadata": {},
     "output_type": "execute_result"
    }
   ],
   "source": [
    "s[2:]"
   ]
  },
  {
   "cell_type": "code",
   "execution_count": 50,
   "id": "fuzzy-shopper",
   "metadata": {},
   "outputs": [
    {
     "data": {
      "text/plain": [
       "'obar'"
      ]
     },
     "execution_count": 50,
     "metadata": {},
     "output_type": "execute_result"
    }
   ],
   "source": [
    "s[2:len(s)]"
   ]
  },
  {
   "cell_type": "markdown",
   "id": "spectacular-holly",
   "metadata": {},
   "source": [
    "For any string `s` and any integer `n` (`0 ≤ n ≤ len(s)`), `s[:n]` + `s[n:]` will be equal to `s`:"
   ]
  },
  {
   "cell_type": "code",
   "execution_count": 51,
   "id": "ignored-pontiac",
   "metadata": {},
   "outputs": [],
   "source": [
    "s = 'foobar'"
   ]
  },
  {
   "cell_type": "code",
   "execution_count": 52,
   "id": "superb-austin",
   "metadata": {},
   "outputs": [
    {
     "data": {
      "text/plain": [
       "'foobar'"
      ]
     },
     "execution_count": 52,
     "metadata": {},
     "output_type": "execute_result"
    }
   ],
   "source": [
    "s[:4] + s[4:]"
   ]
  },
  {
   "cell_type": "code",
   "execution_count": 53,
   "id": "cooperative-macro",
   "metadata": {},
   "outputs": [
    {
     "data": {
      "text/plain": [
       "True"
      ]
     },
     "execution_count": 53,
     "metadata": {},
     "output_type": "execute_result"
    }
   ],
   "source": [
    "s[:4] + s[4:] == s"
   ]
  },
  {
   "cell_type": "markdown",
   "id": "numeric-stamp",
   "metadata": {},
   "source": [
    "Omitting both indices returns the original string, in its entirety. Literally. It’s not a copy, it’s a reference to the original string:"
   ]
  },
  {
   "cell_type": "code",
   "execution_count": 54,
   "id": "reported-diagnosis",
   "metadata": {},
   "outputs": [],
   "source": [
    "s = 'foobar'\n",
    "t = s[:]"
   ]
  },
  {
   "cell_type": "code",
   "execution_count": 55,
   "id": "canadian-wagner",
   "metadata": {},
   "outputs": [
    {
     "data": {
      "text/plain": [
       "140167800080304"
      ]
     },
     "execution_count": 55,
     "metadata": {},
     "output_type": "execute_result"
    }
   ],
   "source": [
    "id(s)"
   ]
  },
  {
   "cell_type": "code",
   "execution_count": 56,
   "id": "broke-absolute",
   "metadata": {},
   "outputs": [
    {
     "data": {
      "text/plain": [
       "140167800080304"
      ]
     },
     "execution_count": 56,
     "metadata": {},
     "output_type": "execute_result"
    }
   ],
   "source": [
    "id(t)"
   ]
  },
  {
   "cell_type": "code",
   "execution_count": 57,
   "id": "intellectual-wagon",
   "metadata": {},
   "outputs": [
    {
     "data": {
      "text/plain": [
       "True"
      ]
     },
     "execution_count": 57,
     "metadata": {},
     "output_type": "execute_result"
    }
   ],
   "source": [
    "s is t"
   ]
  },
  {
   "cell_type": "markdown",
   "id": "young-treasure",
   "metadata": {},
   "source": [
    "If the first index in a slice is greater than or equal to the second index, Python returns an empty string. This is yet another obfuscated way to generate an empty string, in case you were looking for one:"
   ]
  },
  {
   "cell_type": "code",
   "execution_count": 60,
   "id": "according-ozone",
   "metadata": {},
   "outputs": [
    {
     "data": {
      "text/plain": [
       "''"
      ]
     },
     "execution_count": 60,
     "metadata": {},
     "output_type": "execute_result"
    }
   ],
   "source": [
    "s[2:2]"
   ]
  },
  {
   "cell_type": "code",
   "execution_count": 61,
   "id": "sorted-poverty",
   "metadata": {},
   "outputs": [
    {
     "data": {
      "text/plain": [
       "''"
      ]
     },
     "execution_count": 61,
     "metadata": {},
     "output_type": "execute_result"
    }
   ],
   "source": [
    "s[4:2]"
   ]
  },
  {
   "cell_type": "markdown",
   "id": "naked-float",
   "metadata": {},
   "source": [
    "Negative indices can be used with slicing as well. `-1` refers to the last character, `-2` the second-to-last, and so on, just as with simple indexing. The diagram below shows how to slice the substring `'oob'` from the string `'foobar'` using both positive and negative indices:"
   ]
  },
  {
   "cell_type": "markdown",
   "id": "reverse-identity",
   "metadata": {},
   "source": [
    "<img src=\"./images/string-slicing.png\" alt=\"negative string indexing\" width=300 align=\"center\" />"
   ]
  },
  {
   "cell_type": "markdown",
   "id": "viral-robin",
   "metadata": {},
   "source": [
    "Here is the corresponding Python code:"
   ]
  },
  {
   "cell_type": "code",
   "execution_count": 62,
   "id": "innovative-plenty",
   "metadata": {},
   "outputs": [],
   "source": [
    "s = 'foobar'"
   ]
  },
  {
   "cell_type": "code",
   "execution_count": 63,
   "id": "defined-oliver",
   "metadata": {},
   "outputs": [
    {
     "data": {
      "text/plain": [
       "'oob'"
      ]
     },
     "execution_count": 63,
     "metadata": {},
     "output_type": "execute_result"
    }
   ],
   "source": [
    "s[-5:-2]"
   ]
  },
  {
   "cell_type": "code",
   "execution_count": 64,
   "id": "sealed-insert",
   "metadata": {},
   "outputs": [
    {
     "data": {
      "text/plain": [
       "'oob'"
      ]
     },
     "execution_count": 64,
     "metadata": {},
     "output_type": "execute_result"
    }
   ],
   "source": [
    "s[1:4]"
   ]
  },
  {
   "cell_type": "code",
   "execution_count": 65,
   "id": "collective-canyon",
   "metadata": {},
   "outputs": [
    {
     "data": {
      "text/plain": [
       "True"
      ]
     },
     "execution_count": 65,
     "metadata": {},
     "output_type": "execute_result"
    }
   ],
   "source": [
    "s[-5:-2] == s[1:4]"
   ]
  },
  {
   "cell_type": "markdown",
   "id": "pharmaceutical-consultation",
   "metadata": {},
   "source": [
    "### Specifying a Stride in a String Slice\n",
    "\n",
    "There is one more variant of the slicing syntax to discuss. Adding an additional : and a third index designates a stride (also called a step), which indicates how many characters to jump after retrieving each character in the slice."
   ]
  },
  {
   "cell_type": "markdown",
   "id": "ahead-principal",
   "metadata": {},
   "source": [
    "For example, for the string `'foobar'`, the slice `0:6:2` starts with the first character and ends with the last character (the whole string), and every second character is skipped. This is shown in the following diagram:"
   ]
  },
  {
   "cell_type": "markdown",
   "id": "young-determination",
   "metadata": {},
   "source": [
    "<img src=\"./images/string-slicing-stride.png\" alt=\"negative string indexing\" width=300 align=\"center\" />"
   ]
  },
  {
   "cell_type": "markdown",
   "id": "graduate-bride",
   "metadata": {},
   "source": [
    "Similarly, `1:6:2` specifies a slice starting with the second character (index 1) and ending with the last character, and again the stride value 2 causes every other character to be skipped:"
   ]
  },
  {
   "cell_type": "markdown",
   "id": "threatened-valuation",
   "metadata": {},
   "source": [
    "<img src=\"./images/string-slicing-stride-2.png\" alt=\"negative string indexing\" width=300 align=\"center\" />"
   ]
  },
  {
   "cell_type": "markdown",
   "id": "ongoing-fancy",
   "metadata": {},
   "source": [
    "The illustrative REPL code is shown here:"
   ]
  },
  {
   "cell_type": "code",
   "execution_count": 66,
   "id": "confidential-motel",
   "metadata": {},
   "outputs": [],
   "source": [
    "s = 'foobar'"
   ]
  },
  {
   "cell_type": "code",
   "execution_count": 67,
   "id": "stunning-cleaner",
   "metadata": {},
   "outputs": [
    {
     "data": {
      "text/plain": [
       "'foa'"
      ]
     },
     "execution_count": 67,
     "metadata": {},
     "output_type": "execute_result"
    }
   ],
   "source": [
    "s[0:6:2]"
   ]
  },
  {
   "cell_type": "code",
   "execution_count": 68,
   "id": "nutritional-fifty",
   "metadata": {},
   "outputs": [
    {
     "data": {
      "text/plain": [
       "'obr'"
      ]
     },
     "execution_count": 68,
     "metadata": {},
     "output_type": "execute_result"
    }
   ],
   "source": [
    "s[1:6:2]"
   ]
  },
  {
   "cell_type": "markdown",
   "id": "unnecessary-fault",
   "metadata": {},
   "source": [
    "As with any slicing, the first and second indices can be omitted, and default to the first and last characters respectively:"
   ]
  },
  {
   "cell_type": "code",
   "execution_count": 69,
   "id": "requested-assets",
   "metadata": {},
   "outputs": [
    {
     "data": {
      "text/plain": [
       "'1234512345123451234512345'"
      ]
     },
     "execution_count": 69,
     "metadata": {},
     "output_type": "execute_result"
    }
   ],
   "source": [
    "s = '12345' * 5\n",
    "s"
   ]
  },
  {
   "cell_type": "code",
   "execution_count": 70,
   "id": "liberal-integral",
   "metadata": {},
   "outputs": [
    {
     "data": {
      "text/plain": [
       "'11111'"
      ]
     },
     "execution_count": 70,
     "metadata": {},
     "output_type": "execute_result"
    }
   ],
   "source": [
    "s[::5]"
   ]
  },
  {
   "cell_type": "code",
   "execution_count": 71,
   "id": "swiss-cooperative",
   "metadata": {},
   "outputs": [
    {
     "data": {
      "text/plain": [
       "'55555'"
      ]
     },
     "execution_count": 71,
     "metadata": {},
     "output_type": "execute_result"
    }
   ],
   "source": [
    "s[4::5]"
   ]
  },
  {
   "cell_type": "markdown",
   "id": "accredited-doctor",
   "metadata": {},
   "source": [
    "You can specify a negative stride value as well, in which case Python steps backward through the string. In that case, the starting/first index should be greater than the ending/second index:"
   ]
  },
  {
   "cell_type": "code",
   "execution_count": 73,
   "id": "unlike-solomon",
   "metadata": {},
   "outputs": [],
   "source": [
    "s = 'foobar'"
   ]
  },
  {
   "cell_type": "code",
   "execution_count": 74,
   "id": "hidden-charter",
   "metadata": {},
   "outputs": [
    {
     "data": {
      "text/plain": [
       "'rbo'"
      ]
     },
     "execution_count": 74,
     "metadata": {},
     "output_type": "execute_result"
    }
   ],
   "source": [
    "s[5:0:-2]"
   ]
  },
  {
   "cell_type": "markdown",
   "id": "vocal-shame",
   "metadata": {},
   "source": [
    "In the above example, `5:0:-2` means “start at the last character and step backward by 2, up to but not including the first character.”"
   ]
  },
  {
   "cell_type": "markdown",
   "id": "manual-senegal",
   "metadata": {},
   "source": [
    "When you are stepping backward, if the first and second indices are omitted, the defaults are reversed in an intuitive way: the first index defaults to the end of the string, and the second index defaults to the beginning. Here is an example:"
   ]
  },
  {
   "cell_type": "code",
   "execution_count": 79,
   "id": "oriental-finance",
   "metadata": {},
   "outputs": [
    {
     "data": {
      "text/plain": [
       "'1234512345123451234512345'"
      ]
     },
     "execution_count": 79,
     "metadata": {},
     "output_type": "execute_result"
    }
   ],
   "source": [
    "s = '12345' * 5\n",
    "s"
   ]
  },
  {
   "cell_type": "code",
   "execution_count": 80,
   "id": "multiple-sphere",
   "metadata": {},
   "outputs": [
    {
     "data": {
      "text/plain": [
       "'55555'"
      ]
     },
     "execution_count": 80,
     "metadata": {},
     "output_type": "execute_result"
    }
   ],
   "source": [
    "s[::-5]"
   ]
  },
  {
   "cell_type": "markdown",
   "id": "bronze-interstate",
   "metadata": {},
   "source": [
    "This is a common paradigm for reversing a string:"
   ]
  },
  {
   "cell_type": "code",
   "execution_count": 81,
   "id": "frank-wages",
   "metadata": {},
   "outputs": [
    {
     "data": {
      "text/plain": [
       "'.thgir eb tsum ti ,ti syas noelopaN edarmoC fI'"
      ]
     },
     "execution_count": 81,
     "metadata": {},
     "output_type": "execute_result"
    }
   ],
   "source": [
    "s = 'If Comrade Napoleon says it, it must be right.'\n",
    "s[::-1]"
   ]
  },
  {
   "cell_type": "markdown",
   "id": "weighted-aviation",
   "metadata": {},
   "source": [
    "### Interpolating Variables Into a String\n",
    "\n",
    "In Python version 3.6, a new string formatting mechanism was introduced. This feature is formally named the Formatted String Literal, but is more usually referred to by its nickname **f-string**."
   ]
  },
  {
   "cell_type": "markdown",
   "id": "brilliant-italy",
   "metadata": {},
   "source": [
    "One simple feature of f-strings you can start using right away is variable interpolation. You can specify a variable name directly within an f-string literal, and Python will replace the name with the corresponding value."
   ]
  },
  {
   "cell_type": "markdown",
   "id": "designing-magnet",
   "metadata": {},
   "source": [
    "For example, suppose you want to display the result of an arithmetic calculation. You can do this with a straightforward `print()` statement, separating numeric values and string literals by commas:"
   ]
  },
  {
   "cell_type": "code",
   "execution_count": 82,
   "id": "placed-bundle",
   "metadata": {},
   "outputs": [],
   "source": [
    "n = 20\n",
    "m = 25\n",
    "prod = n * m"
   ]
  },
  {
   "cell_type": "code",
   "execution_count": 83,
   "id": "stone-ambassador",
   "metadata": {},
   "outputs": [
    {
     "name": "stdout",
     "output_type": "stream",
     "text": [
      "The product of 20 and 25 is 500\n"
     ]
    }
   ],
   "source": [
    "print('The product of', n, 'and', m, 'is', prod)"
   ]
  },
  {
   "cell_type": "markdown",
   "id": "endless-tuition",
   "metadata": {},
   "source": [
    "But this is cumbersome. To accomplish the same thing using an f-string:\n",
    "\n",
    "- Specify either a lowercase `f` or uppercase `F` directly before the opening quote of the string literal. This tells Python it is an f-string instead of a standard string.\n",
    "- Specify any variables to be interpolated in curly braces (`{}`)."
   ]
  },
  {
   "cell_type": "markdown",
   "id": "demographic-wagon",
   "metadata": {},
   "source": [
    "Recast using an f-string, the above example looks much cleaner:"
   ]
  },
  {
   "cell_type": "code",
   "execution_count": 84,
   "id": "reduced-indian",
   "metadata": {},
   "outputs": [],
   "source": [
    "n = 20\n",
    "m = 25\n",
    "prod = n * m"
   ]
  },
  {
   "cell_type": "code",
   "execution_count": 85,
   "id": "million-flesh",
   "metadata": {},
   "outputs": [
    {
     "name": "stdout",
     "output_type": "stream",
     "text": [
      "The product of 20 and 25 is 500\n"
     ]
    }
   ],
   "source": [
    "print(f'The product of {n} and {m} is {prod}')"
   ]
  },
  {
   "cell_type": "markdown",
   "id": "homeless-health",
   "metadata": {},
   "source": [
    "Any of Python’s three quoting mechanisms can be used to define an f-string:"
   ]
  },
  {
   "cell_type": "code",
   "execution_count": 86,
   "id": "floral-pendant",
   "metadata": {},
   "outputs": [],
   "source": [
    "var = 'Bark'"
   ]
  },
  {
   "cell_type": "code",
   "execution_count": 87,
   "id": "official-antigua",
   "metadata": {},
   "outputs": [
    {
     "name": "stdout",
     "output_type": "stream",
     "text": [
      "A dog says Bark!\n"
     ]
    }
   ],
   "source": [
    "print(f'A dog says {var}!')"
   ]
  },
  {
   "cell_type": "code",
   "execution_count": 88,
   "id": "sensitive-studio",
   "metadata": {},
   "outputs": [
    {
     "name": "stdout",
     "output_type": "stream",
     "text": [
      "A dog says Bark!\n"
     ]
    }
   ],
   "source": [
    "print(f\"A dog says {var}!\")"
   ]
  },
  {
   "cell_type": "code",
   "execution_count": 90,
   "id": "ongoing-narrative",
   "metadata": {},
   "outputs": [
    {
     "name": "stdout",
     "output_type": "stream",
     "text": [
      "A dog says Bark!\n"
     ]
    }
   ],
   "source": [
    "print(f'''A dog says {var}!''')"
   ]
  },
  {
   "cell_type": "markdown",
   "id": "american-bicycle",
   "metadata": {},
   "source": [
    "### Modifying Strings\n",
    "\n",
    "In a nutshell, you can’t. Strings are one of the data types Python considers immutable, meaning not able to be changed. In fact, all the data types you have seen so far are immutable. (Python does provide data types that are mutable, as you will soon see.)"
   ]
  },
  {
   "cell_type": "markdown",
   "id": "killing-annual",
   "metadata": {},
   "source": [
    "A statement like this will cause an error:"
   ]
  },
  {
   "cell_type": "code",
   "execution_count": 91,
   "id": "billion-dragon",
   "metadata": {},
   "outputs": [],
   "source": [
    "s = 'foobar'"
   ]
  },
  {
   "cell_type": "code",
   "execution_count": 92,
   "id": "unusual-august",
   "metadata": {},
   "outputs": [
    {
     "ename": "TypeError",
     "evalue": "'str' object does not support item assignment",
     "output_type": "error",
     "traceback": [
      "\u001b[0;31m---------------------------------------------------------------------------\u001b[0m",
      "\u001b[0;31mTypeError\u001b[0m                                 Traceback (most recent call last)",
      "\u001b[0;32m<ipython-input-92-a4272f3144ab>\u001b[0m in \u001b[0;36m<module>\u001b[0;34m\u001b[0m\n\u001b[0;32m----> 1\u001b[0;31m \u001b[0ms\u001b[0m\u001b[0;34m[\u001b[0m\u001b[0;36m3\u001b[0m\u001b[0;34m]\u001b[0m \u001b[0;34m=\u001b[0m \u001b[0;34m'x'\u001b[0m\u001b[0;34m\u001b[0m\u001b[0;34m\u001b[0m\u001b[0m\n\u001b[0m",
      "\u001b[0;31mTypeError\u001b[0m: 'str' object does not support item assignment"
     ]
    }
   ],
   "source": [
    "s[3] = 'x'"
   ]
  },
  {
   "cell_type": "markdown",
   "id": "opposed-novelty",
   "metadata": {},
   "source": [
    "In truth, there really isn’t much need to modify strings. You can usually easily accomplish what you want by generating a copy of the original string that has the desired change in place. There are very many ways to do this in Python. Here is one possibility:"
   ]
  },
  {
   "cell_type": "code",
   "execution_count": 93,
   "id": "piano-climate",
   "metadata": {},
   "outputs": [],
   "source": [
    "s = s[:3] + 'x' + s[4:]"
   ]
  },
  {
   "cell_type": "code",
   "execution_count": 94,
   "id": "israeli-depth",
   "metadata": {},
   "outputs": [
    {
     "data": {
      "text/plain": [
       "'fooxar'"
      ]
     },
     "execution_count": 94,
     "metadata": {},
     "output_type": "execute_result"
    }
   ],
   "source": [
    "s"
   ]
  },
  {
   "cell_type": "markdown",
   "id": "waiting-petite",
   "metadata": {},
   "source": [
    "There is also a built-in string method to accomplish this:"
   ]
  },
  {
   "cell_type": "code",
   "execution_count": 95,
   "id": "fabulous-government",
   "metadata": {},
   "outputs": [],
   "source": [
    "s = 'foobar'\n",
    "s = s.replace('b', 'x')"
   ]
  },
  {
   "cell_type": "code",
   "execution_count": 96,
   "id": "connected-baker",
   "metadata": {},
   "outputs": [
    {
     "data": {
      "text/plain": [
       "'fooxar'"
      ]
     },
     "execution_count": 96,
     "metadata": {},
     "output_type": "execute_result"
    }
   ],
   "source": [
    "s"
   ]
  },
  {
   "cell_type": "markdown",
   "id": "extreme-emission",
   "metadata": {},
   "source": [
    "Read on for more information about built-in string methods!"
   ]
  },
  {
   "cell_type": "markdown",
   "id": "outdoor-policy",
   "metadata": {},
   "source": [
    "### Built-in String Methods\n",
    "\n",
    "Later..."
   ]
  }
 ],
 "metadata": {
  "kernelspec": {
   "display_name": "Python 3",
   "language": "python",
   "name": "python3"
  },
  "language_info": {
   "codemirror_mode": {
    "name": "ipython",
    "version": 3
   },
   "file_extension": ".py",
   "mimetype": "text/x-python",
   "name": "python",
   "nbconvert_exporter": "python",
   "pygments_lexer": "ipython3",
   "version": "3.7.9"
  }
 },
 "nbformat": 4,
 "nbformat_minor": 5
}
