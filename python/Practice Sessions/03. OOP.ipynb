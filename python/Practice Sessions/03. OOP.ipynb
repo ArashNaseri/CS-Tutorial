{
 "cells": [
  {
   "cell_type": "markdown",
   "id": "ignored-double",
   "metadata": {
    "hideCode": false,
    "hidePrompt": false,
    "slideshow": {
     "slide_type": "-"
    }
   },
   "source": [
    "# OOP"
   ]
  },
  {
   "cell_type": "markdown",
   "id": "described-treaty",
   "metadata": {},
   "source": [
    "1. Create a `Vehicle` class without any variables and methods."
   ]
  },
  {
   "cell_type": "markdown",
   "id": "infrared-infrared",
   "metadata": {
    "hideCode": false,
    "hidePrompt": false
   },
   "source": [
    "2. Create a `Vehicle` class with `max_speed` and `mileage` instance attributes."
   ]
  },
  {
   "cell_type": "markdown",
   "id": "inclusive-century",
   "metadata": {},
   "source": [
    "3. Create a child class `Bus` that will inherit all of the variables and methods of the `Vehicle` class\n",
    "\n",
    "```python\n",
    "class Vehicle:\n",
    "\n",
    "    def __init__(self, name, max_speed, mileage):\n",
    "        self.name = name\n",
    "        self.max_speed = max_speed\n",
    "        self.mileage = mileage\n",
    "```"
   ]
  },
  {
   "cell_type": "markdown",
   "id": "sized-darwin",
   "metadata": {},
   "source": [
    "4. Define a property `color` that should have the same value for every class instance\n",
    "\n",
    "Use the following code for this exercise.\n",
    "```python\n",
    "class Vehicle:\n",
    "\n",
    "    def __init__(self, name, max_speed, mileage):\n",
    "        self.name = name\n",
    "        self.max_speed = max_speed\n",
    "        self.mileage = mileage\n",
    "\n",
    "class Bus(Vehicle):\n",
    "    pass\n",
    "\n",
    "class Car(Vehicle):\n",
    "    pass\n",
    "```"
   ]
  },
  {
   "cell_type": "markdown",
   "id": "pleasant-citizen",
   "metadata": {},
   "source": [
    "5. Create a `Bus` child class that inherits from the `Vehicle` class. The default fare charge of any vehicle is `capacity * 100` (Add instance attribute `capacity`). If `Vehicle` is `Bus` instance, we need to add an extra 10% on full fare as a maintenance charge. So total fare for bus instance will become the `final amount = total fare + 10%` of the total fare\n",
    "\n",
    "```python\n",
    "class Vehicle:\n",
    "    def __init__(self, name, mileage, capacity):\n",
    "        self.name = name\n",
    "        self.mileage = mileage\n",
    "        self.capacity = capacity\n",
    "\n",
    "    def fare(self):\n",
    "        return self.capacity * 100\n",
    "\n",
    "class Bus(Vehicle):\n",
    "    pass\n",
    "\n",
    "school_bus = Bus(\"school Bus\", 12, 50)\n",
    "print(\"Total Bus fare is:\", school_bus.fare())\n",
    "```"
   ]
  },
  {
   "cell_type": "markdown",
   "id": "realistic-department",
   "metadata": {},
   "source": [
    "**Note:** The bus seating capacity is 50. so the final fare amount should be 5500. You need to override the fare() method of a Vehicle class in Bus class."
   ]
  },
  {
   "cell_type": "markdown",
   "id": "accurate-warning",
   "metadata": {},
   "source": [
    "6. Determine if `school_bus` is also an instance of the `Vehicle` class"
   ]
  },
  {
   "cell_type": "markdown",
   "id": "prescribed-saudi",
   "metadata": {},
   "source": [
    "7. Make Vehicle Class abstract with `.fare()` abstract method."
   ]
  }
 ],
 "metadata": {
  "hide_code_all_hidden": false,
  "kernelspec": {
   "display_name": "Python 3",
   "language": "python",
   "name": "python3"
  },
  "language_info": {
   "codemirror_mode": {
    "name": "ipython",
    "version": 3
   },
   "file_extension": ".py",
   "mimetype": "text/x-python",
   "name": "python",
   "nbconvert_exporter": "python",
   "pygments_lexer": "ipython3",
   "version": "3.7.9"
  }
 },
 "nbformat": 4,
 "nbformat_minor": 5
}
