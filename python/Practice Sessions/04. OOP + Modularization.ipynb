{
 "cells": [
  {
   "cell_type": "markdown",
   "id": "moved-visibility",
   "metadata": {},
   "source": [
    "# OOP and Modularization"
   ]
  },
  {
   "cell_type": "markdown",
   "id": "supreme-discovery",
   "metadata": {},
   "source": [
    "1. Given an array of points where `points[i] = Point(xi, yi)` represents a point on the X-Y plane and an integer `k`, return the `k` closest points to the origin `(0, 0)`.\n",
    "\n",
    "The distance between two points on the X-Y plane is the Euclidean distance (i.e, $\\sqrt{(x1 - x2)^2 + (y1 - y2)^2)}$.\n",
    "\n",
    "```python\n",
    "class Point:\n",
    "    pass\n",
    "\n",
    "arr = [Point(3, 4), Point(6, 8), Point(2, 2), Point(9, 11)]\n",
    "```"
   ]
  },
  {
   "cell_type": "markdown",
   "id": "public-fusion",
   "metadata": {},
   "source": [
    "2. Define `__str__` and `__repr__` dunder methods."
   ]
  },
  {
   "cell_type": "markdown",
   "id": "renewable-estonia",
   "metadata": {},
   "source": [
    "3. Extend your class to `n` dimensions ($\\sqrt[n]{(x_{11} - x_{21})^2 + (x_{12} - x_{22})^2) + ... + (x_{1n} - x_{2n})^2}$)"
   ]
  },
  {
   "cell_type": "markdown",
   "id": "warming-neighborhood",
   "metadata": {},
   "source": [
    "4. Write your class in a module named `geo.py` and import it in `main.py`."
   ]
  }
 ],
 "metadata": {
  "kernelspec": {
   "display_name": "Python 3",
   "language": "python",
   "name": "python3"
  },
  "language_info": {
   "codemirror_mode": {
    "name": "ipython",
    "version": 3
   },
   "file_extension": ".py",
   "mimetype": "text/x-python",
   "name": "python",
   "nbconvert_exporter": "python",
   "pygments_lexer": "ipython3",
   "version": "3.7.9"
  }
 },
 "nbformat": 4,
 "nbformat_minor": 5
}
