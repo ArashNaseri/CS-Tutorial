{
 "cells": [
  {
   "cell_type": "markdown",
   "id": "moved-visibility",
   "metadata": {},
   "source": [
    "# OOP and Modularization"
   ]
  },
  {
   "cell_type": "markdown",
   "id": "supreme-discovery",
   "metadata": {},
   "source": [
    "1. Given an list of points where `points[i] = Point(xi, yi)` represents a point on the X-Y plane and an integer `k`, return the `k` closest points to the origin `(0, 0)`.\n",
    "\n",
    "The distance between two points on the X-Y plane is the Euclidean distance (i.e, $\\sqrt{x_1^2 + y_1^2)}$.\n",
    "\n",
    "```python\n",
    "class Point:\n",
    "    pass\n",
    "\n",
    "mylist = [Point(3, 4), Point(6, 8), Point(2, 2), Point(9, 11)]\n",
    "```"
   ]
  },
  {
   "cell_type": "code",
   "execution_count": 2,
   "id": "ready-trauma",
   "metadata": {},
   "outputs": [],
   "source": [
    "class Point(object):\n",
    "    def __init__(self, x, y):\n",
    "        self.x = x\n",
    "        self.y = y\n",
    "        \n",
    "    def __abs__(self):\n",
    "        return (self.x ** 2 + self.y ** 2) ** 0.5\n",
    "    \n",
    "    # defining greater than operation\n",
    "    def __gt__(self, obj):\n",
    "        return abs(self) > abs(obj)"
   ]
  },
  {
   "cell_type": "code",
   "execution_count": 3,
   "id": "medical-finance",
   "metadata": {},
   "outputs": [],
   "source": [
    "mylist = [Point(3, 4), Point(6, 8), Point(2, 2), Point(9, 11)]"
   ]
  },
  {
   "cell_type": "code",
   "execution_count": 4,
   "id": "speaking-preference",
   "metadata": {},
   "outputs": [
    {
     "data": {
      "text/plain": [
       "[<__main__.Point at 0x7f17954e9fd0>,\n",
       " <__main__.Point at 0x7f17954e93d0>,\n",
       " <__main__.Point at 0x7f17954e9a10>,\n",
       " <__main__.Point at 0x7f17954e9ad0>]"
      ]
     },
     "execution_count": 4,
     "metadata": {},
     "output_type": "execute_result"
    }
   ],
   "source": [
    "sorted(mylist)"
   ]
  },
  {
   "cell_type": "code",
   "execution_count": 5,
   "id": "patient-acceptance",
   "metadata": {},
   "outputs": [
    {
     "data": {
      "text/plain": [
       "False"
      ]
     },
     "execution_count": 5,
     "metadata": {},
     "output_type": "execute_result"
    }
   ],
   "source": [
    "Point(3, 4) > Point(6, 8)"
   ]
  },
  {
   "cell_type": "markdown",
   "id": "public-fusion",
   "metadata": {},
   "source": [
    "2. Define `__str__` and `__repr__` dunder methods."
   ]
  },
  {
   "cell_type": "code",
   "execution_count": 6,
   "id": "pressed-invalid",
   "metadata": {},
   "outputs": [],
   "source": [
    "class Point(object):\n",
    "    def __init__(self, x, y):\n",
    "        self.x = x\n",
    "        self.y = y\n",
    "        \n",
    "    def __abs__(self):\n",
    "        return (self.x ** 2 + self.y ** 2) ** 0.5\n",
    "    \n",
    "    # defining greater than operation\n",
    "    def __gt__(self, obj):\n",
    "        return abs(self) > abs(obj)\n",
    "\n",
    "    def __str__(self):\n",
    "        # best solution using f-string\n",
    "        return f\"Point({self.x}, {self.y}) [str]\"\n",
    "\n",
    "        # using .format\n",
    "        return \"Point({}, {}) [with format]\".format(self.x, self.y)\n",
    "\n",
    "        # worst solution\n",
    "        return \"Point(\" + str(self.x) + \", \" + str(self.y) + \") [simple]\"\n",
    "        \n",
    "    def __repr__(self):\n",
    "        return f\"Point({self.x}, {self.y})\""
   ]
  },
  {
   "cell_type": "markdown",
   "id": "level-castle",
   "metadata": {},
   "source": [
    "Read [Python String Conversion 101: Why Every Class Needs a “repr”](https://dbader.org/blog/python-repr-vs-str) for a complete tutorial on `__repr__` and the difference between `__repr__` and `__str__`."
   ]
  },
  {
   "cell_type": "markdown",
   "id": "renewable-estonia",
   "metadata": {},
   "source": [
    "3. Extend your class to `n` dimensions ($\\sqrt[2]{x_1^2 + x_2^2 + ... + x_n^2}$)"
   ]
  },
  {
   "cell_type": "code",
   "execution_count": 307,
   "id": "loose-contents",
   "metadata": {},
   "outputs": [],
   "source": [
    "class Point:\n",
    "    def __init__(self, *args):\n",
    "        self.args = args\n",
    "        \n",
    "    def __abs__(self):\n",
    "        sum_values = sum([item ** 2 for item in self.args])\n",
    "        return sum_values ** 0.5\n",
    "    \n",
    "    def __gt__(self, obj):\n",
    "        return abs(self) > abs(obj)\n",
    "\n",
    "    def __repr__(self):\n",
    "        return f\"Point{self.args}\""
   ]
  },
  {
   "cell_type": "code",
   "execution_count": 308,
   "id": "optimum-disco",
   "metadata": {},
   "outputs": [],
   "source": [
    "mylist = [Point(3, 4, 5), Point(6, 8), Point(2, 2, 2, 2), Point(9)]"
   ]
  },
  {
   "cell_type": "code",
   "execution_count": 309,
   "id": "similar-logic",
   "metadata": {},
   "outputs": [
    {
     "data": {
      "text/plain": [
       "[Point(2, 2, 2, 2), Point(3, 4, 5), Point(9,), Point(6, 8)]"
      ]
     },
     "execution_count": 309,
     "metadata": {},
     "output_type": "execute_result"
    }
   ],
   "source": [
    "sorted(mylist)"
   ]
  },
  {
   "cell_type": "markdown",
   "id": "warming-neighborhood",
   "metadata": {},
   "source": [
    "4. Write your class in a module named `geo.py` and import it."
   ]
  },
  {
   "cell_type": "code",
   "execution_count": 7,
   "id": "conceptual-drain",
   "metadata": {},
   "outputs": [
    {
     "ename": "ModuleNotFoundError",
     "evalue": "No module named 'geo'",
     "output_type": "error",
     "traceback": [
      "\u001b[0;31m---------------------------------------------------------------------------\u001b[0m",
      "\u001b[0;31mModuleNotFoundError\u001b[0m                       Traceback (most recent call last)",
      "\u001b[0;32m<ipython-input-7-ec2a0f8ead2b>\u001b[0m in \u001b[0;36m<module>\u001b[0;34m\u001b[0m\n\u001b[0;32m----> 1\u001b[0;31m \u001b[0;32mfrom\u001b[0m \u001b[0mgeo\u001b[0m \u001b[0;32mimport\u001b[0m \u001b[0mPoint\u001b[0m\u001b[0;34m\u001b[0m\u001b[0;34m\u001b[0m\u001b[0m\n\u001b[0m",
      "\u001b[0;31mModuleNotFoundError\u001b[0m: No module named 'geo'"
     ]
    }
   ],
   "source": [
    "from geo import Point"
   ]
  },
  {
   "cell_type": "code",
   "execution_count": null,
   "id": "approved-hybrid",
   "metadata": {},
   "outputs": [],
   "source": []
  }
 ],
 "metadata": {
  "kernelspec": {
   "display_name": "Python 3",
   "language": "python",
   "name": "python3"
  },
  "language_info": {
   "codemirror_mode": {
    "name": "ipython",
    "version": 3
   },
   "file_extension": ".py",
   "mimetype": "text/x-python",
   "name": "python",
   "nbconvert_exporter": "python",
   "pygments_lexer": "ipython3",
   "version": "3.7.9"
  }
 },
 "nbformat": 4,
 "nbformat_minor": 5
}
