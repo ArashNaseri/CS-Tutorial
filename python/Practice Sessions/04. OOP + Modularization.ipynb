{
 "cells": [
  {
   "cell_type": "markdown",
   "id": "moved-visibility",
   "metadata": {},
   "source": [
    "# OOP and Modularization"
   ]
  },
  {
   "cell_type": "markdown",
   "id": "supreme-discovery",
   "metadata": {},
   "source": [
    "1. Given an array of points where `points[i] = Point(xi, yi)` represents a point on the X-Y plane and an integer `k`, return the `k` closest points to the origin `(0, 0)`.\n",
    "\n",
    "The distance between two points on the X-Y plane is the Euclidean distance (i.e, $\\sqrt{(x1 - x2)^2 + (y1 - y2)^2)}$.\n",
    "\n",
    "```python\n",
    "class Point:\n",
    "    pass\n",
    "\n",
    "arr = [Point(3, 4), Point(6, 8), Point(2, 2), Point(9, 11)]\n",
    "```"
   ]
  },
  {
   "cell_type": "code",
   "execution_count": 28,
   "id": "packed-keyboard",
   "metadata": {},
   "outputs": [],
   "source": [
    "class Point:\n",
    "    def __init__(self, x, y):\n",
    "        self.x = x\n",
    "        self.y = y\n",
    "        \n",
    "    def __abs__(self):\n",
    "        return (self.x**2 + self.y**2) ** 0.5\n",
    "    \n",
    "    def __lt__(self, obj):\n",
    "        return abs(self) < abs(obj)\n",
    "    \n",
    "    def __str__(self):\n",
    "        return f\"[{self.x}, {self.y}]\"\n",
    "    def __repr__(self):\n",
    "        return f\"Point({self.x}, {self.y})\""
   ]
  },
  {
   "cell_type": "code",
   "execution_count": 29,
   "id": "executed-bailey",
   "metadata": {},
   "outputs": [
    {
     "data": {
      "text/plain": [
       "True"
      ]
     },
     "execution_count": 29,
     "metadata": {},
     "output_type": "execute_result"
    }
   ],
   "source": [
    "Point(3, 4) < Point(6, 8)"
   ]
  },
  {
   "cell_type": "code",
   "execution_count": 30,
   "id": "aerial-satisfaction",
   "metadata": {},
   "outputs": [],
   "source": [
    "arr = [Point(3, 4), Point(6, 8), Point(2, 2), Point(9, 11)]"
   ]
  },
  {
   "cell_type": "code",
   "execution_count": 32,
   "id": "junior-precipitation",
   "metadata": {},
   "outputs": [
    {
     "data": {
      "text/plain": [
       "[Point(2, 2), Point(3, 4), Point(6, 8), Point(9, 11)]"
      ]
     },
     "execution_count": 32,
     "metadata": {},
     "output_type": "execute_result"
    }
   ],
   "source": [
    "sorted(arr)"
   ]
  },
  {
   "cell_type": "markdown",
   "id": "renewable-estonia",
   "metadata": {},
   "source": [
    "2. Extend your class to `n` dimensions ($\\sqrt[n]{(x_{11} - x_{21})^2 + (x_{12} - x_{22})^2) + ... + (x_{1n} - x_{2n})^2}$)"
   ]
  },
  {
   "cell_type": "code",
   "execution_count": 41,
   "id": "sharp-flush",
   "metadata": {},
   "outputs": [],
   "source": [
    "class Point:\n",
    "    def __init__(self, *args):\n",
    "        self.elements = args\n",
    "        \n",
    "    def __abs__(self):\n",
    "        return sum([e**2 for e in self.elements]) ** (1 / len(self.elements))\n",
    "    \n",
    "    def __lt__(self, obj):\n",
    "        return abs(self) < abs(obj)\n",
    "    \n",
    "    def __repr__(self):\n",
    "        return f\"Point{self.elements}\""
   ]
  },
  {
   "cell_type": "code",
   "execution_count": 42,
   "id": "activated-uganda",
   "metadata": {},
   "outputs": [
    {
     "data": {
      "text/plain": [
       "2.6591479484724942"
      ]
     },
     "execution_count": 42,
     "metadata": {},
     "output_type": "execute_result"
    }
   ],
   "source": [
    "abs(Point(3, 4, 3, 4))"
   ]
  },
  {
   "cell_type": "code",
   "execution_count": 43,
   "id": "informative-spending",
   "metadata": {},
   "outputs": [
    {
     "data": {
      "text/plain": [
       "[Point(3, 4, 5), Point(3, 4, 8)]"
      ]
     },
     "execution_count": 43,
     "metadata": {},
     "output_type": "execute_result"
    }
   ],
   "source": [
    "sorted([Point(3, 4, 5), Point(3, 4, 8)])"
   ]
  },
  {
   "cell_type": "markdown",
   "id": "warming-neighborhood",
   "metadata": {},
   "source": [
    "3. Write your class in a module named `shape.py` and import it in `main.py`."
   ]
  }
 ],
 "metadata": {
  "kernelspec": {
   "display_name": "Python 3",
   "language": "python",
   "name": "python3"
  },
  "language_info": {
   "codemirror_mode": {
    "name": "ipython",
    "version": 3
   },
   "file_extension": ".py",
   "mimetype": "text/x-python",
   "name": "python",
   "nbconvert_exporter": "python",
   "pygments_lexer": "ipython3",
   "version": "3.7.10"
  }
 },
 "nbformat": 4,
 "nbformat_minor": 5
}
