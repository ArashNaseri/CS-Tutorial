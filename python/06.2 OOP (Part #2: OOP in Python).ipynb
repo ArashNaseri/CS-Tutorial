{
 "cells": [
  {
   "cell_type": "markdown",
   "metadata": {},
   "source": [
    "# Object Oriented Programming (Part #2: OOP in Python)\n",
    "\n",
    "- Review:\n",
    "    - Classes are \"instance factories\"\n",
    "    - Classes define an \"instance blueprint\"\n",
    "    - An Object is a unit of data (having one or more attributes), of a particular `class` or `type`, with associated functionality (methods)\n",
    "\n",
    "- Construct an instance or object of the class:\n",
    "    - Instances know to which class they belong (\"type\")\n",
    "    - Instances can access variables defined in the class\n"
   ]
  },
  {
   "cell_type": "markdown",
   "metadata": {},
   "source": [
    "A class in python is defined as below:\n",
    "\n",
    "**Note:** Class names start with a capital letter by convention.\n",
    "\n",
    "\n",
    "```python\n",
    "class NameOfClass():\n",
    "    def __init__(self, param1, param2):\n",
    "        self.param1 = param1\n",
    "        self.param2 = param2\n",
    "\n",
    "        flag = True\n",
    "\n",
    "    def some_method(self):\n",
    "        local_var = 3\n",
    "        # perfome some action\n",
    "        pass\n",
    "```"
   ]
  },
  {
   "cell_type": "markdown",
   "metadata": {},
   "source": [
    "Primitive data structures—like numbers, strings, and lists—are designed to represent simple pieces of information, such as the cost of an apple, the name of a poem, or your favorite colors, respectively. With classes, you can represent something more complex. Classes are used to create user-defined data structures."
   ]
  },
  {
   "cell_type": "markdown",
   "metadata": {},
   "source": [
    "## Instantiate an Object in Python"
   ]
  },
  {
   "cell_type": "markdown",
   "metadata": {},
   "source": [
    "A real example:"
   ]
  },
  {
   "cell_type": "code",
   "execution_count": 35,
   "metadata": {},
   "outputs": [],
   "source": [
    "class Student():\n",
    "    country = \"Canada\"\n",
    "    \n",
    "    # constructor\n",
    "    def __init__(self, name, student_id, grades={}):\n",
    "        \n",
    "        print(\"Constructor is called!\")\n",
    "        # instance attributes\n",
    "        self.name = name\n",
    "        self.student_id = student_id\n",
    "        self.grades = grades\n",
    "    \n",
    "    university = \"University of Alberta\""
   ]
  },
  {
   "cell_type": "markdown",
   "metadata": {},
   "source": [
    "The properties that all `Student` objects must have are defined in a method called `.__init__()`. Every time a new `Student` object is created, `.__init__()` sets the initial state of the object by assigning the values of the object’s properties. That is, `.__init__()` initializes each new instance of the class."
   ]
  },
  {
   "cell_type": "markdown",
   "metadata": {},
   "source": [
    "You can give `.__init__()` any number of parameters, but the first parameter will always be a variable called self. When a new class instance is created, the instance is automatically passed to the **`self`** parameter in `.__init__()` so that new attributes can be defined on the object."
   ]
  },
  {
   "cell_type": "code",
   "execution_count": 32,
   "metadata": {},
   "outputs": [
    {
     "name": "stdout",
     "output_type": "stream",
     "text": [
      "Constructor is called!\n"
     ]
    }
   ],
   "source": [
    "st_1 = Student(\"Ali\", \"123\")"
   ]
  },
  {
   "cell_type": "code",
   "execution_count": 33,
   "metadata": {},
   "outputs": [
    {
     "name": "stdout",
     "output_type": "stream",
     "text": [
      "Constructor is called!\n"
     ]
    }
   ],
   "source": [
    "st_2 = Student(\"Mohsen\", \"456\", {\"Math\": 4, \"Physics\": 3.7})"
   ]
  },
  {
   "cell_type": "markdown",
   "metadata": {},
   "source": [
    "### Instance and Class Attributes"
   ]
  },
  {
   "cell_type": "markdown",
   "metadata": {},
   "source": [
    "In the body of `.__init__()`, there are three statements using the self variable:\n",
    "\n",
    "1. `self.name = name`\n",
    "2. `self.student_id = student_id`\n",
    "3. `self.grades = grades`\n",
    "\n",
    "Which creates three instance attribute."
   ]
  },
  {
   "cell_type": "markdown",
   "metadata": {},
   "source": [
    "An instance attribute’s value is specific to a particular instance of the class. All Student objects have a `name`, `student_id`, and `grade`, but the values for the `name`, `student_id`, and `grade` attributes will vary depending on the `Student` instance."
   ]
  },
  {
   "cell_type": "markdown",
   "metadata": {},
   "source": [
    "After you create the two instances, you can access their instance attributes using **dot notation**:"
   ]
  },
  {
   "cell_type": "code",
   "execution_count": 30,
   "metadata": {},
   "outputs": [
    {
     "data": {
      "text/plain": [
       "('Ali', 'Mohsen')"
      ]
     },
     "execution_count": 30,
     "metadata": {},
     "output_type": "execute_result"
    }
   ],
   "source": [
    "st_1.name, st_2.name"
   ]
  },
  {
   "cell_type": "code",
   "execution_count": 31,
   "metadata": {},
   "outputs": [
    {
     "data": {
      "text/plain": [
       "({}, {'Math': 4, 'Physics': 3.7})"
      ]
     },
     "execution_count": 31,
     "metadata": {},
     "output_type": "execute_result"
    }
   ],
   "source": [
    "st_1.grades, st_2.grades"
   ]
  },
  {
   "cell_type": "markdown",
   "metadata": {},
   "source": [
    "On the other hand, class attributes are attributes that have the same value for all class instances. You can define a class attribute by assigning a value to a variable name outside of class methods without using `self`."
   ]
  },
  {
   "cell_type": "markdown",
   "metadata": {},
   "source": [
    "For example, the `Student` class has two class attribute called `country` and `university` with the values `Canada` and `University of Alberta`, respectively."
   ]
  },
  {
   "cell_type": "markdown",
   "metadata": {},
   "source": [
    "You can access class attributes the same way with **dot notation**:"
   ]
  },
  {
   "cell_type": "code",
   "execution_count": 11,
   "metadata": {},
   "outputs": [
    {
     "data": {
      "text/plain": [
       "('Canada', 'Canada')"
      ]
     },
     "execution_count": 11,
     "metadata": {},
     "output_type": "execute_result"
    }
   ],
   "source": [
    "st_1.country, st_2.country"
   ]
  },
  {
   "cell_type": "code",
   "execution_count": 12,
   "metadata": {},
   "outputs": [
    {
     "data": {
      "text/plain": [
       "('University of Alberta', 'University of Alberta')"
      ]
     },
     "execution_count": 12,
     "metadata": {},
     "output_type": "execute_result"
    }
   ],
   "source": [
    "st_1.university, st_2.university"
   ]
  },
  {
   "cell_type": "markdown",
   "metadata": {},
   "source": [
    "**Note:** It is best practice to define Class attributes directly beneath the first line of the class name. They must always be assigned an initial value. When an instance of the class is created, class attributes are automatically created and assigned to their initial values."
   ]
  },
  {
   "cell_type": "markdown",
   "metadata": {},
   "source": [
    "### Instance Methods"
   ]
  },
  {
   "cell_type": "markdown",
   "metadata": {},
   "source": [
    "Instance methods are functions that are defined inside a class and can only be called from an instance of that class. Just like `.__init__()`, an instance method’s first parameter is always self."
   ]
  },
  {
   "cell_type": "code",
   "execution_count": 65,
   "metadata": {},
   "outputs": [],
   "source": [
    "class Student():\n",
    "    # best practice is to define class attributes directly\n",
    "    # beneath the first line of the class name.\n",
    "    country = \"Canada\"\n",
    "    university = \"University of Alberta\"\n",
    "    \n",
    "    # constructor\n",
    "    def __init__(self, name, student_id, grades={}):\n",
    "        \n",
    "        print(\"Constructor is called!\")\n",
    "        # instance attributes\n",
    "        self.name = name\n",
    "        self.student_id = student_id\n",
    "        self.grades = grades\n",
    "    \n",
    "    # instance method\n",
    "    def calculate_gpa(self):\n",
    "        num_courses = len(self.grades)\n",
    "        \n",
    "        # if there are no courses, gpa is 0.\n",
    "        if not num_courses:\n",
    "            return 0\n",
    "        \n",
    "        gpa = sum(self.grades.values()) / num_courses\n",
    "        return gpa"
   ]
  },
  {
   "cell_type": "code",
   "execution_count": 66,
   "metadata": {},
   "outputs": [
    {
     "name": "stdout",
     "output_type": "stream",
     "text": [
      "Constructor is called!\n",
      "Constructor is called!\n"
     ]
    }
   ],
   "source": [
    "st_1 = Student(\"Ali\", \"123\")\n",
    "st_2 = Student(\"Mohsen\", \"456\", {\"Math\": 4, \"Physics\": 3.7})"
   ]
  },
  {
   "cell_type": "code",
   "execution_count": 67,
   "metadata": {},
   "outputs": [
    {
     "data": {
      "text/plain": [
       "0"
      ]
     },
     "execution_count": 67,
     "metadata": {},
     "output_type": "execute_result"
    }
   ],
   "source": [
    "st_1.calculate_gpa()"
   ]
  },
  {
   "cell_type": "code",
   "execution_count": 68,
   "metadata": {},
   "outputs": [
    {
     "data": {
      "text/plain": [
       "3.85"
      ]
     },
     "execution_count": 68,
     "metadata": {},
     "output_type": "execute_result"
    }
   ],
   "source": [
    "st_2.calculate_gpa()"
   ]
  },
  {
   "cell_type": "markdown",
   "metadata": {},
   "source": [
    "#### `dunder` Methods"
   ]
  },
  {
   "cell_type": "markdown",
   "metadata": {},
   "source": [
    "**Note:** Methods like `.__init__()` are called **dunder** methods because they begin and end with double underscores. There are many dunder methods that you can use to customize classes in Python. Although too advanced a topic for a beginning Python book, understanding dunder methods is an important part of mastering object-oriented programming in Python."
   ]
  },
  {
   "cell_type": "markdown",
   "metadata": {},
   "source": [
    "Let's see another **dunder** method: `.__str__`"
   ]
  },
  {
   "cell_type": "markdown",
   "metadata": {},
   "source": [
    "When you `print(st_1)`, you get a cryptic looking message telling you that miles is a `Student` object at the memory address `0x00aeff70` (it will be a different address on your computer). This message isn’t very helpful. You can change what gets printed by defining a special instance method called `.__str__()`."
   ]
  },
  {
   "cell_type": "code",
   "execution_count": 69,
   "metadata": {},
   "outputs": [
    {
     "name": "stdout",
     "output_type": "stream",
     "text": [
      "<__main__.Student object at 0x7f9e705326d0>\n"
     ]
    }
   ],
   "source": [
    "print(st_1)"
   ]
  },
  {
   "cell_type": "code",
   "execution_count": 83,
   "metadata": {},
   "outputs": [],
   "source": [
    "class Student():\n",
    "    # best practice is to define class attributes directly\n",
    "    # beneath the first line of the class name.\n",
    "    country = \"Canada\"\n",
    "    university = \"University of Alberta\"\n",
    "    \n",
    "    # constructor\n",
    "    def __init__(self, name, student_id, grades={}):\n",
    "        \n",
    "        print(\"Constructor is called!\")\n",
    "        # instance attributes\n",
    "        self.name = name\n",
    "        self.student_id = student_id\n",
    "        self.grades = grades\n",
    "    \n",
    "    # instance method\n",
    "    def calculate_gpa(self):\n",
    "        num_courses = len(self.grades)\n",
    "        \n",
    "        # if there are no courses, gpa is 0.\n",
    "        if not num_courses:\n",
    "            return 0\n",
    "        \n",
    "        gpa = sum(self.grades.values()) / num_courses\n",
    "        return gpa\n",
    "    \n",
    "    def __str__(self):\n",
    "        return f\"{self.name} with {len(self.grades)} courses (GPA: {self.calculate_gpa()}).\""
   ]
  },
  {
   "cell_type": "code",
   "execution_count": 84,
   "metadata": {},
   "outputs": [
    {
     "name": "stdout",
     "output_type": "stream",
     "text": [
      "Constructor is called!\n",
      "Constructor is called!\n"
     ]
    }
   ],
   "source": [
    "st_1 = Student(\"Ali\", \"123\")\n",
    "st_2 = Student(\"Mohsen\", \"456\", {\"Math\": 4, \"Physics\": 3.7})"
   ]
  },
  {
   "cell_type": "code",
   "execution_count": 85,
   "metadata": {},
   "outputs": [
    {
     "name": "stdout",
     "output_type": "stream",
     "text": [
      "Ali with 0 courses (GPA: 0).\n"
     ]
    }
   ],
   "source": [
    "print(st_1)"
   ]
  },
  {
   "cell_type": "code",
   "execution_count": 86,
   "metadata": {},
   "outputs": [
    {
     "name": "stdout",
     "output_type": "stream",
     "text": [
      "Mohsen with 2 courses (GPA: 3.85).\n"
     ]
    }
   ],
   "source": [
    "print(st_2)"
   ]
  },
  {
   "cell_type": "markdown",
   "metadata": {},
   "source": [
    "## How the `object.method()` Syntax Works\n",
    "```python\n",
    ">>> obj = MyClass()\n",
    ">>> obj.method()\n",
    "('instance method called', <MyClass instance at 0x101a2f4c8>)\n",
    "```\n",
    "\n",
    "When the method is called, Python replaces the self argument with the instance object, obj. We could ignore the syntactic sugar of the dot-call syntax (`obj.method()`) and pass the instance object manually to get the same result:\n",
    "\n",
    "```python\n",
    ">>> MyClass.method(obj)\n",
    "('instance method called', <MyClass instance at 0x101a2f4c8>)\n",
    "```"
   ]
  },
  {
   "cell_type": "markdown",
   "metadata": {},
   "source": [
    "This example shows how instance is automatically passed to the `self` parameter."
   ]
  },
  {
   "cell_type": "code",
   "execution_count": 88,
   "metadata": {},
   "outputs": [
    {
     "name": "stdout",
     "output_type": "stream",
     "text": [
      "Constructor is called!\n"
     ]
    }
   ],
   "source": [
    "st1 = Student(name=\"Ali\", student_id=\"123\")"
   ]
  },
  {
   "cell_type": "markdown",
   "metadata": {},
   "source": [
    "These two lines do the same"
   ]
  },
  {
   "cell_type": "code",
   "execution_count": 92,
   "metadata": {},
   "outputs": [
    {
     "data": {
      "text/plain": [
       "0"
      ]
     },
     "execution_count": 92,
     "metadata": {},
     "output_type": "execute_result"
    }
   ],
   "source": [
    "Student.calculate_gpa(st1)"
   ]
  },
  {
   "cell_type": "code",
   "execution_count": 93,
   "metadata": {},
   "outputs": [
    {
     "data": {
      "text/plain": [
       "0"
      ]
     },
     "execution_count": 93,
     "metadata": {},
     "output_type": "execute_result"
    }
   ],
   "source": [
    "st1.calculate_gpa()"
   ]
  },
  {
   "cell_type": "markdown",
   "metadata": {},
   "source": [
    "The second line is simpler and often used but is just only a **syntactic sugar**."
   ]
  }
 ],
 "metadata": {
  "kernelspec": {
   "display_name": "Python 3",
   "language": "python",
   "name": "python3"
  },
  "language_info": {
   "codemirror_mode": {
    "name": "ipython",
    "version": 3
   },
   "file_extension": ".py",
   "mimetype": "text/x-python",
   "name": "python",
   "nbconvert_exporter": "python",
   "pygments_lexer": "ipython3",
   "version": "3.7.6"
  }
 },
 "nbformat": 4,
 "nbformat_minor": 4
}
