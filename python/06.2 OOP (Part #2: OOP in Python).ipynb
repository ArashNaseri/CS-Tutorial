{
 "cells": [
  {
   "cell_type": "markdown",
   "metadata": {},
   "source": [
    "# 07.2 Object Oriented Programming (OOP)\n",
    "\n",
    "- Review:\n",
    "    - Classes are \"instance factories\"\n",
    "    - Classes define an \"instance blueprint\"\n",
    "    - An Object is a unit of data (having one or more attributes), of a particular `class` or `type`, with associated functionality (methods)\n",
    "\n",
    "- Construct an instance or object of the class:\n",
    "    - Instances know to which class they belong (\"type\")\n",
    "    - Instances can access variables defined in the class\n"
   ]
  },
  {
   "cell_type": "markdown",
   "metadata": {},
   "source": [
    "A class in python is defined as below:\n",
    "\n",
    "**Note:** Class names start with a capital letter by convention.\n",
    "\n",
    "\n",
    "```python\n",
    "class NameOfClass():\n",
    "    def __init__(self, param1, param2):\n",
    "        self.param1 = param1\n",
    "        self.param2 = param2\n",
    "\n",
    "        flag = True\n",
    "\n",
    "    def some_method(self):\n",
    "        local_var = 3\n",
    "        # perfome some action\n",
    "        pass\n",
    "```"
   ]
  },
  {
   "cell_type": "markdown",
   "metadata": {},
   "source": [
    "Primitive data structures—like numbers, strings, and lists—are designed to represent simple pieces of information, such as the cost of an apple, the name of a poem, or your favorite colors, respectively. With classes, you can represent something more complex. Classes are used to create user-defined data structures."
   ]
  },
  {
   "cell_type": "markdown",
   "metadata": {},
   "source": [
    "A real example:"
   ]
  },
  {
   "cell_type": "code",
   "execution_count": 10,
   "metadata": {},
   "outputs": [],
   "source": [
    "class Student():\n",
    "    \n",
    "    # constructor\n",
    "    def __init__(self, name, student_id, grades={}):\n",
    "        \n",
    "        # instance attributes\n",
    "        self.name = name\n",
    "        self.student_id = student_id\n",
    "        self.grades = {}\n",
    "        \n",
    "    # instance method\n",
    "    def calculate_gpa(self):\n",
    "        num_courses = len(self.grades)\n",
    "        \n",
    "        if not num_courses:\n",
    "            return 0\n",
    "        \n",
    "        gpa = sum(self.grades.values()) / num_courses\n",
    "        return gpa"
   ]
  },
  {
   "cell_type": "code",
   "execution_count": 11,
   "metadata": {},
   "outputs": [],
   "source": [
    "st_1 = Student(\"Ali\", \"123\")"
   ]
  },
  {
   "cell_type": "code",
   "execution_count": 12,
   "metadata": {},
   "outputs": [
    {
     "data": {
      "text/plain": [
       "0"
      ]
     },
     "execution_count": 12,
     "metadata": {},
     "output_type": "execute_result"
    }
   ],
   "source": [
    "st_1.calculate_gpa()"
   ]
  },
  {
   "cell_type": "code",
   "execution_count": 13,
   "metadata": {},
   "outputs": [],
   "source": [
    "st_2 = Student(\"Mohsen\", \"456\", {\"Math\": 4, \"Physics\": 3.7})"
   ]
  },
  {
   "cell_type": "code",
   "execution_count": 14,
   "metadata": {},
   "outputs": [
    {
     "data": {
      "text/plain": [
       "0"
      ]
     },
     "execution_count": 14,
     "metadata": {},
     "output_type": "execute_result"
    }
   ],
   "source": [
    "st_2.calculate_gpa()"
   ]
  },
  {
   "cell_type": "markdown",
   "metadata": {},
   "source": [
    "## How the Syntax Works\n",
    "```python\n",
    ">>> obj = MyClass()\n",
    ">>> obj.method()\n",
    "('instance method called', <MyClass instance at 0x101a2f4c8>)\n",
    "```\n",
    "\n",
    "When the method is called, Python replaces the self argument with the instance object, obj. We could ignore the syntactic sugar of the dot-call syntax (`obj.method()`) and pass the instance object manually to get the same result:\n",
    "\n",
    "```python\n",
    ">>> MyClass.method(obj)\n",
    "('instance method called', <MyClass instance at 0x101a2f4c8>)\n",
    "```"
   ]
  },
  {
   "cell_type": "code",
   "execution_count": 15,
   "metadata": {},
   "outputs": [],
   "source": [
    "st1 = Student(name=\"Ali\", student_id=\"123\")"
   ]
  },
  {
   "cell_type": "code",
   "execution_count": 18,
   "metadata": {},
   "outputs": [
    {
     "data": {
      "text/plain": [
       "0"
      ]
     },
     "execution_count": 18,
     "metadata": {},
     "output_type": "execute_result"
    }
   ],
   "source": [
    "# these two lines do the same\n",
    "# the second line is often simplest and often used but is just only a syntactic sugar.\n",
    "Student.calculate_gpa(st1)\n",
    "st1.calculate_gpa()"
   ]
  }
 ],
 "metadata": {
  "kernelspec": {
   "display_name": "Python 3",
   "language": "python",
   "name": "python3"
  },
  "language_info": {
   "codemirror_mode": {
    "name": "ipython",
    "version": 3
   },
   "file_extension": ".py",
   "mimetype": "text/x-python",
   "name": "python",
   "nbconvert_exporter": "python",
   "pygments_lexer": "ipython3",
   "version": "3.7.6"
  }
 },
 "nbformat": 4,
 "nbformat_minor": 4
}
