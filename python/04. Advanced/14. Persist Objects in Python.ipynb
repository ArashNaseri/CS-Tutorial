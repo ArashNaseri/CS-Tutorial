{
 "cells": [
  {
   "cell_type": "markdown",
   "id": "ancient-capitol",
   "metadata": {},
   "source": [
    "# Persist Objects in Python"
   ]
  },
  {
   "cell_type": "markdown",
   "id": "artistic-mining",
   "metadata": {},
   "source": [
    "As a developer, you may sometimes need to send complex object hierarchies over a network or save the internal state of your objects to a disk or database for later use. To accomplish this, you can use a process called serialization, which is fully supported by the standard library thanks to the Python `pickle` module."
   ]
  },
  {
   "cell_type": "markdown",
   "id": "italian-alignment",
   "metadata": {},
   "source": [
    "In this section, you’ll learn:\n",
    "\n",
    "- What it means to **serialize** and **deserialize** an object\n",
    "- Which **modules** you can use to serialize objects in Python\n",
    "- Which kinds of objects can be serialized with the Python `pickle` module\n",
    "- How to use the Python pickle module to serialize **object hierarchies**\n",
    "- What the **risks** are when deserializing an object from an untrusted source\n",
    "\n",
    "Let’s get pickling!"
   ]
  },
  {
   "cell_type": "markdown",
   "id": "extra-plenty",
   "metadata": {},
   "source": [
    "## Serialization in Python"
   ]
  },
  {
   "cell_type": "markdown",
   "id": "alternative-christianity",
   "metadata": {},
   "source": [
    "The **serialization** process is a way to convert a data structure into a linear form that can be stored or transmitted over a network."
   ]
  },
  {
   "cell_type": "markdown",
   "id": "educational-cooper",
   "metadata": {},
   "source": [
    "In Python, serialization allows you to take a complex object structure and transform it into a stream of bytes that can be saved to a disk or sent over a network. You may also see this process referred to as **marshalling**. The reverse process, which takes a stream of bytes and converts it back into a data structure, is called **deserialization** or **unmarshalling**."
   ]
  },
  {
   "cell_type": "markdown",
   "id": "metropolitan-breath",
   "metadata": {},
   "source": [
    "Serialization can be used in a lot of different situations. One of the most common uses is saving the state of a neural network after the training phase so that you can use it later without having to redo the training."
   ]
  },
  {
   "cell_type": "markdown",
   "id": "latin-european",
   "metadata": {},
   "source": [
    "Python offers three different modules in the standard library that allow you to serialize and deserialize objects:\n",
    "\n",
    "1. The [`marshal`](https://docs.python.org/3/library/marshal.html) module\n",
    "2. The [`json`](https://docs.python.org/3/library/json.html) module\n",
    "3. The [`pickle`](https://docs.python.org/3/library/pickle.html) module"
   ]
  },
  {
   "cell_type": "markdown",
   "id": "annoying-religion",
   "metadata": {},
   "source": [
    "In addition, Python supports [`XML`](https://www.xml.com/axml/axml.html), which you can also use to serialize objects."
   ]
  },
  {
   "cell_type": "markdown",
   "id": "moved-active",
   "metadata": {},
   "source": [
    "The `marshal` module is the oldest of the three listed above. It exists mainly to read and write the compiled bytecode of Python modules, or the `.pyc` files you get when the interpreter imports a Python module. So, even though you can use `marshal` to serialize some of your objects, it’s not recommended."
   ]
  },
  {
   "cell_type": "markdown",
   "id": "adjustable-prescription",
   "metadata": {},
   "source": [
    "The `json` module is the newest of the three. It allows you to work with standard JSON files. JSON is a very convenient and widely used format for data exchange."
   ]
  },
  {
   "cell_type": "markdown",
   "id": "moving-toolbox",
   "metadata": {},
   "source": [
    "There are several reasons to choose the JSON format: It’s human readable and language independent, and it’s lighter than XML. With the `json` module, you can serialize and deserialize several standard Python types:\n",
    "\n",
    "- `bool`\n",
    "- `dict`\n",
    "- `int`\n",
    "- `float`\n",
    "- `list`\n",
    "- `string`\n",
    "- `tuple`\n",
    "- `None`"
   ]
  },
  {
   "cell_type": "markdown",
   "id": "dietary-talent",
   "metadata": {},
   "source": [
    "The Python `pickle` module is another way to serialize and deserialize objects in Python. It differs from the `json` module in that it serializes objects in a binary format, which means the result is not human readable. However, it’s also faster and it works with many more Python types right out of the box, including your custom-defined objects."
   ]
  },
  {
   "cell_type": "markdown",
   "id": "greek-poverty",
   "metadata": {},
   "source": [
    "**Note:** From now on, you’ll see the terms **pickling** and **unpickling** used to refer to serializing and deserializing with the Python `pickle` module."
   ]
  },
  {
   "cell_type": "markdown",
   "id": "respected-klein",
   "metadata": {},
   "source": [
    "So, you have several different ways to serialize and deserialize objects in Python. But which one should you use? The short answer is that there’s no one-size-fits-all solution. It all depends on your use case."
   ]
  },
  {
   "cell_type": "markdown",
   "id": "retired-adoption",
   "metadata": {},
   "source": [
    "Here are three general guidelines for deciding which approach to use:\n",
    "\n",
    "1. Don’t use the `marshal` module. It’s used mainly by the interpreter, and the official documentation warns that the Python maintainers may modify the format in backward-incompatible ways.\n",
    "\n",
    "2. The `json` module and XML are good choices if you need interoperability with different languages or a human-readable format.\n",
    "\n",
    "3. The Python `pickle` module is a better choice for all the remaining use cases. If you don’t need a human-readable format or a standard interoperable format, or if you need to serialize custom objects, then go with `pickle`."
   ]
  },
  {
   "cell_type": "markdown",
   "id": "protective-champion",
   "metadata": {},
   "source": [
    "## Inside the Python pickle Module"
   ]
  },
  {
   "cell_type": "markdown",
   "id": "cooked-noise",
   "metadata": {},
   "source": [
    "The Python pickle module basically consists of four methods:\n",
    "```python\n",
    "pickle.dump(obj, file, protocol=None, *, fix_imports=True, buffer_callback=None)\n",
    "pickle.dumps(obj, protocol=None, *, fix_imports=True, buffer_callback=None)\n",
    "pickle.load(file, *, fix_imports=True, encoding=\"ASCII\", errors=\"strict\", buffers=None)\n",
    "pickle.loads(bytes_object, *, fix_imports=True, encoding=\"ASCII\", errors=\"strict\", buffers=None)\n",
    "```"
   ]
  },
  {
   "cell_type": "markdown",
   "id": "spoken-forth",
   "metadata": {},
   "source": [
    "The first two methods are used during the pickling process, and the other two are used during unpickling. The only difference between `dump()` and `dumps()` is that the first creates a file containing the serialization result, whereas the second returns a string."
   ]
  },
  {
   "cell_type": "markdown",
   "id": "english-apparel",
   "metadata": {},
   "source": [
    "To differentiate `dumps()` from `dump()`, it’s helpful to remember that **the `s` at the end of the function name stands for `string`**. The same concept also applies to `load()` and `loads()`: The first one reads a file to start the unpickling process, and the second one operates on a string."
   ]
  },
  {
   "cell_type": "markdown",
   "id": "green-butler",
   "metadata": {},
   "source": [
    "Consider the following example. Say you have a custom-defined class named `example_class` with several different attributes, each of a different type:\n",
    "\n",
    "- `a_number`\n",
    "- `a_string`\n",
    "- `a_dictionary`\n",
    "- `a_list`\n",
    "- `a_tuple`"
   ]
  },
  {
   "cell_type": "markdown",
   "id": "narrative-ethnic",
   "metadata": {},
   "source": [
    "The example below shows how you can instantiate the class and pickle the instance to get a plain string. After pickling the class, you can change the value of its attributes without affecting the pickled string. You can then unpickle the pickled string in another variable, restoring an exact copy of the previously pickled class:"
   ]
  },
  {
   "cell_type": "code",
   "execution_count": 4,
   "id": "blank-desktop",
   "metadata": {},
   "outputs": [
    {
     "name": "stdout",
     "output_type": "stream",
     "text": [
      "This is my pickled object:\n",
      "b'\\x80\\x03c__main__\\nexample_class\\nq\\x00)\\x81q\\x01.'\n",
      "\n",
      "This is a_dict of the unpickled object:\n",
      "{'first': 'a', 'second': 2, 'third': [1, 2, 3]}\n",
      "\n"
     ]
    }
   ],
   "source": [
    "# pickling.py\n",
    "import pickle\n",
    "\n",
    "class example_class:\n",
    "    a_number = 35\n",
    "    a_string = \"hey\"\n",
    "    a_list = [1, 2, 3]\n",
    "    a_dict = {\"first\": \"a\", \"second\": 2, \"third\": [1, 2, 3]}\n",
    "    a_tuple = (22, 23)\n",
    "\n",
    "my_object = example_class()\n",
    "\n",
    "my_pickled_object = pickle.dumps(my_object)  # Pickling the object\n",
    "print(f\"This is my pickled object:\\n{my_pickled_object}\\n\")\n",
    "\n",
    "my_object.a_dict = None\n",
    "\n",
    "my_unpickled_object = pickle.loads(my_pickled_object)  # Unpickling the object\n",
    "print(f\"This is a_dict of the unpickled object:\\n{my_unpickled_object.a_dict}\\n\")"
   ]
  },
  {
   "cell_type": "markdown",
   "id": "general-configuration",
   "metadata": {},
   "source": [
    "In the example above, you create several different objects and serialize them with `pickle`. This produces a single string with the serialized result."
   ]
  },
  {
   "cell_type": "markdown",
   "id": "distributed-bermuda",
   "metadata": {},
   "source": [
    "The pickling process ends correctly, storing your entire instance in this string: `b'\\x80\\x03c__main__\\nexample_class\\nq\\x00)\\x81q\\x01.'`. After the pickling process ends, you modify your original object by setting the attribute `a_dict` to `None.\n",
    "\n",
    "Finally, you unpickle the string to a completely new instance. What you get is a deep copy of your original object structure from the time that the pickling process began."
   ]
  }
 ],
 "metadata": {
  "kernelspec": {
   "display_name": "Python 3",
   "language": "python",
   "name": "python3"
  },
  "language_info": {
   "codemirror_mode": {
    "name": "ipython",
    "version": 3
   },
   "file_extension": ".py",
   "mimetype": "text/x-python",
   "name": "python",
   "nbconvert_exporter": "python",
   "pygments_lexer": "ipython3",
   "version": "3.7.9"
  }
 },
 "nbformat": 4,
 "nbformat_minor": 5
}
