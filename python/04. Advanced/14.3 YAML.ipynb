{
 "cells": [
  {
   "cell_type": "markdown",
   "id": "solid-parish",
   "metadata": {},
   "source": [
    "# YAML"
   ]
  },
  {
   "cell_type": "markdown",
   "id": "accepted-practitioner",
   "metadata": {},
   "source": [
    "**Y**AML **A**in't **M**arkup **L**anguage (**YAML**) is a serialization language that has steadily increased in popularity over the last few years. It's often used as a format for configuration files, but its object serialization abilities make it a viable replacement for languages like JSON. This YAML tutorial will demonstrate the language syntax with a guide and some simple coding examples in Python. YAML has broad language support and maps easily into native data structures. It's also easy to for humans to read, which is why it's a good choice for configuration. The YAML acronym was shorthand for **Yet Another Markup Language**. But the maintainers renamed it to **YAML Ain't Markup Language** to place more emphasis on its data-oriented features."
   ]
  },
  {
   "cell_type": "markdown",
   "id": "terminal-temple",
   "metadata": {},
   "source": [
    "YAML is a recently introduced data serialization format and is very comfortable for human reading and writing. YAML is poised to replace XML and JSON."
   ]
  },
  {
   "cell_type": "markdown",
   "id": "standard-button",
   "metadata": {},
   "source": [
    "## YAML Tutorial Quick Start: A Simple File"
   ]
  },
  {
   "cell_type": "markdown",
   "id": "direct-dynamics",
   "metadata": {},
   "source": [
    "Let's take a look at a YAML file for a brief overview."
   ]
  },
  {
   "cell_type": "markdown",
   "id": "genetic-beginning",
   "metadata": {},
   "source": [
    "```yaml\n",
    "---\n",
    "quiz: \n",
    "  description: >\n",
    "    \"This Quiz is to learn YAML.\"\n",
    "  questions:\n",
    "    - [\"How many planets are there in the solar system?\", \"Name the non-planet\"]\n",
    "    - \"Who is found more on the web?\"\n",
    "    - \"What is the value of pi?\"\n",
    "    - \"Is pluto related to platonic relationships?\"\n",
    "    - \"How many maximum members can play TT?\"\n",
    "    - \"Which value is no value?\"\n",
    "    - \"Don't you know that the Universe is ever-expanding?\"\n",
    " \n",
    "  answers:\n",
    "    - [8, \"pluto\"]\n",
    "    - cats\n",
    "    - 3.141592653589793\n",
    "    - true\n",
    "    - 4\n",
    "    - null\n",
    "    - no\n",
    "# explicit data conversion and reusing data blocks\n",
    "extra:\n",
    "  refer: &id011 # give a reference to data\n",
    "    x: !!float 5 # explicit conversion to data type float\n",
    "    y: 8\n",
    "  num1: !!int \"123\" # conversion to integer\n",
    "  str1: !!str 120 # conversion to string\n",
    "  again: *id011 # call data by giving the reference\n",
    "```"
   ]
  },
  {
   "cell_type": "markdown",
   "id": "molecular-strand",
   "metadata": {},
   "source": [
    "The identical `json` file is:"
   ]
  },
  {
   "cell_type": "markdown",
   "id": "behavioral-explorer",
   "metadata": {},
   "source": [
    "```json\n",
    "{\n",
    "  \"quiz\": {\n",
    "    \"description\": \"\\\"This Quiz is to learn YAML.\\\"\\n\",\n",
    "    \"questions\": [\n",
    "      [\n",
    "        \"How many planets are there in the solar system?\",\n",
    "        \"Name the non-planet\"\n",
    "      ],\n",
    "      \"Who is found more on the web?\",\n",
    "      \"What is the value of pi?\",\n",
    "      \"Is pluto related to platonic relationships?\",\n",
    "      \"How many maximum members can play TT?\",\n",
    "      \"Which value is no value?\",\n",
    "      \"Don't you know that the Universe is ever-expanding?\"\n",
    "    ],\n",
    "    \"answers\": [\n",
    "      [\n",
    "        8,\n",
    "        \"pluto\"\n",
    "      ],\n",
    "      \"cats\",\n",
    "      3.141592653589793,\n",
    "      true,\n",
    "      4,\n",
    "      null,\n",
    "      false\n",
    "    ]\n",
    "  },\n",
    "  \"extra\": {\n",
    "    \"refer\": {\n",
    "      \"x\": 5.0,\n",
    "      \"y\": 8\n",
    "    },\n",
    "    \"num1\": 123,\n",
    "    \"str1\": \"120\",\n",
    "    \"again\": {\n",
    "      \"x\": 5.0,\n",
    "      \"y\": 8\n",
    "    }\n",
    "  }\n",
    "}\n",
    "```"
   ]
  },
  {
   "cell_type": "markdown",
   "id": "selective-footage",
   "metadata": {},
   "source": [
    "JSON and YAML have similar capabilities, and you can convert most documents between the formats."
   ]
  },
  {
   "cell_type": "markdown",
   "id": "acquired-point",
   "metadata": {},
   "source": [
    "## Read YAML File"
   ]
  },
  {
   "cell_type": "markdown",
   "id": "artistic-honduras",
   "metadata": {},
   "source": [
    "Install a Python module called the `pyyaml` to work with YAML files.\n",
    "\n",
    "```bash\n",
    "pip install pyyaml\n",
    "```"
   ]
  },
  {
   "cell_type": "code",
   "execution_count": 11,
   "id": "traditional-donna",
   "metadata": {},
   "outputs": [
    {
     "name": "stdout",
     "output_type": "stream",
     "text": [
      "Writing learn_yaml.yaml\n"
     ]
    }
   ],
   "source": [
    "%%writefile learn_yaml.yaml\n",
    "message: Hello World"
   ]
  },
  {
   "cell_type": "code",
   "execution_count": 13,
   "id": "threatened-ireland",
   "metadata": {},
   "outputs": [
    {
     "name": "stdout",
     "output_type": "stream",
     "text": [
      "Key: Value\n",
      "message: Hello World\n"
     ]
    },
    {
     "name": "stderr",
     "output_type": "stream",
     "text": [
      "/home/ali/anaconda3/envs/test/lib/python3.7/site-packages/ipykernel_launcher.py:4: YAMLLoadWarning: calling yaml.load() without Loader=... is deprecated, as the default Loader is unsafe. Please read https://msg.pyyaml.org/load for full details.\n",
      "  after removing the cwd from sys.path.\n"
     ]
    }
   ],
   "source": [
    "import yaml\n",
    "\n",
    "with open(\"learn_yaml.yaml\", 'r') as f:\n",
    "    yaml_content = yaml.load(f)\n",
    "\n",
    "print(\"Key: Value\")\n",
    "for key, value in yaml_content.items():\n",
    "    print(f\"{key}: {value}\")"
   ]
  },
  {
   "cell_type": "markdown",
   "id": "willing-wales",
   "metadata": {},
   "source": [
    "Keep reading for a complex YAML example."
   ]
  },
  {
   "cell_type": "markdown",
   "id": "discrete-plain",
   "metadata": {},
   "source": [
    "## YAML Syntax and format"
   ]
  },
  {
   "cell_type": "markdown",
   "id": "disabled-facing",
   "metadata": {},
   "source": [
    "There are ten most important things that one needs to remember while writing YAML files."
   ]
  },
  {
   "cell_type": "markdown",
   "id": "indian-period",
   "metadata": {},
   "source": [
    "To begin with a YAML document, one needs to use --- . All nested elements need to indented using two spaces but you can use one too. These three dashes are required only when there is more than one document within a single YAML file."
   ]
  },
  {
   "cell_type": "markdown",
   "id": "supported-freedom",
   "metadata": {},
   "source": [
    "### Key-value pairs\n",
    "\n",
    "YAML document is like a map in which there are keys and their associated values. Refer to the Hello World example given above. Any information stored in the file follows the below-shown convention."
   ]
  },
  {
   "cell_type": "markdown",
   "id": "balanced-blame",
   "metadata": {},
   "source": [
    "```yaml\n",
    "key: value\n",
    "```"
   ]
  },
  {
   "cell_type": "markdown",
   "id": "distinct-sucking",
   "metadata": {},
   "source": [
    "### Short texts\n",
    "Short texts are written, as shown below."
   ]
  },
  {
   "cell_type": "markdown",
   "id": "steady-transfer",
   "metadata": {},
   "source": [
    "```yaml\n",
    "description: This is a brief description of something\n",
    "another description: “This is also a short description with ‘:’ in it.”\n",
    "55.5 : keys need not be only strings\n",
    "```"
   ]
  },
  {
   "cell_type": "markdown",
   "id": "sharing-column",
   "metadata": {},
   "source": [
    "### Long text\n",
    "\n",
    "Long texts are written using `|` and `>`. A block written using `|` is called a literal block, and a block written with `>` is called a folded block."
   ]
  },
  {
   "cell_type": "markdown",
   "id": "educational-neighbor",
   "metadata": {},
   "source": [
    "```yaml\n",
    "long description: |\n",
    "This text preserves the line breaks,\n",
    " as well as the indentation.\n",
    "folded long description: >\n",
    "This is also one way of writing the long text, but \n",
    " line breaks and indentations will be replaced with single spaces when read.\n",
    "```"
   ]
  },
  {
   "cell_type": "markdown",
   "id": "cleared-salmon",
   "metadata": {},
   "source": [
    "The block style indicates how newlines inside the block should behave. If you would like them to be kept as **newlines**, use the **literal style**, indicated by a **pipe** (`|`). If instead you want them to be **replaced by spaces**, use the **folded style**, indicated by a **right angle bracket** (`>`). (To get a newline using the folded style, leave a blank line by putting two newlines in. Lines with extra indentation are also not folded.)"
   ]
  },
  {
   "cell_type": "code",
   "execution_count": null,
   "id": "nasty-concert",
   "metadata": {},
   "outputs": [],
   "source": []
  }
 ],
 "metadata": {
  "kernelspec": {
   "display_name": "Python 3",
   "language": "python",
   "name": "python3"
  },
  "language_info": {
   "codemirror_mode": {
    "name": "ipython",
    "version": 3
   },
   "file_extension": ".py",
   "mimetype": "text/x-python",
   "name": "python",
   "nbconvert_exporter": "python",
   "pygments_lexer": "ipython3",
   "version": "3.7.9"
  }
 },
 "nbformat": 4,
 "nbformat_minor": 5
}
