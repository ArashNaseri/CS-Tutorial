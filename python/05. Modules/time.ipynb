{
 "cells": [
  {
   "cell_type": "markdown",
   "id": "about-rebate",
   "metadata": {
    "hideCode": true,
    "hidePrompt": true
   },
   "source": [
    "# `time`"
   ]
  },
  {
   "cell_type": "code",
   "execution_count": 10,
   "id": "english-custody",
   "metadata": {},
   "outputs": [],
   "source": [
    "import time"
   ]
  },
  {
   "cell_type": "markdown",
   "id": "affected-happening",
   "metadata": {
    "hideCode": true,
    "hidePrompt": true
   },
   "source": [
    "The Python `time` module provides many ways of representing time in code, such as objects, numbers, and strings. It also provides functionality other than representing time, like waiting during code execution and measuring the efficiency of your code."
   ]
  },
  {
   "cell_type": "markdown",
   "id": "printable-ratio",
   "metadata": {
    "hideCode": true,
    "hidePrompt": true
   },
   "source": [
    "## Dealing With Python Time Using Seconds"
   ]
  },
  {
   "cell_type": "markdown",
   "id": "eastern-reduction",
   "metadata": {
    "hideCode": true,
    "hidePrompt": true
   },
   "source": [
    "One of the ways you can manage the concept of Python time in your application is by using a floating point number that represents the number of seconds that have passed since the beginning of an era—that is, since a certain starting point.\n",
    "\n",
    "Let’s dive deeper into what that means, why it’s useful, and how you can use it to implement logic, based on Python time, in your application."
   ]
  },
  {
   "cell_type": "markdown",
   "id": "demanding-cattle",
   "metadata": {
    "hideCode": true,
    "hidePrompt": true
   },
   "source": [
    "### The Epoch\n",
    "\n",
    "You learned in the previous section that you can manage Python time with a floating point number representing elapsed time since the beginning of an era."
   ]
  },
  {
   "cell_type": "markdown",
   "id": "spiritual-miracle",
   "metadata": {
    "hideCode": true,
    "hidePrompt": true
   },
   "source": [
    "Merriam-Webster defines an **era** as:\n",
    "\n",
    "A fixed point in time from which a series of years is reckoned\n",
    "A system of chronological notation computed from a given date as basis\n",
    "The important concept to grasp here is that, when dealing with Python time, you’re considering a period of time identified by a starting point. In computing, you call this starting point the epoch."
   ]
  },
  {
   "cell_type": "markdown",
   "id": "excited-cosmetic",
   "metadata": {
    "hideCode": true,
    "hidePrompt": true
   },
   "source": [
    "The epoch, then, is the starting point against which you can measure the passage of time."
   ]
  },
  {
   "cell_type": "markdown",
   "id": "entitled-poster",
   "metadata": {
    "hideCode": true,
    "hidePrompt": true
   },
   "source": [
    "For example, if you define the epoch to be midnight on **January 1, 1970 UTC**—the epoch as defined on Windows and most UNIX systems—then you can represent midnight on January 2, 1970 UTC as 86400 seconds since the epoch."
   ]
  },
  {
   "cell_type": "markdown",
   "id": "regular-ordinary",
   "metadata": {
    "hideCode": true,
    "hidePrompt": true
   },
   "source": [
    "This is because there are 60 seconds in a minute, 60 minutes in an hour, and 24 hours in a day. January 2, 1970 UTC is only one day after the epoch, so you can apply basic math to arrive at that result:"
   ]
  },
  {
   "cell_type": "code",
   "execution_count": 12,
   "id": "circular-object",
   "metadata": {},
   "outputs": [
    {
     "data": {
      "text/plain": [
       "86400"
      ]
     },
     "execution_count": 12,
     "metadata": {},
     "output_type": "execute_result"
    }
   ],
   "source": [
    "60 * 60 * 24"
   ]
  },
  {
   "cell_type": "markdown",
   "id": "contemporary-annual",
   "metadata": {
    "hideCode": true,
    "hidePrompt": true
   },
   "source": [
    "It is also important to note that you can still represent time before the epoch. The number of seconds would just be negative.\n",
    "\n",
    "For example, you would represent midnight on December 31, 1969 UTC (using an epoch of January 1, 1970) as **-86400** seconds."
   ]
  },
  {
   "cell_type": "markdown",
   "id": "valuable-triple",
   "metadata": {
    "hideCode": true,
    "hidePrompt": true
   },
   "source": [
    "While January 1, 1970 UTC is a common epoch, it is not the only epoch used in computing. In fact, different operating systems, filesystems, and APIs sometimes use different epochs."
   ]
  },
  {
   "cell_type": "markdown",
   "id": "bored-intermediate",
   "metadata": {
    "hideCode": true,
    "hidePrompt": true
   },
   "source": [
    "As you saw before, UNIX systems define the epoch as January 1, 1970. The Win32 API, on the other hand, defines the epoch as **January 1, 1601**."
   ]
  },
  {
   "cell_type": "markdown",
   "id": "unable-singer",
   "metadata": {
    "hideCode": true,
    "hidePrompt": true
   },
   "source": [
    "You can use `time.gmtime()` (Greenwich Mean Time) to determine your system’s epoch:"
   ]
  },
  {
   "cell_type": "code",
   "execution_count": 36,
   "id": "current-script",
   "metadata": {},
   "outputs": [
    {
     "data": {
      "text/plain": [
       "time.struct_time(tm_year=2021, tm_mon=5, tm_mday=16, tm_hour=23, tm_min=35, tm_sec=37, tm_wday=6, tm_yday=136, tm_isdst=0)"
      ]
     },
     "execution_count": 36,
     "metadata": {},
     "output_type": "execute_result"
    }
   ],
   "source": [
    "time.gmtime()"
   ]
  },
  {
   "cell_type": "markdown",
   "id": "future-mandate",
   "metadata": {
    "hideCode": true,
    "hidePrompt": true
   },
   "source": [
    "You’ll learn about `gmtime()` and `struct_time` throughout the course of this article. For now, just know that you can use time to discover the epoch using this function."
   ]
  },
  {
   "cell_type": "markdown",
   "id": "palestinian-dubai",
   "metadata": {
    "hideCode": true,
    "hidePrompt": true
   },
   "source": [
    "Now that you understand more about how to measure time in seconds using an epoch, let’s take a look at Python’s `time` module to see what functions it offers that help you do so."
   ]
  },
  {
   "cell_type": "markdown",
   "id": "cubic-gates",
   "metadata": {
    "hideCode": true,
    "hidePrompt": true
   },
   "source": [
    "## Python Time in Seconds as a Floating Point Number"
   ]
  },
  {
   "cell_type": "markdown",
   "id": "sustained-press",
   "metadata": {
    "hideCode": true,
    "hidePrompt": true
   },
   "source": [
    "First, `time.time()` returns the number of seconds that have passed since the epoch. The return value is a floating point number to account for fractional seconds:"
   ]
  },
  {
   "cell_type": "code",
   "execution_count": 17,
   "id": "fewer-calendar",
   "metadata": {},
   "outputs": [],
   "source": [
    "import time"
   ]
  },
  {
   "cell_type": "code",
   "execution_count": 19,
   "id": "dependent-bloom",
   "metadata": {},
   "outputs": [
    {
     "data": {
      "text/plain": [
       "1621206926.664643"
      ]
     },
     "execution_count": 19,
     "metadata": {},
     "output_type": "execute_result"
    }
   ],
   "source": [
    "time.time()"
   ]
  },
  {
   "cell_type": "markdown",
   "id": "informative-formation",
   "metadata": {
    "hideCode": true,
    "hidePrompt": true
   },
   "source": [
    "The number you get on your machine may be very different because the reference point considered to be the epoch may be very different."
   ]
  },
  {
   "cell_type": "markdown",
   "id": "atlantic-invalid",
   "metadata": {
    "hideCode": true,
    "hidePrompt": true
   },
   "source": [
    "> **Note:** Python 3.7 introduced `time_ns()`, which returns an integer value representing the same elapsed time since the epoch, but in nanoseconds rather than seconds."
   ]
  },
  {
   "cell_type": "code",
   "execution_count": 20,
   "id": "lesser-photographer",
   "metadata": {},
   "outputs": [
    {
     "data": {
      "text/plain": [
       "1621206927344502000"
      ]
     },
     "execution_count": 20,
     "metadata": {},
     "output_type": "execute_result"
    }
   ],
   "source": [
    "time.time_ns()"
   ]
  },
  {
   "cell_type": "markdown",
   "id": "little-freeze",
   "metadata": {},
   "source": [
    "Measuring time in seconds is useful for a number of reasons:\n",
    "\n",
    "- You can use a float to calculate the difference between two points in time.\n",
    "- A float is easily serializable, meaning that it can be stored for data transfer and come out intact on the other side.\n",
    "\n",
    "Sometimes, however, you may want to see the current time represented as a string. To do so, you can pass the number of seconds you get from `time()` into `time.ctime()`."
   ]
  },
  {
   "cell_type": "markdown",
   "id": "limiting-provision",
   "metadata": {},
   "source": [
    "## Python Time in Seconds as a String Representing Local Time"
   ]
  },
  {
   "cell_type": "markdown",
   "id": "color-document",
   "metadata": {},
   "source": [
    "As you saw before, you may want to convert the Python time, represented as the number of elapsed seconds since the epoch, to a string. You can do so using `ctime()` (convert time):"
   ]
  },
  {
   "cell_type": "code",
   "execution_count": 21,
   "id": "unlike-lunch",
   "metadata": {},
   "outputs": [],
   "source": [
    "t = time.time()"
   ]
  },
  {
   "cell_type": "code",
   "execution_count": 22,
   "id": "annual-geology",
   "metadata": {},
   "outputs": [
    {
     "data": {
      "text/plain": [
       "'Sun May 16 19:16:45 2021'"
      ]
     },
     "execution_count": 22,
     "metadata": {},
     "output_type": "execute_result"
    }
   ],
   "source": [
    "time.ctime(t)"
   ]
  },
  {
   "cell_type": "markdown",
   "id": "sized-creator",
   "metadata": {},
   "source": [
    "Here, you’ve recorded the current time in seconds into the variable `t`, then passed `t` as an argument to `ctime()`, which returns a string representation of that same time."
   ]
  },
  {
   "cell_type": "markdown",
   "id": "expected-reservation",
   "metadata": {},
   "source": [
    "> Technical Detail: The argument, representing seconds since the epoch, is optional according to the `ctime()` definition. If you don’t pass an argument, then ctime() uses the return value of `time()` by default. So, you could simplify the example above:"
   ]
  },
  {
   "cell_type": "code",
   "execution_count": 24,
   "id": "separated-clark",
   "metadata": {},
   "outputs": [
    {
     "data": {
      "text/plain": [
       "'Sun May 16 19:18:10 2021'"
      ]
     },
     "execution_count": 24,
     "metadata": {},
     "output_type": "execute_result"
    }
   ],
   "source": [
    "time.ctime()"
   ]
  },
  {
   "cell_type": "markdown",
   "id": "alpine-istanbul",
   "metadata": {},
   "source": [
    "The string representation of time, also known as a timestamp, returned by `ctime()` is formatted with the following structure:\n",
    "\n",
    "- Day of the week: Mon (Monday)\n",
    "- Month of the year: Feb (February)\n",
    "- Day of the month: 25\n",
    "- Hours, minutes, and seconds using the 24-hour clock notation: 19:11:59\n",
    "- Year: 2019"
   ]
  },
  {
   "cell_type": "markdown",
   "id": "healthy-newfoundland",
   "metadata": {},
   "source": [
    "Notice that the day of week, day of month, and hour portions of the timestamp are most probabely different in your computer.\n",
    "\n",
    "These outputs are different because the timestamp returned by `ctime()` depends on your geographical location."
   ]
  },
  {
   "cell_type": "markdown",
   "id": "cleared-variable",
   "metadata": {},
   "source": [
    "> **Note:** While the concept of time zones is relative to your physical location, you can modify this in your computer’s settings without actually relocating."
   ]
  },
  {
   "cell_type": "markdown",
   "id": "advisory-aurora",
   "metadata": {},
   "source": [
    "The representation of time dependent on your physical location is called **local time** and makes use of a concept called **time zones**."
   ]
  },
  {
   "cell_type": "markdown",
   "id": "accomplished-dealing",
   "metadata": {},
   "source": [
    "> **Note:** Since local time is related to your locale, timestamps often account for locale-specific details such as the order of the elements in the string and translations of the day and month abbreviations. `ctime()` ignores these details."
   ]
  },
  {
   "cell_type": "markdown",
   "id": "classified-borough",
   "metadata": {},
   "source": [
    "Let’s dig a little deeper into the notion of time zones so that you can better understand Python time representations."
   ]
  },
  {
   "cell_type": "markdown",
   "id": "brilliant-monitor",
   "metadata": {},
   "source": [
    "## Understanding Time Zones\n",
    "\n",
    "A time zone is a region of the world that conforms to a standardized time. Time zones are defined by their offset from Coordinated Universal Time (UTC) and, potentially, the inclusion of daylight savings time (which we’ll cover in more detail later in this article)."
   ]
  },
  {
   "cell_type": "markdown",
   "id": "heavy-taiwan",
   "metadata": {},
   "source": [
    "> **Fun Fact**: If you’re a native English speaker, you might be wondering why the abbreviation for “Coordinated Universal Time” is UTC rather than the more obvious CUT. However, if you’re a native French speaker, you would call it “Temps Universel Coordonné,” which suggests a different abbreviation: TUC.\n",
    "\n",
    "> Ultimately, the International Telecommunication Union and the International Astronomical Union compromised on UTC as the official abbreviation so that, regardless of language, the abbreviation would be the same."
   ]
  },
  {
   "cell_type": "markdown",
   "id": "laughing-degree",
   "metadata": {},
   "source": [
    "### UTC and Time Zones\n",
    "UTC is the time standard against which all the world’s timekeeping is synchronized (or coordinated). It is not, itself, a time zone but rather a transcendent standard that defines what time zones are."
   ]
  },
  {
   "cell_type": "markdown",
   "id": "respective-parallel",
   "metadata": {},
   "source": [
    "UTC time is precisely measured using astronomical time, referring to the Earth’s rotation, and atomic clocks."
   ]
  },
  {
   "cell_type": "markdown",
   "id": "roman-adjustment",
   "metadata": {},
   "source": [
    "Time zones are then defined by their offset from UTC. For example, in North and South America, the Central Time Zone (CT) is behind UTC by five or six hours and, therefore, uses the notation UTC-5:00 or UTC-6:00."
   ]
  },
  {
   "cell_type": "markdown",
   "id": "mineral-breakfast",
   "metadata": {},
   "source": [
    "Sydney, Australia, on the other hand, belongs to the Australian Eastern Time Zone (AET), which is ten or eleven hours ahead of UTC (UTC+10:00 or UTC+11:00)."
   ]
  },
  {
   "cell_type": "markdown",
   "id": "gentle-spell",
   "metadata": {},
   "source": [
    "This difference (UTC-6:00 to UTC+10:00) is the reason for the variance you observed in the two outputs from ctime() in the previous examples:"
   ]
  },
  {
   "cell_type": "markdown",
   "id": "opponent-armstrong",
   "metadata": {},
   "source": [
    "Central Time (CT): 'Mon Feb 25 19:11:59 2019'\n",
    "Australian Eastern Time (AET): 'Tue Feb 26 12:11:59 2019'\n",
    "These times are exactly sixteen hours apart, which is consistent with the time zone offsets mentioned above."
   ]
  },
  {
   "cell_type": "markdown",
   "id": "polyphonic-disability",
   "metadata": {},
   "source": [
    "You may be wondering why CT can be either five or six hours behind UTC or why AET can be ten or eleven hours ahead. The reason for this is that some areas around the world, including parts of these time zones, observe daylight savings time."
   ]
  },
  {
   "cell_type": "markdown",
   "id": "packed-gospel",
   "metadata": {},
   "source": [
    "## Dealing With Python Time Using Data Structures\n",
    "\n",
    "Now that you have a firm grasp on many fundamental concepts of time including epochs, time zones, and UTC, let’s take a look at more ways to represent time using the Python `time` module."
   ]
  },
  {
   "cell_type": "markdown",
   "id": "neither-nature",
   "metadata": {},
   "source": [
    "### Python Time as a Tuple"
   ]
  },
  {
   "cell_type": "markdown",
   "id": "favorite-syntax",
   "metadata": {},
   "source": [
    "Instead of using a number to represent Python time, you can use another primitive data structure: a `tuple`."
   ]
  },
  {
   "cell_type": "markdown",
   "id": "final-maine",
   "metadata": {},
   "source": [
    "The `tuple` allows you to manage time a little more easily by abstracting some of the data and making it more readable."
   ]
  },
  {
   "cell_type": "markdown",
   "id": "nasty-converter",
   "metadata": {},
   "source": [
    "When you represent time as a tuple, each element in your tuple corresponds to a specific element of time:\n",
    "\n",
    "- Year\n",
    "- Month as an integer, ranging between 1 (January) and 12 (December)\n",
    "- Day of the month\n",
    "- Hour as an integer, ranging between 0 (12 A.M.) and 23 (11 P.M.)\n",
    "- Minute\n",
    "- Second\n",
    "- Day of the week as an integer, ranging between 0 (Monday) and 6 (Sunday)\n",
    "- Day of the year\n",
    "- Daylight savings time as an integer with the following values:\n",
    "    - 1 is daylight savings time.\n",
    "    - 0 is standard time.\n",
    "    - -1 is unknown."
   ]
  },
  {
   "cell_type": "markdown",
   "id": "nasty-secretary",
   "metadata": {},
   "source": [
    "Using the methods you’ve already learned, you can represent the same Python time in two different ways:"
   ]
  },
  {
   "cell_type": "code",
   "execution_count": 26,
   "id": "northern-interpretation",
   "metadata": {},
   "outputs": [
    {
     "data": {
      "text/plain": [
       "1621207781.7104878"
      ]
     },
     "execution_count": 26,
     "metadata": {},
     "output_type": "execute_result"
    }
   ],
   "source": [
    "time.time()"
   ]
  },
  {
   "cell_type": "code",
   "execution_count": 25,
   "id": "psychological-grocery",
   "metadata": {},
   "outputs": [
    {
     "data": {
      "text/plain": [
       "'Sun May 16 19:16:45 2021'"
      ]
     },
     "execution_count": 25,
     "metadata": {},
     "output_type": "execute_result"
    }
   ],
   "source": [
    "time.ctime(t)"
   ]
  },
  {
   "cell_type": "code",
   "execution_count": 29,
   "id": "accredited-modification",
   "metadata": {},
   "outputs": [],
   "source": [
    "time_tuple = (2021, 5, 16, 19, 16, 45, 6, 136, 0)"
   ]
  },
  {
   "cell_type": "markdown",
   "id": "physical-fountain",
   "metadata": {},
   "source": [
    "In this case, both `t` and `time_tuple` represent the same time, but the tuple provides a more readable interface for working with time components."
   ]
  },
  {
   "cell_type": "markdown",
   "id": "global-football",
   "metadata": {},
   "source": [
    "> **Note:** `tuple` doesn’t have a way to represent fractional seconds."
   ]
  },
  {
   "cell_type": "markdown",
   "id": "greater-andrews",
   "metadata": {},
   "source": [
    "While the tuple provides a more manageable interface for working with Python time, there is an even better object: `struct_time`."
   ]
  },
  {
   "cell_type": "markdown",
   "id": "inappropriate-squad",
   "metadata": {},
   "source": [
    "## Python Time as an Object\n",
    "\n",
    "The problem with the tuple construct is that it still looks like a bunch of numbers, even though it’s better organized than a single, seconds-based number."
   ]
  },
  {
   "cell_type": "markdown",
   "id": "cloudy-remainder",
   "metadata": {},
   "source": [
    "`struct_time` provides a solution to this by utilizing `NamedTuple`, from Python’s collections module, to associate the tuple’s sequence of numbers with useful identifiers:"
   ]
  },
  {
   "cell_type": "code",
   "execution_count": 37,
   "id": "champion-index",
   "metadata": {},
   "outputs": [
    {
     "data": {
      "text/plain": [
       "time.struct_time(tm_year=2019, tm_mon=2, tm_mday=26, tm_hour=7, tm_min=6, tm_sec=55, tm_wday=1, tm_yday=57, tm_isdst=0)"
      ]
     },
     "execution_count": 37,
     "metadata": {},
     "output_type": "execute_result"
    }
   ],
   "source": [
    "time_tuple = (2019, 2, 26, 7, 6, 55, 1, 57, 0)\n",
    "time_obj = time.struct_time(time_tuple)\n",
    "time_obj"
   ]
  },
  {
   "cell_type": "markdown",
   "id": "numerous-dividend",
   "metadata": {},
   "source": [
    "> **Technical Detail**: If you’re coming from another language, the terms struct and object might be in opposition to one another.\n",
    ">\n",
    "> In Python, there is no data type called `struct`. Instead, everything is an object.\n",
    ">\n",
    "> However, the name `struct_time` is derived from the C-based time library where the data type is actually a `struct`.\n",
    ">\n",
    "> In fact, Python’s time module, which is implemented in `C`, uses this `struct` directly by including the header file `times.h`."
   ]
  },
  {
   "cell_type": "code",
   "execution_count": 39,
   "id": "smooth-virus",
   "metadata": {},
   "outputs": [
    {
     "data": {
      "text/plain": [
       "57"
      ]
     },
     "execution_count": 39,
     "metadata": {},
     "output_type": "execute_result"
    }
   ],
   "source": [
    "time_obj.tm_yday"
   ]
  },
  {
   "cell_type": "code",
   "execution_count": 40,
   "id": "timely-winner",
   "metadata": {},
   "outputs": [
    {
     "data": {
      "text/plain": [
       "26"
      ]
     },
     "execution_count": 40,
     "metadata": {},
     "output_type": "execute_result"
    }
   ],
   "source": [
    "time_obj.tm_mday"
   ]
  },
  {
   "cell_type": "markdown",
   "id": "ceramic-waterproof",
   "metadata": {},
   "source": [
    "Beyond the readability and usability of struct_time, **it is also important to know because it is the return type of many of the functions in the Python time module**."
   ]
  },
  {
   "cell_type": "markdown",
   "id": "private-rescue",
   "metadata": {},
   "source": [
    "## Converting Python Time in Seconds to an Object\n",
    "\n",
    "Now that you’ve seen the three primary ways of working with Python time, you’ll learn how to convert between the different time data types.\n",
    "\n",
    "Converting between time data types is dependent on whether the time is in UTC or local time."
   ]
  },
  {
   "cell_type": "code",
   "execution_count": null,
   "id": "weird-monitoring",
   "metadata": {},
   "outputs": [],
   "source": []
  }
 ],
 "metadata": {
  "hide_code_all_hidden": true,
  "kernelspec": {
   "display_name": "Python 3",
   "language": "python",
   "name": "python3"
  },
  "language_info": {
   "codemirror_mode": {
    "name": "ipython",
    "version": 3
   },
   "file_extension": ".py",
   "mimetype": "text/x-python",
   "name": "python",
   "nbconvert_exporter": "python",
   "pygments_lexer": "ipython3",
   "version": "3.7.9"
  }
 },
 "nbformat": 4,
 "nbformat_minor": 5
}
