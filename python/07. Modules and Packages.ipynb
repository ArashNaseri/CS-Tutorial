{
 "cells": [
  {
   "cell_type": "markdown",
   "id": "alternate-operations",
   "metadata": {},
   "source": [
    "# Modules and Packages"
   ]
  },
  {
   "cell_type": "markdown",
   "id": "supposed-argentina",
   "metadata": {},
   "source": [
    "## Modules"
   ]
  },
  {
   "cell_type": "markdown",
   "id": "inappropriate-blues",
   "metadata": {},
   "source": [
    "A module is a file containing Python definitions and statements. The file name is the module name with the suffix `.py` appended. Within a module, the module’s name (as a string) is available as the value of the global variable `__name__`. For instance, use your favorite text editor to create a file called `fibo.py` in the current directory with the following contents:"
   ]
  },
  {
   "cell_type": "code",
   "execution_count": 4,
   "id": "mental-fighter",
   "metadata": {},
   "outputs": [],
   "source": [
    "# Fibonacci numbers module\n",
    "\n",
    "def fib(n):   # return Fibonacci series up to n\n",
    "    result = []\n",
    "    a, b = 0, 1\n",
    "    while a < n:\n",
    "        result.append(a)\n",
    "        a, b = b, a+b\n",
    "    return result"
   ]
  },
  {
   "cell_type": "markdown",
   "id": "higher-document",
   "metadata": {},
   "source": [
    "Now enter the Python interpreter and import this module with the following command:\n",
    "\n",
    "```python\n",
    ">>> import fibo\n",
    "```"
   ]
  },
  {
   "cell_type": "markdown",
   "id": "rolled-navigation",
   "metadata": {},
   "source": [
    "This does not enter the names of the functions defined in fibo directly in the current symbol table; it only enters the module name `fibo` there. Using the module name you can access the functions:\n",
    "\n",
    "```python\n",
    ">>> fibo.fib(1000)\n",
    "0 1 1 2 3 5 8 13 21 34 55 89 144 233 377 610 987\n",
    ">>> fibo.fib2(100)\n",
    "[0, 1, 1, 2, 3, 5, 8, 13, 21, 34, 55, 89]\n",
    ">>> fibo.__name__\n",
    "'fibo'\n",
    "```"
   ]
  },
  {
   "cell_type": "markdown",
   "id": "driven-quantum",
   "metadata": {},
   "source": [
    "If you intend to use a function often you can assign it to a local name:\n",
    "\n",
    "```python\n",
    ">>> fib = fibo.fib\n",
    ">>> fib(500)\n",
    "0 1 1 2 3 5 8 13 21 34 55 89 144 233 377\n",
    "```"
   ]
  },
  {
   "cell_type": "markdown",
   "id": "particular-universe",
   "metadata": {},
   "source": [
    "A module can contain executable statements as well as function definitions. These statements are intended to initialize the module. They are executed only the first time the module name is encountered in an import statement. (They are also run if the file is executed as a script.)"
   ]
  }
 ],
 "metadata": {
  "kernelspec": {
   "display_name": "Python 3",
   "language": "python",
   "name": "python3"
  },
  "language_info": {
   "codemirror_mode": {
    "name": "ipython",
    "version": 3
   },
   "file_extension": ".py",
   "mimetype": "text/x-python",
   "name": "python",
   "nbconvert_exporter": "python",
   "pygments_lexer": "ipython3",
   "version": "3.7.9"
  }
 },
 "nbformat": 4,
 "nbformat_minor": 5
}
