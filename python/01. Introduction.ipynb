{
 "cells": [
  {
   "cell_type": "markdown",
   "metadata": {},
   "source": [
    "# 01- Introduction"
   ]
  },
  {
   "cell_type": "markdown",
   "metadata": {},
   "source": [
    "## Table of Contents:\n",
    "* [1. Python Setup](#python-setup)\n",
    "    * [1.1 Windows](#python-setup-windows)\n",
    "* [2. Conda Commands](#conda-commands)"
   ]
  },
  {
   "cell_type": "markdown",
   "metadata": {},
   "source": [
    "<a class=\"anchor\" id=\"python-setup\"></a>\n",
    "## 1. Python Setup"
   ]
  },
  {
   "cell_type": "markdown",
   "metadata": {},
   "source": [
    "<a class=\"anchor\" id=\"python-setup-windows\"></a>\n",
    "### 1.1 Windows"
   ]
  },
  {
   "cell_type": "markdown",
   "metadata": {},
   "source": [
    "1. Install and activate Ubuntu Shell on windows.\n",
    "    * Tutorial: [here](https://itsfoss.com/install-bash-on-windows/)\n",
    "2. Open Ubuntu Shell and install Anaconda.\n",
    "    * Tutorial: [here](https://www.digitalocean.com/community/tutorials/how-to-install-the-anaconda-python-distribution-on-ubuntu-20-04)\n",
    "    * install pip: https://linuxize.com/post/how-to-install-pip-on-ubuntu-18.04/\n",
    "3. Download VSCode from [here](https://code.visualstudio.com/download) and install."
   ]
  },
  {
   "cell_type": "markdown",
   "metadata": {},
   "source": [
    "<a class=\"anchor\" id=\"conda-commands\"></a>\n",
    "## 2. Conda Commands"
   ]
  },
  {
   "cell_type": "markdown",
   "metadata": {},
   "source": [
    "|Description|Command|\n",
    "|:--|:--|\n",
    "|**List** of Environments|`conda env list`|\n",
    "|**Create** Environment|`conda create --name env_name`|\n",
    "|**Create** Environment with pre-installed python|`conda create --name env_name python=3.7`|\n",
    "|**Remove** Environment|`conda remove --name env_name --all`|\n",
    "|**Activate** an Environment|`conda activate env_name`|\n",
    "|**Deactivate** Environment|`conda deactivate env_name`|"
   ]
  }
 ],
 "metadata": {
  "kernelspec": {
   "display_name": "Python 3",
   "language": "python",
   "name": "python3"
  },
  "language_info": {
   "codemirror_mode": {
    "name": "ipython",
    "version": 3
   },
   "file_extension": ".py",
   "mimetype": "text/x-python",
   "name": "python",
   "nbconvert_exporter": "python",
   "pygments_lexer": "ipython3",
   "version": "3.7.6"
  }
 },
 "nbformat": 4,
 "nbformat_minor": 4
}
