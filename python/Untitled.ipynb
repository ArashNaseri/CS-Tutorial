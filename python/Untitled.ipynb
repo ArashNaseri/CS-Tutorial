{
 "cells": [
  {
   "cell_type": "code",
   "execution_count": 10,
   "id": "comparative-geology",
   "metadata": {},
   "outputs": [],
   "source": [
    "class Descriptor:\n",
    "    def __init__(self):\n",
    "        self.__fuel_cap = 0\n",
    "        \n",
    "    def __get__(self, instance, owner):\n",
    "        return self.__fuel_cap\n",
    "    \n",
    "    def __set__(self, instance, value):\n",
    "        print(\"Calling set...\")\n",
    "        if not isinstance(value, int):\n",
    "            raise TypeError(\"...\")\n",
    "            \n",
    "        if value < 0:\n",
    "            raise ValueError(\"......\")\n",
    "            \n",
    "        self.__fuel_cap = value\n",
    "        \n",
    "    def __delete__(self, instance):\n",
    "        del self.__fuel_cap"
   ]
  },
  {
   "cell_type": "code",
   "execution_count": 11,
   "id": "protective-farming",
   "metadata": {},
   "outputs": [],
   "source": [
    "class Car:\n",
    "    fuel_cap = Descriptor()\n",
    "    \n",
    "    def __init__(self, brand, fuel_cap):\n",
    "        self.brand = brand\n",
    "        self.fuel_cap = fuel_cap"
   ]
  },
  {
   "cell_type": "code",
   "execution_count": 16,
   "id": "liked-separate",
   "metadata": {},
   "outputs": [
    {
     "name": "stdout",
     "output_type": "stream",
     "text": [
      "Calling set...\n"
     ]
    }
   ],
   "source": [
    "car_1 = Car(\"BMW\", 40)"
   ]
  },
  {
   "cell_type": "code",
   "execution_count": 17,
   "id": "fourth-satin",
   "metadata": {},
   "outputs": [
    {
     "name": "stdout",
     "output_type": "stream",
     "text": [
      "Calling set...\n"
     ]
    }
   ],
   "source": [
    "car_2 = Car(\"MBW\", 80)"
   ]
  },
  {
   "cell_type": "code",
   "execution_count": 18,
   "id": "limiting-combining",
   "metadata": {},
   "outputs": [
    {
     "data": {
      "text/plain": [
       "80"
      ]
     },
     "execution_count": 18,
     "metadata": {},
     "output_type": "execute_result"
    }
   ],
   "source": [
    "car_2.fuel_cap"
   ]
  },
  {
   "cell_type": "code",
   "execution_count": 19,
   "id": "elementary-sullivan",
   "metadata": {},
   "outputs": [
    {
     "data": {
      "text/plain": [
       "80"
      ]
     },
     "execution_count": 19,
     "metadata": {},
     "output_type": "execute_result"
    }
   ],
   "source": [
    "car_1.fuel_cap"
   ]
  },
  {
   "cell_type": "code",
   "execution_count": 19,
   "id": "pending-object",
   "metadata": {},
   "outputs": [],
   "source": [
    "from pathlib import Path\n",
    "\n",
    "class DirectorySize:\n",
    "\n",
    "    def __get__(self, instance, owner):\n",
    "        print('calling get...')\n",
    "        return len(list(Path(instance.dirname).iterdir()))\n",
    "    \n",
    "    def __set__(self, instance, value):\n",
    "        pass\n",
    "\n",
    "\n",
    "class Directory:\n",
    "    size = DirectorySize()\n",
    "    \n",
    "    def __init__(self, dirname):\n",
    "        self.dirname = dirname\n",
    "        self.size = len(list(Path(dirname).iterdir()))"
   ]
  },
  {
   "cell_type": "code",
   "execution_count": 20,
   "id": "expensive-interim",
   "metadata": {},
   "outputs": [],
   "source": [
    "d = Directory(\".\")"
   ]
  },
  {
   "cell_type": "code",
   "execution_count": 21,
   "id": "peripheral-share",
   "metadata": {},
   "outputs": [
    {
     "name": "stdout",
     "output_type": "stream",
     "text": [
      "calling get...\n"
     ]
    },
    {
     "data": {
      "text/plain": [
       "11"
      ]
     },
     "execution_count": 21,
     "metadata": {},
     "output_type": "execute_result"
    }
   ],
   "source": [
    "d.size"
   ]
  },
  {
   "cell_type": "code",
   "execution_count": 22,
   "id": "drawn-brook",
   "metadata": {},
   "outputs": [],
   "source": [
    "d.dirname = \"..\""
   ]
  },
  {
   "cell_type": "code",
   "execution_count": 23,
   "id": "distant-spyware",
   "metadata": {},
   "outputs": [
    {
     "name": "stdout",
     "output_type": "stream",
     "text": [
      "calling get...\n"
     ]
    },
    {
     "data": {
      "text/plain": [
       "14"
      ]
     },
     "execution_count": 23,
     "metadata": {},
     "output_type": "execute_result"
    }
   ],
   "source": [
    "d.size"
   ]
  },
  {
   "cell_type": "code",
   "execution_count": null,
   "id": "serious-expression",
   "metadata": {},
   "outputs": [],
   "source": []
  },
  {
   "cell_type": "code",
   "execution_count": null,
   "id": "surgical-wheat",
   "metadata": {},
   "outputs": [],
   "source": []
  }
 ],
 "metadata": {
  "kernelspec": {
   "display_name": "Python 3",
   "language": "python",
   "name": "python3"
  },
  "language_info": {
   "codemirror_mode": {
    "name": "ipython",
    "version": 3
   },
   "file_extension": ".py",
   "mimetype": "text/x-python",
   "name": "python",
   "nbconvert_exporter": "python",
   "pygments_lexer": "ipython3",
   "version": "3.7.9"
  }
 },
 "nbformat": 4,
 "nbformat_minor": 5
}
