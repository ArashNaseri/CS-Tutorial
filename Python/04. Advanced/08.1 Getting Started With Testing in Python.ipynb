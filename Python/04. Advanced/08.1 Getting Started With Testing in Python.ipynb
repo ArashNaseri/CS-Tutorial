{
 "cells": [
  {
   "cell_type": "markdown",
   "id": "82f5cfd2",
   "metadata": {},
   "source": [
    "<img src=\"../../images/banners/python-advanced.png\" width=\"600\"/>"
   ]
  },
  {
   "cell_type": "markdown",
   "id": "ac75264f",
   "metadata": {},
   "source": [
    "# <img src=\"../../images/logos/python.png\" width=\"23\"/> Getting Started With Testing in Python \n"
   ]
  },
  {
   "cell_type": "markdown",
   "id": "8116099b",
   "metadata": {},
   "source": [
    "## <img src=\"../../images/logos/toc.png\" width=\"20\"/> Table of Contents \n",
    "* [Testing Your Code](#testing_your_code)\n",
    "    * [Automated vs. Manual Testing](#automated_vs._manual_testing)\n",
    "    * [Unit Tests vs. Integration Tests](#unit_tests_vs._integration_tests)\n",
    "    * [Choosing a Test Runner](#choosing_a_test_runner)\n",
    "        * [`unittest`](#`unittest`)\n",
    "        * [`nose`](#`nose`)\n",
    "        * [`pytest`](#`pytest`)\n",
    "* [Writing Your First Test](#writing_your_first_test)\n",
    "    * [Where to Write the Test](#where_to_write_the_test)\n",
    "    * [How to Structure a Simple Test](#how_to_structure_a_simple_test)\n",
    "    * [How to Write Assertions](#how_to_write_assertions)\n",
    "    * [Side Effects](#side_effects)\n",
    "* [Executing Your First Test](#executing_your_first_test)\n",
    "    * [Executing Test Runners](#executing_test_runners)\n",
    "    * [Understanding Test Output](#understanding_test_output)\n",
    "    * [Running Your Tests From PyCharm](#running_your_tests_from_pycharm)\n",
    "    * [Running Your Tests From Visual Studio Code](#running_your_tests_from_visual_studio_code)\n",
    "* [Testing for Web Frameworks Like Django and Flask](#testing_for_web_frameworks_like_django_and_flask)\n",
    "    * [Why They’re Different From Other Applications](#why_they’re_different_from_other_applications)\n",
    "    * [How to Use the Django Test Runner](#how_to_use_the_django_test_runner)\n",
    "    * [How to Use `unittest` and Flask](#how_to_use_`unittest`_and_flask)\n",
    "* [More Advanced Testing Scenarios](#more_advanced_testing_scenarios)\n",
    "    * [Handling Expected Failures](#handling_expected_failures)\n",
    "    * [Isolating Behaviors in Your Application](#isolating_behaviors_in_your_application)\n",
    "    * [Writing Integration Tests](#writing_integration_tests)\n",
    "    * [Testing Data-Driven Applications](#testing_data-driven_applications)\n",
    "* [Testing in Multiple Environments](#testing_in_multiple_environments)\n",
    "    * [Installing Tox](#installing_tox)\n",
    "    * [Configuring Tox for Your Dependencies](#configuring_tox_for_your_dependencies)\n",
    "    * [Executing Tox](#executing_tox)\n",
    "* [Automating the Execution of Your Tests](#automating_the_execution_of_your_tests)\n",
    "* [What’s Next](#what’s_next)\n",
    "    * [Introducing Linters Into Your Application](#introducing_linters_into_your_application)\n",
    "        * [Passive Linting With `flake8`](#passive_linting_with_`flake8`)\n",
    "        * [Aggressive Linting With a Code Formatter](#aggressive_linting_with_a_code_formatter)\n",
    "    * [Keeping Your Test Code Clean](#keeping_your_test_code_clean)\n",
    "    * [Testing for Performance Degradation Between Changes](#testing_for_performance_degradation_between_changes)\n",
    "    * [Testing for Security Flaws in Your Application](#testing_for_security_flaws_in_your_application)\n",
    "* [Conclusion](#conclusion)\n",
    "\n",
    "---"
   ]
  },
  {
   "cell_type": "markdown",
   "id": "7da237c1",
   "metadata": {},
   "source": [
    "This tutorial is for anyone who has written a fantastic application in Python but hasn’t yet written any tests."
   ]
  },
  {
   "cell_type": "markdown",
   "id": "27941e3e",
   "metadata": {},
   "source": [
    "Testing in Python is a huge topic and can come with a lot of complexity, but it doesn’t need to be hard. You can get started creating simple tests for your application in a few easy steps and then build on it from there."
   ]
  },
  {
   "cell_type": "markdown",
   "id": "e2970d0c",
   "metadata": {},
   "source": [
    "In this tutorial, you’ll learn how to create a basic test, execute it, and find the bugs before your users do! You’ll learn about the tools available to write and execute tests, check your application’s performance, and even look for security issues."
   ]
  },
  {
   "cell_type": "markdown",
   "id": "cdb8b4dc",
   "metadata": {},
   "source": [
    "<a class=\"anchor\" id=\"testing_your_code\"></a>\n",
    "\n",
    "## Testing Your Code"
   ]
  },
  {
   "cell_type": "markdown",
   "id": "cef383a5",
   "metadata": {},
   "source": [
    "There are many ways to test your code. In this tutorial, you’ll learn the techniques from the most basic steps and work towards advanced methods."
   ]
  },
  {
   "cell_type": "markdown",
   "id": "782d66de",
   "metadata": {},
   "source": [
    "<a class=\"anchor\" id=\"automated_vs._manual_testing\"></a>\n",
    "\n",
    "### Automated vs. Manual Testing"
   ]
  },
  {
   "cell_type": "markdown",
   "id": "b0ca5e2b",
   "metadata": {},
   "source": [
    "The good news is, you’ve probably already created a test without realizing it. Remember when you ran your application and used it for the first time? Did you check the features and experiment using them? That’s known as **exploratory testing** and is a form of manual testing."
   ]
  },
  {
   "cell_type": "markdown",
   "id": "86a60191",
   "metadata": {},
   "source": [
    "Exploratory testing is a form of testing that is done without a plan. In an exploratory test, you’re just exploring the application."
   ]
  },
  {
   "cell_type": "markdown",
   "id": "eb524fc0",
   "metadata": {},
   "source": [
    "To have a complete set of manual tests, all you need to do is make a list of all the features your application has, the different types of input it can accept, and the expected results. Now, every time you make a change to your code, you need to go through every single item on that list and check it."
   ]
  },
  {
   "cell_type": "markdown",
   "id": "5fb4710d",
   "metadata": {},
   "source": [
    "That doesn’t sound like much fun, does it?"
   ]
  },
  {
   "cell_type": "markdown",
   "id": "6da3cabd",
   "metadata": {},
   "source": [
    "This is where automated testing comes in. Automated testing is the execution of your test plan (the parts of your application you want to test, the order in which you want to test them, and the expected responses) by a script instead of a human. Python already comes with a set of tools and libraries to help you create automated tests for your application. We’ll explore those tools and libraries in this tutorial."
   ]
  },
  {
   "cell_type": "markdown",
   "id": "69c325ca",
   "metadata": {},
   "source": [
    "<a class=\"anchor\" id=\"unit_tests_vs._integration_tests\"></a>\n",
    "\n",
    "### Unit Tests vs. Integration Tests"
   ]
  },
  {
   "cell_type": "markdown",
   "id": "70ce52f3",
   "metadata": {},
   "source": [
    "The world of testing has no shortage of terminology, and now that you know the difference between automated and manual testing, it’s time to go a level deeper."
   ]
  },
  {
   "cell_type": "markdown",
   "id": "6a89ea9c",
   "metadata": {},
   "source": [
    "Think of how you might test the lights on a car. You would turn on the lights (known as the **test step**) and go outside the car or ask a friend to check that the lights are on (known as the **test assertion**). Testing multiple components is known as **integration testing**."
   ]
  },
  {
   "cell_type": "markdown",
   "id": "3d1b8433",
   "metadata": {},
   "source": [
    "Think of all the things that need to work correctly in order for a simple task to give the right result. These components are like the parts to your application, all of those classes, functions, and modules you’ve written. "
   ]
  },
  {
   "cell_type": "markdown",
   "id": "8ba546d7",
   "metadata": {},
   "source": [
    "A major challenge with integration testing is when an integration test doesn’t give the right result. It’s very hard to diagnose the issue without being able to isolate which part of the system is failing. If the lights didn’t turn on, then maybe the bulbs are broken. Is the battery dead? What about the alternator? Is the car’s computer failing?"
   ]
  },
  {
   "cell_type": "markdown",
   "id": "dbbde818",
   "metadata": {},
   "source": [
    "If you have a fancy modern car, it will tell you when your light bulbs have gone. It does this using a form of **unit test**."
   ]
  },
  {
   "cell_type": "markdown",
   "id": "79145f2c",
   "metadata": {},
   "source": [
    "A unit test is a smaller test, one that checks that a single component operates in the right way. A unit test helps you to isolate what is broken in your application and fix it faster."
   ]
  },
  {
   "cell_type": "markdown",
   "id": "13b8616e",
   "metadata": {},
   "source": [
    "You have just seen two types of tests:"
   ]
  },
  {
   "cell_type": "markdown",
   "id": "422fffb0",
   "metadata": {},
   "source": [
    "1. An integration test checks that components in your application operate with each other.\n",
    "2. A unit test checks a small component in your application.\n"
   ]
  },
  {
   "cell_type": "markdown",
   "id": "8bca9899",
   "metadata": {},
   "source": [
    "You can write both integration tests and unit tests in Python. To write a unit test for the built-in function `sum()`, you would check the output of `sum()` against a known output. "
   ]
  },
  {
   "cell_type": "markdown",
   "id": "2b66d3c1",
   "metadata": {},
   "source": [
    "For example, here’s how you check that the `sum()` of the numbers `(1, 2, 3)` equals `6`:"
   ]
  },
  {
   "cell_type": "code",
   "execution_count": 2,
   "id": "ba1a3771",
   "metadata": {},
   "outputs": [],
   "source": [
    ">>> assert sum([1, 2, 3]) == 6, \"Should be 6\""
   ]
  },
  {
   "cell_type": "markdown",
   "id": "91062aa9",
   "metadata": {},
   "source": [
    "This will not output anything on the REPL because the values are correct."
   ]
  },
  {
   "cell_type": "markdown",
   "id": "8a2a77d9",
   "metadata": {},
   "source": [
    "If the result from `sum()` is incorrect, this will fail with an `AssertionError` and the message `\"Should be 6\"`. Try an assertion statement again with the wrong values to see an `AssertionError`:"
   ]
  },
  {
   "cell_type": "code",
   "execution_count": 3,
   "id": "3038420b",
   "metadata": {},
   "outputs": [
    {
     "ename": "SyntaxError",
     "evalue": "invalid syntax (3402191843.py, line 2)",
     "output_type": "error",
     "traceback": [
      "\u001b[0;36m  File \u001b[0;32m\"/var/folders/b4/tsp68dlx1gz9xlnpgbx21ytc0000gn/T/ipykernel_53029/3402191843.py\"\u001b[0;36m, line \u001b[0;32m2\u001b[0m\n\u001b[0;31m    Traceback (most recent call last):\u001b[0m\n\u001b[0m                         ^\u001b[0m\n\u001b[0;31mSyntaxError\u001b[0m\u001b[0;31m:\u001b[0m invalid syntax\n"
     ]
    }
   ],
   "source": [
    ">>> assert sum([1, 1, 1]) == 6, \"Should be 6\"\n",
    "Traceback (most recent call last):\n",
    "  File \"<stdin>\", line 1, in <module>\n",
    "AssertionError: Should be 6"
   ]
  },
  {
   "cell_type": "markdown",
   "id": "c3eff498",
   "metadata": {},
   "source": [
    "In the REPL, you are seeing the raised `AssertionError` because the result of `sum()` does not match `6`."
   ]
  },
  {
   "cell_type": "markdown",
   "id": "5f7a0e27",
   "metadata": {},
   "source": [
    "Instead of testing on the REPL, you’ll want to put this into a new Python file called `test_sum.py` and execute it again:"
   ]
  },
  {
   "cell_type": "code",
   "execution_count": null,
   "id": "083fbb1f",
   "metadata": {},
   "outputs": [],
   "source": [
    "def test_sum():\n",
    "    assert sum([1, 2, 3]) == 6, \"Should be 6\"\n",
    "\n",
    "if __name__ == \"__main__\":\n",
    "    test_sum()\n",
    "    print(\"Everything passed\")"
   ]
  },
  {
   "cell_type": "markdown",
   "id": "c69af0ea",
   "metadata": {},
   "source": [
    "Now you have written a **test case**, an assertion, and an entry point (the command line). You can now execute this at the command line:"
   ]
  },
  {
   "cell_type": "markdown",
   "id": "bc316183",
   "metadata": {},
   "source": [
    "```sh\n",
    "$ python test_sum.py\n",
    "Everything passed\n",
    "```"
   ]
  },
  {
   "cell_type": "markdown",
   "id": "8e03ccf7",
   "metadata": {},
   "source": [
    "You can see the successful result, `Everything passed`."
   ]
  },
  {
   "cell_type": "markdown",
   "id": "0b55feb6",
   "metadata": {},
   "source": [
    "In Python, `sum()` accepts any iterable as its first argument. You tested with a list. Now test with a tuple as well. Create a new file called `test_sum_2.py` with the following code:"
   ]
  },
  {
   "cell_type": "code",
   "execution_count": null,
   "id": "3f64c1db",
   "metadata": {},
   "outputs": [],
   "source": [
    "def test_sum():\n",
    "    assert sum([1, 2, 3]) == 6, \"Should be 6\"\n",
    "\n",
    "def test_sum_tuple():\n",
    "    assert sum((1, 2, 2)) == 6, \"Should be 6\"\n",
    "\n",
    "if __name__ == \"__main__\":\n",
    "    test_sum()\n",
    "    test_sum_tuple()\n",
    "    print(\"Everything passed\")"
   ]
  },
  {
   "cell_type": "markdown",
   "id": "416893c8",
   "metadata": {},
   "source": [
    "When you execute `test_sum_2.py`, the script will give an error because the `sum()` of `(1, 2, 2)` is `5`, not `6`. The result of the script gives you the error message, the line of code, and the traceback:"
   ]
  },
  {
   "cell_type": "markdown",
   "id": "6af6e07f",
   "metadata": {},
   "source": [
    "```sh\n",
    "$ python test_sum_2.py\n",
    "Traceback (most recent call last):\n",
    "  File \"test_sum_2.py\", line 9, in <module>\n",
    "    test_sum_tuple()\n",
    "  File \"test_sum_2.py\", line 5, in test_sum_tuple\n",
    "    assert sum((1, 2, 2)) == 6, \"Should be 6\"\n",
    "AssertionError: Should be 6\n",
    "```"
   ]
  },
  {
   "cell_type": "markdown",
   "id": "e27dc392",
   "metadata": {},
   "source": [
    "Here you can see how a mistake in your code gives an error on the console with some information on where the error was and what the expected result was."
   ]
  },
  {
   "cell_type": "markdown",
   "id": "6d63e7e3",
   "metadata": {},
   "source": [
    "Writing tests in this way is okay for a simple check, but what if more than one fails? This is where test runners come in. The test runner is a special application designed for running tests, checking the output, and giving you tools for debugging and diagnosing tests and applications."
   ]
  },
  {
   "cell_type": "markdown",
   "id": "791fdb58",
   "metadata": {},
   "source": [
    "<a class=\"anchor\" id=\"choosing_a_test_runner\"></a>\n",
    "\n",
    "### Choosing a Test Runner"
   ]
  },
  {
   "cell_type": "markdown",
   "id": "b47b7437",
   "metadata": {},
   "source": [
    "There are many test runners available for Python. The one built into the Python standard library is called `unittest`. In this tutorial, you will be using `unittest` test cases and the `unittest` test runner. The principles of `unittest` are easily portable to other frameworks. The three most popular test runners are:"
   ]
  },
  {
   "cell_type": "markdown",
   "id": "31538c7d",
   "metadata": {},
   "source": [
    "- `unittest`\n",
    "- `nose` or `nose2`\n",
    "- `pytest`\n"
   ]
  },
  {
   "cell_type": "markdown",
   "id": "a2543a18",
   "metadata": {},
   "source": [
    "Choosing the best test runner for your requirements and level of experience is important."
   ]
  },
  {
   "cell_type": "markdown",
   "id": "fb693ad9",
   "metadata": {},
   "source": [
    "<a class=\"anchor\" id=\"`unittest`\"></a>\n",
    "\n",
    "#### `unittest`"
   ]
  },
  {
   "cell_type": "markdown",
   "id": "ba523106",
   "metadata": {},
   "source": [
    "`unittest` has been built into the Python standard library since version 2.1. You’ll probably see it in commercial Python applications and open-source projects."
   ]
  },
  {
   "cell_type": "markdown",
   "id": "047b85a2",
   "metadata": {},
   "source": [
    "`unittest` contains both a testing framework and a test runner. `unittest` has some important requirements for writing and executing tests."
   ]
  },
  {
   "cell_type": "markdown",
   "id": "fc73e730",
   "metadata": {},
   "source": [
    "`unittest` requires that:"
   ]
  },
  {
   "cell_type": "markdown",
   "id": "fe507bf3",
   "metadata": {},
   "source": [
    "- You put your tests into classes as methods\n",
    "- You use a series of special assertion methods in the `unittest.TestCase` class instead of the built-in `assert` statement\n"
   ]
  },
  {
   "cell_type": "markdown",
   "id": "f1ffb3bd",
   "metadata": {},
   "source": [
    "To convert the earlier example to a `unittest` test case, you would have to:"
   ]
  },
  {
   "cell_type": "markdown",
   "id": "1cc6e513",
   "metadata": {},
   "source": [
    "1. [Import](https://realpython.com/absolute-vs-relative-python-imports/) `unittest` from the standard library\n",
    "2. Create a class called `TestSum` that inherits from the `TestCase` class\n",
    "3. Convert the test functions into methods by adding `self` as the first argument\n",
    "4. Change the assertions to use the `self.assertEqual()` method on the `TestCase` class\n",
    "5. Change the command-line entry point to call `unittest.main()`\n"
   ]
  },
  {
   "cell_type": "markdown",
   "id": "522b7f51",
   "metadata": {},
   "source": [
    "Follow those steps by creating a new file `test_sum_unittest.py` with the following code:"
   ]
  },
  {
   "cell_type": "code",
   "execution_count": null,
   "id": "8d97e02d",
   "metadata": {},
   "outputs": [],
   "source": [
    "import unittest"
   ]
  },
  {
   "cell_type": "code",
   "execution_count": null,
   "id": "251d94b0",
   "metadata": {},
   "outputs": [],
   "source": [
    "class TestSum(unittest.TestCase):\n",
    "\n",
    "    def test_sum(self):\n",
    "        self.assertEqual(sum([1, 2, 3]), 6, \"Should be 6\")\n",
    "\n",
    "    def test_sum_tuple(self):\n",
    "        self.assertEqual(sum((1, 2, 2)), 6, \"Should be 6\")\n",
    "\n",
    "if __name__ == '__main__':\n",
    "    unittest.main()"
   ]
  },
  {
   "cell_type": "markdown",
   "id": "cb9a8f54",
   "metadata": {},
   "source": [
    "If you execute this at the command line, you’ll see one success (indicated with `.`) and one failure (indicated with `F`):"
   ]
  },
  {
   "cell_type": "markdown",
   "id": "1f5593c1",
   "metadata": {},
   "source": [
    "```sh\n",
    "$ python test_sum_unittest.py\n",
    ".F\n",
    "======================================================================\n",
    "FAIL: test_sum_tuple (__main__.TestSum)\n",
    "----------------------------------------------------------------------\n",
    "Traceback (most recent call last):\n",
    "  File \"test_sum_unittest.py\", line 9, in test_sum_tuple\n",
    "    self.assertEqual(sum((1, 2, 2)), 6, \"Should be 6\")\n",
    "AssertionError: Should be 6\n",
    "\n",
    "----------------------------------------------------------------------\n",
    "Ran 2 tests in 0.001s\n",
    "\n",
    "FAILED (failures=1)\n",
    "```"
   ]
  },
  {
   "cell_type": "markdown",
   "id": "6c7cca7c",
   "metadata": {},
   "source": [
    "You have just executed two tests using the `unittest` test runner."
   ]
  },
  {
   "cell_type": "markdown",
   "id": "6367ce3b",
   "metadata": {},
   "source": [
    "For more information on `unittest`, you can explore the [unittest Documentation](https://docs.python.org/3/library/unittest.html)."
   ]
  },
  {
   "cell_type": "markdown",
   "id": "7197fcaa",
   "metadata": {},
   "source": [
    "<a class=\"anchor\" id=\"`nose`\"></a>\n",
    "\n",
    "#### `nose`"
   ]
  },
  {
   "cell_type": "markdown",
   "id": "18a99028",
   "metadata": {},
   "source": [
    "You may find that over time, as you write hundreds or even thousands of tests for your application, it becomes increasingly hard to understand and use the output from `unittest`."
   ]
  },
  {
   "cell_type": "markdown",
   "id": "3fae09e9",
   "metadata": {},
   "source": [
    "`nose` is compatible with any tests written using the `unittest` framework and can be used as a drop-in replacement for the `unittest` test runner. The development of `nose` as an open-source application fell behind, and a fork called `nose2` was created. If you’re starting from scratch, it is recommended that you use `nose2` instead of `nose`."
   ]
  },
  {
   "cell_type": "markdown",
   "id": "97e7dc42",
   "metadata": {},
   "source": [
    "To get started with `nose2`, install `nose2` from PyPI and execute it on the command line. `nose2` will try to discover all test scripts named `test*.py` and test cases inheriting from `unittest.TestCase` in your current directory:"
   ]
  },
  {
   "cell_type": "markdown",
   "id": "b35a7aff",
   "metadata": {},
   "source": [
    "```sh\n",
    "$ pip install nose2\n",
    "$ python -m nose2\n",
    ".F\n",
    "======================================================================\n",
    "FAIL: test_sum_tuple (__main__.TestSum)\n",
    "----------------------------------------------------------------------\n",
    "Traceback (most recent call last):\n",
    "  File \"test_sum_unittest.py\", line 9, in test_sum_tuple\n",
    "    self.assertEqual(sum((1, 2, 2)), 6, \"Should be 6\")\n",
    "AssertionError: Should be 6\n",
    "\n",
    "----------------------------------------------------------------------\n",
    "Ran 2 tests in 0.001s\n",
    "\n",
    "FAILED (failures=1)\n",
    "```"
   ]
  },
  {
   "cell_type": "markdown",
   "id": "7985671c",
   "metadata": {},
   "source": [
    "You have just executed the test you created in `test_sum_unittest.py` from the `nose2` test runner. `nose2` offers many command-line flags for filtering the tests that you execute. For more information, you can explore the [Nose 2 documentation](https://nose2.readthedocs.io/)."
   ]
  },
  {
   "cell_type": "markdown",
   "id": "d1d4093b",
   "metadata": {},
   "source": [
    "<a class=\"anchor\" id=\"`pytest`\"></a>\n",
    "\n",
    "#### `pytest`"
   ]
  },
  {
   "cell_type": "markdown",
   "id": "08ab251d",
   "metadata": {},
   "source": [
    "[`pytest`](https://realpython.com/pytest-python-testing/) supports execution of `unittest` test cases. The real advantage of `pytest` comes by writing `pytest` test cases. `pytest` test cases are a series of functions in a Python file starting with the name `test_`."
   ]
  },
  {
   "cell_type": "markdown",
   "id": "af57baf2",
   "metadata": {},
   "source": [
    "`pytest` has some other great features:"
   ]
  },
  {
   "cell_type": "markdown",
   "id": "858e8016",
   "metadata": {},
   "source": [
    "- Support for the built-in `assert` statement instead of using special `self.assert*()` methods\n",
    "- Support for filtering for test cases\n",
    "- Ability to rerun from the last failing test\n",
    "- An ecosystem of hundreds of plugins to extend the functionality\n"
   ]
  },
  {
   "cell_type": "markdown",
   "id": "9a0f0a10",
   "metadata": {},
   "source": [
    "Writing the `TestSum` test case example for `pytest` would look like this:"
   ]
  },
  {
   "cell_type": "code",
   "execution_count": null,
   "id": "517de7d3",
   "metadata": {},
   "outputs": [],
   "source": [
    "def test_sum():\n",
    "    assert sum([1, 2, 3]) == 6, \"Should be 6\"\n",
    "\n",
    "def test_sum_tuple():\n",
    "    assert sum((1, 2, 2)) == 6, \"Should be 6\""
   ]
  },
  {
   "cell_type": "markdown",
   "id": "353b5dee",
   "metadata": {},
   "source": [
    "You have dropped the `TestCase`, any use of classes, and the command-line entry point."
   ]
  },
  {
   "cell_type": "markdown",
   "id": "1fc996d7",
   "metadata": {},
   "source": [
    "More information can be found at the [Pytest Documentation Website](https://docs.pytest.org/en/latest/)."
   ]
  },
  {
   "cell_type": "markdown",
   "id": "804a53d8",
   "metadata": {},
   "source": [
    "<a class=\"anchor\" id=\"writing_your_first_test\"></a>\n",
    "\n",
    "## Writing Your First Test"
   ]
  },
  {
   "cell_type": "markdown",
   "id": "09987524",
   "metadata": {},
   "source": [
    "Let’s bring together what you’ve learned so far and, instead of testing the built-in `sum()` function, test a simple implementation of the same requirement. "
   ]
  },
  {
   "cell_type": "markdown",
   "id": "5bf3677a",
   "metadata": {},
   "source": [
    "Create a new project folder and, inside that, create a new folder called `my_sum`. Inside `my_sum`, create an empty file called `__init__.py`. Creating the `__init__.py` file means that the `my_sum` folder can be imported as a module from the parent directory."
   ]
  },
  {
   "cell_type": "markdown",
   "id": "f527ce1e",
   "metadata": {},
   "source": [
    "Your project folder should look like this:"
   ]
  },
  {
   "cell_type": "markdown",
   "id": "99fe750c",
   "metadata": {},
   "source": [
    "```\n",
    "project/\n",
    "│\n",
    "└── my_sum/\n",
    "    └── __init__.py\n",
    "```"
   ]
  },
  {
   "cell_type": "markdown",
   "id": "dc129034",
   "metadata": {},
   "source": [
    "Open up `my_sum/__init__.py` and create a new function called `sum()`, which takes an iterable (a list, tuple, or set) and adds the values together:"
   ]
  },
  {
   "cell_type": "code",
   "execution_count": null,
   "id": "6ad8f3c1",
   "metadata": {},
   "outputs": [],
   "source": [
    "def sum(arg):\n",
    "    total = 0\n",
    "    for val in arg:\n",
    "        total += val\n",
    "    return total"
   ]
  },
  {
   "cell_type": "markdown",
   "id": "0e7e0a1c",
   "metadata": {},
   "source": [
    "This code example creates a variable called `total`, iterates over all the values in `arg`, and adds them to `total`. It then returns the result once the iterable has been exhausted."
   ]
  },
  {
   "cell_type": "markdown",
   "id": "59e817e8",
   "metadata": {},
   "source": [
    "<a class=\"anchor\" id=\"where_to_write_the_test\"></a>\n",
    "\n",
    "### Where to Write the Test"
   ]
  },
  {
   "cell_type": "markdown",
   "id": "92539e7a",
   "metadata": {},
   "source": [
    "To get started writing tests, you can simply create a file called `test.py`, which will contain your first test case. Because the file will need to be able to import your application to be able to test it, you want to place `test.py` above the package folder, so your directory tree will look something like this:"
   ]
  },
  {
   "cell_type": "markdown",
   "id": "f83ca7ee",
   "metadata": {},
   "source": [
    "```\n",
    "project/\n",
    "│\n",
    "├── my_sum/\n",
    "│   └── __init__.py\n",
    "|\n",
    "└── test.py\n",
    "```"
   ]
  },
  {
   "cell_type": "markdown",
   "id": "6d31279f",
   "metadata": {},
   "source": [
    "You’ll find that, as you add more and more tests, your single file will become cluttered and hard to maintain, so you can create a folder called `tests/` and split the tests into multiple files. It is convention to ensure each file starts with `test_` so all test runners will assume that Python file contains tests to be executed. Some very large projects split tests into more subdirectories based on their purpose or usage."
   ]
  },
  {
   "cell_type": "markdown",
   "id": "8d43957a",
   "metadata": {},
   "source": [
    "<a class=\"anchor\" id=\"how_to_structure_a_simple_test\"></a>\n",
    "\n",
    "### How to Structure a Simple Test"
   ]
  },
  {
   "cell_type": "markdown",
   "id": "d1efb22b",
   "metadata": {},
   "source": [
    "Before you dive into writing tests, you’ll want to first make a couple of decisions:"
   ]
  },
  {
   "cell_type": "markdown",
   "id": "462e531f",
   "metadata": {},
   "source": [
    "1. What do you want to test?\n",
    "2. Are you writing a unit test or an integration test?\n"
   ]
  },
  {
   "cell_type": "markdown",
   "id": "c3dedb57",
   "metadata": {},
   "source": [
    "Then the structure of a test should loosely follow this workflow:"
   ]
  },
  {
   "cell_type": "markdown",
   "id": "232ee4e6",
   "metadata": {},
   "source": [
    "1. Create your inputs\n",
    "2. Execute the code being tested, capturing the output\n",
    "3. Compare the output with an expected result\n"
   ]
  },
  {
   "cell_type": "markdown",
   "id": "12a820b7",
   "metadata": {},
   "source": [
    "For this application, you’re testing `sum()`. There are many behaviors in `sum()` you could check, such as:"
   ]
  },
  {
   "cell_type": "markdown",
   "id": "03afd2ef",
   "metadata": {},
   "source": [
    "- Can it sum a list of whole numbers (integers)?\n",
    "- Can it sum a tuple or set?\n",
    "- Can it sum a list of floats?\n",
    "- What happens when you provide it with a bad value, such as a single integer or a string?\n",
    "- What happens when one of the values is negative?\n"
   ]
  },
  {
   "cell_type": "markdown",
   "id": "929f9f34",
   "metadata": {},
   "source": [
    "The most simple test would be a list of integers. Create a file, `test.py` with the following Python code:"
   ]
  },
  {
   "cell_type": "code",
   "execution_count": null,
   "id": "e501f19c",
   "metadata": {},
   "outputs": [],
   "source": [
    "import unittest\n",
    "\n",
    "from my_sum import sum"
   ]
  },
  {
   "cell_type": "code",
   "execution_count": null,
   "id": "603c05e3",
   "metadata": {},
   "outputs": [],
   "source": [
    "class TestSum(unittest.TestCase):\n",
    "    def test_list_int(self):\n",
    "        \"\"\"\n",
    "        Test that it can sum a list of integers\n",
    "        \"\"\"\n",
    "        data = [1, 2, 3]\n",
    "        result = sum(data)\n",
    "        self.assertEqual(result, 6)\n",
    "\n",
    "if __name__ == '__main__':\n",
    "    unittest.main()"
   ]
  },
  {
   "cell_type": "markdown",
   "id": "800ed5a1",
   "metadata": {},
   "source": [
    "This code example:"
   ]
  },
  {
   "cell_type": "markdown",
   "id": "5449fbda",
   "metadata": {},
   "source": [
    "1. \n",
    "Imports `sum()` from the `my_sum` package you created\n",
    "\n",
    "\n",
    "\n",
    "2. \n",
    "Defines a new test case class called `TestSum`, which inherits from `unittest.TestCase`\n",
    "\n",
    "\n",
    "\n",
    "3. \n",
    "Defines a test method, `.test_list_int()`, to test a list of integers. The method `.test_list_int()` will:\n",
    "\n",
    "\n",
    "* Declare a variable `data` with a list of numbers `(1, 2, 3)`\n",
    "* Assign the result of `my_sum.sum(data)` to a `result` variable\n",
    "* Assert that the value of `result` equals `6` by using the `.assertEqual()` method on the `unittest.TestCase` class\n",
    "\n",
    "\n",
    "\n",
    "4. \n",
    "Defines a command-line entry point, which runs the `unittest` test-runner `.main()`\n",
    "\n",
    "\n",
    "\n"
   ]
  },
  {
   "cell_type": "markdown",
   "id": "36e82bd4",
   "metadata": {},
   "source": [
    "If you’re unsure what `self` is or how `.assertEqual()` is defined, you can brush up on your object-oriented programming with [Python 3 Object-Oriented Programming](https://realpython.com/python3-object-oriented-programming/)."
   ]
  },
  {
   "cell_type": "markdown",
   "id": "c42256f8",
   "metadata": {},
   "source": [
    "<a class=\"anchor\" id=\"how_to_write_assertions\"></a>\n",
    "\n",
    "### How to Write Assertions"
   ]
  },
  {
   "cell_type": "markdown",
   "id": "38fcd67a",
   "metadata": {},
   "source": [
    "The last step of writing a test is to validate the output against a known response. This is known as an **assertion**. There are some general best practices around how to write assertions:"
   ]
  },
  {
   "cell_type": "markdown",
   "id": "06f65d45",
   "metadata": {},
   "source": [
    "- Make sure tests are repeatable and run your test multiple times to make sure it gives the same result every time\n",
    "- Try and assert results that relate to your input data, such as checking that the result is the actual sum of values in the `sum()` example\n"
   ]
  },
  {
   "cell_type": "markdown",
   "id": "170b0062",
   "metadata": {},
   "source": [
    "`unittest` comes with lots of methods to assert on the values, types, and existence of variables. Here are some of the most commonly used methods:"
   ]
  },
  {
   "cell_type": "markdown",
   "id": "e861da00",
   "metadata": {},
   "source": [
    "|Method|Equivalent to|\n",
    "|:--|:--|\n",
    "|`.assertEqual(a, b)`|`a == b`|\n",
    "|`.assertTrue(x)`|`bool(x) is True`|\n",
    "|`.assertFalse(x)`|`bool(x) is False`|\n",
    "|`.assertIs(a, b)`|`a is b`|\n",
    "|`.assertIsNone(x)`|`x is None`|\n",
    "|`.assertIn(a, b)`|`a in b`|\n",
    "|`.assertIsInstance(a, b)`|`isinstance(a, b)`|\n"
   ]
  },
  {
   "cell_type": "markdown",
   "id": "0e49321a",
   "metadata": {},
   "source": [
    "`.assertIs()`, `.assertIsNone()`, `.assertIn()`, and `.assertIsInstance()` all have opposite methods, named `.assertIsNot()`, and so forth."
   ]
  },
  {
   "cell_type": "markdown",
   "id": "3863a2d1",
   "metadata": {},
   "source": [
    "<a class=\"anchor\" id=\"side_effects\"></a>\n",
    "\n",
    "### Side Effects"
   ]
  },
  {
   "cell_type": "markdown",
   "id": "555fa1cd",
   "metadata": {},
   "source": [
    "When you’re writing tests, it’s often not as simple as looking at the return value of a function. Often, executing a piece of code will alter other things in the environment, such as the attribute of a class, a file on the filesystem, or a value in a database. These are known as **side effects** and are an important part of testing. Decide if the side effect is being tested before including it in your list of assertions. "
   ]
  },
  {
   "cell_type": "markdown",
   "id": "4fc1b8e3",
   "metadata": {},
   "source": [
    "If you find that the unit of code you want to test has lots of side effects, you might be breaking the [Single Responsibility Principle](https://en.wikipedia.org/wiki/Single_responsibility_principle). Breaking the Single Responsibility Principle means the piece of code is doing too many things and would be better off being refactored. Following the Single Responsibility Principle is a great way to design code that it is easy to write repeatable and simple unit tests for, and ultimately, reliable applications."
   ]
  },
  {
   "cell_type": "markdown",
   "id": "b5185404",
   "metadata": {},
   "source": [
    "<a class=\"anchor\" id=\"executing_your_first_test\"></a>\n",
    "\n",
    "## Executing Your First Test"
   ]
  },
  {
   "cell_type": "markdown",
   "id": "5e788422",
   "metadata": {},
   "source": [
    "Now that you’ve created the first test, you want to execute it. Sure, you know it’s going to pass, but before you create more complex tests, you should check that you can execute the tests successfully."
   ]
  },
  {
   "cell_type": "markdown",
   "id": "34ed80ac",
   "metadata": {},
   "source": [
    "<a class=\"anchor\" id=\"executing_test_runners\"></a>\n",
    "\n",
    "### Executing Test Runners"
   ]
  },
  {
   "cell_type": "markdown",
   "id": "80f3c294",
   "metadata": {},
   "source": [
    "The Python application that executes your test code, checks the assertions, and gives you test results in your console is called the **test runner**. "
   ]
  },
  {
   "cell_type": "markdown",
   "id": "816f9352",
   "metadata": {},
   "source": [
    "At the bottom of `test.py`, you added this small snippet of code:"
   ]
  },
  {
   "cell_type": "code",
   "execution_count": null,
   "id": "f3f6b530",
   "metadata": {},
   "outputs": [],
   "source": [
    "if __name__ == '__main__':\n",
    "    unittest.main()"
   ]
  },
  {
   "cell_type": "markdown",
   "id": "9d9a0a39",
   "metadata": {},
   "source": [
    "This is a command line entry point. It means that if you execute the script alone by running `python test.py` at the command line, it will call `unittest.main()`. This executes the test runner by discovering all classes in this file that inherit from `unittest.TestCase`."
   ]
  },
  {
   "cell_type": "markdown",
   "id": "77a8b0ec",
   "metadata": {},
   "source": [
    "This is one of many ways to execute the `unittest` test runner. When you have a single test file named `test.py`, calling `python test.py` is a great way to get started."
   ]
  },
  {
   "cell_type": "markdown",
   "id": "5841b2cf",
   "metadata": {},
   "source": [
    "Another way is using the `unittest` command line. Try this:"
   ]
  },
  {
   "cell_type": "markdown",
   "id": "83893b06",
   "metadata": {},
   "source": [
    "```sh\n",
    "$ python -m unittest test\n",
    "```"
   ]
  },
  {
   "cell_type": "markdown",
   "id": "23ecf71d",
   "metadata": {},
   "source": [
    "This will execute the same test module (called `test`) via the command line."
   ]
  },
  {
   "cell_type": "markdown",
   "id": "7d67b1cf",
   "metadata": {},
   "source": [
    "You can provide additional options to change the output. One of those is `-v` for verbose. Try that next:"
   ]
  },
  {
   "cell_type": "markdown",
   "id": "9dbcbddd",
   "metadata": {},
   "source": [
    "```sh\n",
    "$ python -m unittest -v test\n",
    "test_list_int (test.TestSum) ... ok\n",
    "\n",
    "----------------------------------------------------------------------\n",
    "Ran 1 tests in 0.000s\n",
    "```"
   ]
  },
  {
   "cell_type": "markdown",
   "id": "74056143",
   "metadata": {},
   "source": [
    "This executed the one test inside `test.py` and printed the results to the console. Verbose mode listed the names of the tests it executed first, along with the result of each test."
   ]
  },
  {
   "cell_type": "markdown",
   "id": "d69d43d4",
   "metadata": {},
   "source": [
    "Instead of providing the name of a module containing tests, you can request an auto-discovery using the following:"
   ]
  },
  {
   "cell_type": "markdown",
   "id": "a7d25f7f",
   "metadata": {},
   "source": [
    "```sh\n",
    "$ python -m unittest discover\n",
    "```"
   ]
  },
  {
   "cell_type": "markdown",
   "id": "64a4db65",
   "metadata": {},
   "source": [
    "This will search the current directory for any files named `test*.py` and attempt to test them."
   ]
  },
  {
   "cell_type": "markdown",
   "id": "27e2bdb0",
   "metadata": {},
   "source": [
    "Once you have multiple test files, as long as you follow the `test*.py` naming pattern, you can provide the name of the directory instead by using the `-s` flag and the name of the directory:"
   ]
  },
  {
   "cell_type": "markdown",
   "id": "6a271c41",
   "metadata": {},
   "source": [
    "```sh\n",
    "$ python -m unittest discover -s tests\n",
    "```"
   ]
  },
  {
   "cell_type": "markdown",
   "id": "b82942b8",
   "metadata": {},
   "source": [
    "`unittest` will run all tests in a single test plan and give you the results."
   ]
  },
  {
   "cell_type": "markdown",
   "id": "7d8096fe",
   "metadata": {},
   "source": [
    "Lastly, if your source code is not in the directory root and contained in a subdirectory, for example in a folder called `src/`, you can tell `unittest` where to execute the tests so that it can import the modules correctly with the `-t` flag:"
   ]
  },
  {
   "cell_type": "markdown",
   "id": "080d22a3",
   "metadata": {},
   "source": [
    "```sh\n",
    "$ python -m unittest discover -s tests -t src\n",
    "```"
   ]
  },
  {
   "cell_type": "markdown",
   "id": "77f233d9",
   "metadata": {},
   "source": [
    "`unittest` will change to the `src/` directory, scan for all `test*.py` files inside the the `tests` directory, and execute them."
   ]
  },
  {
   "cell_type": "markdown",
   "id": "d0afde13",
   "metadata": {},
   "source": [
    "<a class=\"anchor\" id=\"understanding_test_output\"></a>\n",
    "\n",
    "### Understanding Test Output"
   ]
  },
  {
   "cell_type": "markdown",
   "id": "abb68d30",
   "metadata": {},
   "source": [
    "That was a very simple example where everything passes, so now you’re going to try a failing test and interpret the output."
   ]
  },
  {
   "cell_type": "markdown",
   "id": "3a49f923",
   "metadata": {},
   "source": [
    "`sum()` should be able to accept other lists of numeric types, like fractions."
   ]
  },
  {
   "cell_type": "markdown",
   "id": "ccfe8ad5",
   "metadata": {},
   "source": [
    "At the top of the `test.py` file, add an import statement to import the `Fraction` type from the `fractions` module in the standard library:"
   ]
  },
  {
   "cell_type": "code",
   "execution_count": null,
   "id": "82ed4c7a",
   "metadata": {},
   "outputs": [],
   "source": [
    "from fractions import Fraction"
   ]
  },
  {
   "cell_type": "markdown",
   "id": "886e00dc",
   "metadata": {},
   "source": [
    "Now add a test with an assertion expecting the incorrect value, in this case expecting the sum of 1/4, 1/4, and 2/5 to be 1:"
   ]
  },
  {
   "cell_type": "code",
   "execution_count": null,
   "id": "0e3e8613",
   "metadata": {},
   "outputs": [],
   "source": [
    "import unittest\n",
    "\n",
    "from my_sum import sum"
   ]
  },
  {
   "cell_type": "code",
   "execution_count": null,
   "id": "2ca499a0",
   "metadata": {},
   "outputs": [],
   "source": [
    "class TestSum(unittest.TestCase):\n",
    "    def test_list_int(self):\n",
    "        \"\"\"\n",
    "        Test that it can sum a list of integers\n",
    "        \"\"\"\n",
    "        data = [1, 2, 3]\n",
    "        result = sum(data)\n",
    "        self.assertEqual(result, 6)\n",
    "\n",
    "    def test_list_fraction(self):\n",
    "        \"\"\"\n",
    "        Test that it can sum a list of fractions\n",
    "        \"\"\"\n",
    "        data = [Fraction(1, 4), Fraction(1, 4), Fraction(2, 5)]\n",
    "        result = sum(data)\n",
    "        self.assertEqual(result, 1)\n",
    "\n",
    "if __name__ == '__main__':\n",
    "    unittest.main()"
   ]
  },
  {
   "cell_type": "markdown",
   "id": "d09e98db",
   "metadata": {},
   "source": [
    "If you execute the tests again with `python -m unittest test`, you should see the following output:"
   ]
  },
  {
   "cell_type": "markdown",
   "id": "00ad9669",
   "metadata": {},
   "source": [
    "```sh\n",
    "$ python -m unittest test\n",
    "F.\n",
    "======================================================================\n",
    "FAIL: test_list_fraction (test.TestSum)\n",
    "----------------------------------------------------------------------\n",
    "Traceback (most recent call last):\n",
    "  File \"test.py\", line 21, in test_list_fraction\n",
    "    self.assertEqual(result, 1)\n",
    "AssertionError: Fraction(9, 10) != 1\n",
    "\n",
    "----------------------------------------------------------------------\n",
    "Ran 2 tests in 0.001s\n",
    "\n",
    "FAILED (failures=1)\n",
    "```"
   ]
  },
  {
   "cell_type": "markdown",
   "id": "686554da",
   "metadata": {},
   "source": [
    "In the output, you’ll see the following information:"
   ]
  },
  {
   "cell_type": "markdown",
   "id": "df565f75",
   "metadata": {},
   "source": [
    "1. \n",
    "The first line shows the execution results of all the tests, one failed (`F`) and one passed (`.`).\n",
    "\n",
    "\n",
    "\n",
    "2. \n",
    "The `FAIL` entry shows some details about the failed test:\n",
    "\n",
    "\n",
    "* The test method name (`test_list_fraction`)\n",
    "* The test module (`test`) and the test case (`TestSum`)\n",
    "* A traceback to the failing line\n",
    "* The details of the assertion with the expected result (`1`) and the actual result (`Fraction(9, 10)`)\n",
    "\n",
    "\n",
    "\n"
   ]
  },
  {
   "cell_type": "markdown",
   "id": "7be3f354",
   "metadata": {},
   "source": [
    "Remember, you can add extra information to the test output by adding the `-v` flag to the `python -m unittest` command."
   ]
  },
  {
   "cell_type": "markdown",
   "id": "556b453a",
   "metadata": {},
   "source": [
    "<a class=\"anchor\" id=\"running_your_tests_from_pycharm\"></a>\n",
    "\n",
    "### Running Your Tests From PyCharm"
   ]
  },
  {
   "cell_type": "markdown",
   "id": "73f6854d",
   "metadata": {},
   "source": [
    "If you’re using the [PyCharm](https://realpython.com/pycharm-guide/) IDE, you can run `unittest` or `pytest` by following these steps: "
   ]
  },
  {
   "cell_type": "markdown",
   "id": "eba72617",
   "metadata": {},
   "source": [
    "1. In the Project tool window, select the `tests` directory.\n",
    "2. On the context menu, choose the run command for `unittest`. For example, choose *Run ‘Unittests in my Tests…’*.\n"
   ]
  },
  {
   "cell_type": "markdown",
   "id": "a63f20ac",
   "metadata": {},
   "source": [
    "This will execute `unittest` in a test window and give you the results within PyCharm:"
   ]
  },
  {
   "cell_type": "markdown",
   "id": "70751529",
   "metadata": {},
   "source": [
    "<img src=\"images/getting-started-with-testing-in-python/py_run_test_folder.b0e61b478c81.png\" width=\"600px\">"
   ]
  },
  {
   "cell_type": "markdown",
   "id": "8a429446",
   "metadata": {},
   "source": [
    "More information is available on the [PyCharm Website](https://www.jetbrains.com/help/pycharm/performing-tests.html)."
   ]
  },
  {
   "cell_type": "markdown",
   "id": "a3ba3b83",
   "metadata": {},
   "source": [
    "<a class=\"anchor\" id=\"running_your_tests_from_visual_studio_code\"></a>\n",
    "\n",
    "### Running Your Tests From Visual Studio Code"
   ]
  },
  {
   "cell_type": "markdown",
   "id": "5b62a501",
   "metadata": {},
   "source": [
    "If you’re using the Microsoft Visual Studio Code IDE, support for `unittest`, `nose`, and `pytest` execution is built into the Python plugin."
   ]
  },
  {
   "cell_type": "markdown",
   "id": "870ed6f5",
   "metadata": {},
   "source": [
    "If you have the Python plugin installed, you can set up the configuration of your tests by opening the Command Palette with `Ctrl`+`Shift`+`P` and typing “Python test”. You will see a range of options:"
   ]
  },
  {
   "cell_type": "markdown",
   "id": "571b4aca",
   "metadata": {},
   "source": [
    "<img src=\"images/getting-started-with-testing-in-python/vscode-test-capture.dfefa1d20789.PNG\" width=\"600px\">"
   ]
  },
  {
   "cell_type": "markdown",
   "id": "8dfb6c8c",
   "metadata": {},
   "source": [
    "Choose *Debug All Unit Tests*, and VSCode will then raise a prompt to configure the test framework. Click on the cog to select the test runner (`unittest`) and the home directory (`.`)."
   ]
  },
  {
   "cell_type": "markdown",
   "id": "22866724",
   "metadata": {},
   "source": [
    "Once this is set up, you will see the status of your tests at the bottom of the window, and you can quickly access the test logs and run the tests again by clicking on these icons:"
   ]
  },
  {
   "cell_type": "markdown",
   "id": "4d65a95a",
   "metadata": {},
   "source": [
    "<img src=\"images/getting-started-with-testing-in-python/vscode-test-results.951be75c3d3b.PNG\" width=\"600px\">"
   ]
  },
  {
   "cell_type": "markdown",
   "id": "1dd53c1a",
   "metadata": {},
   "source": [
    "This shows the tests are executing, but some of them are failing."
   ]
  },
  {
   "cell_type": "markdown",
   "id": "0b5b9401",
   "metadata": {},
   "source": [
    "<a class=\"anchor\" id=\"testing_for_web_frameworks_like_django_and_flask\"></a>\n",
    "\n",
    "## Testing for Web Frameworks Like Django and Flask"
   ]
  },
  {
   "cell_type": "markdown",
   "id": "92c553d9",
   "metadata": {},
   "source": [
    "If you’re writing tests for a web application using one of the popular frameworks like Django or Flask, there are some important differences in the way you write and run the tests."
   ]
  },
  {
   "cell_type": "markdown",
   "id": "ba4ab25d",
   "metadata": {},
   "source": [
    "<a class=\"anchor\" id=\"why_they’re_different_from_other_applications\"></a>\n",
    "\n",
    "### Why They’re Different From Other Applications"
   ]
  },
  {
   "cell_type": "markdown",
   "id": "5a51d1d6",
   "metadata": {},
   "source": [
    "Think of all the code you’re going to be testing in a web application. The routes, views, and models all require lots of imports and knowledge about the frameworks being used."
   ]
  },
  {
   "cell_type": "markdown",
   "id": "b445b9b6",
   "metadata": {},
   "source": [
    "This is similar to the car test at the beginning of the tutorial: you have to start up the car’s computer before you can run a simple test like checking the lights."
   ]
  },
  {
   "cell_type": "markdown",
   "id": "456024af",
   "metadata": {},
   "source": [
    "Django and Flask both make this easy for you by providing a test framework based on `unittest`. You can continue writing tests in the way you’ve been learning but execute them slightly differently."
   ]
  },
  {
   "cell_type": "markdown",
   "id": "148e64fc",
   "metadata": {},
   "source": [
    "<a class=\"anchor\" id=\"how_to_use_the_django_test_runner\"></a>\n",
    "\n",
    "### How to Use the Django Test Runner"
   ]
  },
  {
   "cell_type": "markdown",
   "id": "dd1b290a",
   "metadata": {},
   "source": [
    "The Django `startapp` template will have created a `tests.py` file inside your application directory. If you don’t have that already, you can create it with the following contents:"
   ]
  },
  {
   "cell_type": "code",
   "execution_count": null,
   "id": "f4ff2726",
   "metadata": {},
   "outputs": [],
   "source": [
    "from django.test import TestCase\n",
    "\n",
    "class MyTestCase(TestCase):\n",
    "    # Your test methods"
   ]
  },
  {
   "cell_type": "markdown",
   "id": "3e13f4f3",
   "metadata": {},
   "source": [
    "The major difference with the examples so far is that you need to inherit from the `django.test.TestCase` instead of `unittest.TestCase`. These classes have the same API, but the Django `TestCase` class sets up all the required state to test."
   ]
  },
  {
   "cell_type": "markdown",
   "id": "25e20cf6",
   "metadata": {},
   "source": [
    "To execute your test suite, instead of using `unittest` at the command line, you use `manage.py test`:"
   ]
  },
  {
   "cell_type": "markdown",
   "id": "d6a24e11",
   "metadata": {},
   "source": [
    "```sh\n",
    "$ python manage.py test\n",
    "```"
   ]
  },
  {
   "cell_type": "markdown",
   "id": "38390b89",
   "metadata": {},
   "source": [
    "If you want multiple test files, replace `tests.py` with a folder called `tests`, insert an empty file inside called `__init__.py`, and create your `test_*.py` files. Django will discover and execute these."
   ]
  },
  {
   "cell_type": "markdown",
   "id": "2b39677d",
   "metadata": {},
   "source": [
    "More information is available at the [Django Documentation Website](https://docs.djangoproject.com/en/2.1/topics/testing/overview/)."
   ]
  },
  {
   "cell_type": "markdown",
   "id": "94b4410b",
   "metadata": {},
   "source": [
    "<a class=\"anchor\" id=\"how_to_use_`unittest`_and_flask\"></a>\n",
    "\n",
    "### How to Use `unittest` and Flask"
   ]
  },
  {
   "cell_type": "markdown",
   "id": "6c50a4ea",
   "metadata": {},
   "source": [
    "Flask requires that the app be imported and then set in test mode. You can instantiate a test client and use the test client to make requests to any routes in your application."
   ]
  },
  {
   "cell_type": "markdown",
   "id": "cbd923d4",
   "metadata": {},
   "source": [
    "All of the test client instantiation is done in the `setUp` method of your test case. In the following example, `my_app` is the name of the application. Don’t worry if you don’t know what `setUp` does. You’ll learn about that in the [More Advanced Testing Scenarios](#more-advanced-testing-scenarios) section."
   ]
  },
  {
   "cell_type": "markdown",
   "id": "5849a070",
   "metadata": {},
   "source": [
    "The code within your test file should look like this:"
   ]
  },
  {
   "cell_type": "code",
   "execution_count": null,
   "id": "554a05dd",
   "metadata": {},
   "outputs": [],
   "source": [
    "import my_app\n",
    "import unittest"
   ]
  },
  {
   "cell_type": "code",
   "execution_count": null,
   "id": "37f60de9",
   "metadata": {},
   "outputs": [],
   "source": [
    "class MyTestCase(unittest.TestCase):\n",
    "\n",
    "    def setUp(self):\n",
    "        my_app.app.testing = True\n",
    "        self.app = my_app.app.test_client()\n",
    "\n",
    "    def test_home(self):\n",
    "        result = self.app.get('/')\n",
    "        # Make your assertions"
   ]
  },
  {
   "cell_type": "markdown",
   "id": "1a06e862",
   "metadata": {},
   "source": [
    "You can then execute the test cases using the `python -m unittest discover` command."
   ]
  },
  {
   "cell_type": "markdown",
   "id": "540a613e",
   "metadata": {},
   "source": [
    "More information is available at the [Flask Documentation Website](http://flask.pocoo.org/docs/0.12/testing/)."
   ]
  },
  {
   "cell_type": "markdown",
   "id": "885b8a06",
   "metadata": {},
   "source": [
    "<a class=\"anchor\" id=\"more_advanced_testing_scenarios\"></a>\n",
    "\n",
    "## More Advanced Testing Scenarios"
   ]
  },
  {
   "cell_type": "markdown",
   "id": "f675195b",
   "metadata": {},
   "source": [
    "Before you step into creating tests for your application, remember the three basic steps of every test:"
   ]
  },
  {
   "cell_type": "markdown",
   "id": "a5064bfd",
   "metadata": {},
   "source": [
    "1. Create your inputs\n",
    "2. Execute the code, capturing the output\n",
    "3. Compare the output with an expected result\n"
   ]
  },
  {
   "cell_type": "markdown",
   "id": "d12ded25",
   "metadata": {},
   "source": [
    "It’s not always as easy as creating a static value for the input like a string or a number. Sometimes, your application will require an instance of a class or a context. What do you do then?"
   ]
  },
  {
   "cell_type": "markdown",
   "id": "66c981b3",
   "metadata": {},
   "source": [
    "The data that you create as an input is known as a **fixture**. It’s common practice to create fixtures and reuse them."
   ]
  },
  {
   "cell_type": "markdown",
   "id": "14ef2e51",
   "metadata": {},
   "source": [
    "If you’re running the same test and passing different values each time and expecting the same result, this is known as **parameterization**."
   ]
  },
  {
   "cell_type": "markdown",
   "id": "c4a44fc4",
   "metadata": {},
   "source": [
    "<a class=\"anchor\" id=\"handling_expected_failures\"></a>\n",
    "\n",
    "### Handling Expected Failures"
   ]
  },
  {
   "cell_type": "markdown",
   "id": "ca120519",
   "metadata": {},
   "source": [
    "Earlier, when you made a list of scenarios to test `sum()`, a question came up:\n",
    "What happens when you provide it with a bad value, such as a single integer or a string?"
   ]
  },
  {
   "cell_type": "markdown",
   "id": "0ebe1f22",
   "metadata": {},
   "source": [
    "In this case, you would expect `sum()` to throw an error. When it does throw an error, that would cause the test to fail."
   ]
  },
  {
   "cell_type": "markdown",
   "id": "7bea54fc",
   "metadata": {},
   "source": [
    "There’s a special way to handle expected errors. You can use `.assertRaises()` as a context-manager, then inside the `with` block execute the test steps:"
   ]
  },
  {
   "cell_type": "code",
   "execution_count": null,
   "id": "ceeae2e7",
   "metadata": {},
   "outputs": [],
   "source": [
    "import unittest\n",
    "\n",
    "from my_sum import sum"
   ]
  },
  {
   "cell_type": "code",
   "execution_count": null,
   "id": "54e25880",
   "metadata": {},
   "outputs": [],
   "source": [
    "class TestSum(unittest.TestCase):\n",
    "    def test_list_int(self):\n",
    "        \"\"\"\n",
    "        Test that it can sum a list of integers\n",
    "        \"\"\"\n",
    "        data = [1, 2, 3]\n",
    "        result = sum(data)\n",
    "        self.assertEqual(result, 6)\n",
    "\n",
    "    def test_list_fraction(self):\n",
    "        \"\"\"\n",
    "        Test that it can sum a list of fractions\n",
    "        \"\"\"\n",
    "        data = [Fraction(1, 4), Fraction(1, 4), Fraction(2, 5)]\n",
    "        result = sum(data)\n",
    "        self.assertEqual(result, 1)\n",
    "\n",
    "    def test_bad_type(self):\n",
    "        data = \"banana\"\n",
    "        with self.assertRaises(TypeError):\n",
    "            result = sum(data)\n",
    "\n",
    "if __name__ == '__main__':\n",
    "    unittest.main()"
   ]
  },
  {
   "cell_type": "markdown",
   "id": "e5d1050b",
   "metadata": {},
   "source": [
    "This test case will now only pass if `sum(data)` raises a `TypeError`. You can replace `TypeError` with any exception type you choose."
   ]
  },
  {
   "cell_type": "markdown",
   "id": "ffdf14e0",
   "metadata": {},
   "source": [
    "<a class=\"anchor\" id=\"isolating_behaviors_in_your_application\"></a>\n",
    "\n",
    "### Isolating Behaviors in Your Application"
   ]
  },
  {
   "cell_type": "markdown",
   "id": "c8979cff",
   "metadata": {},
   "source": [
    "Earlier in the tutorial, you learned what a side effect is. Side effects make unit testing harder since, each time a test is run, it might give a different result, or even worse, one test could impact the state of the application and cause another test to fail! "
   ]
  },
  {
   "cell_type": "markdown",
   "id": "77150378",
   "metadata": {},
   "source": [
    "<img src=\"images/getting-started-with-testing-in-python/YXhT6fA.d277d5317026.gif\" width=\"600px\">"
   ]
  },
  {
   "cell_type": "markdown",
   "id": "d61bd2c8",
   "metadata": {},
   "source": [
    "There are some simple techniques you can use to test parts of your application that have many side effects:"
   ]
  },
  {
   "cell_type": "markdown",
   "id": "cefab1b9",
   "metadata": {},
   "source": [
    "- Refactoring code to follow the Single Responsibility Principle\n",
    "- Mocking out any method or function calls to remove side effects\n",
    "- Using integration testing instead of unit testing for this piece of the application\n"
   ]
  },
  {
   "cell_type": "markdown",
   "id": "be167c84",
   "metadata": {},
   "source": [
    "If you’re not familiar with mocking, see [Python CLI Testing](https://realpython.com/python-cli-testing/#mocks) for some great examples."
   ]
  },
  {
   "cell_type": "markdown",
   "id": "d89262c0",
   "metadata": {},
   "source": [
    "<a class=\"anchor\" id=\"writing_integration_tests\"></a>\n",
    "\n",
    "### Writing Integration Tests"
   ]
  },
  {
   "cell_type": "markdown",
   "id": "3dd74ab2",
   "metadata": {},
   "source": [
    "So far, you’ve been learning mainly about unit testing. Unit testing is a great way to build predictable and stable code. But at the end of the day, your application needs to work when it starts!"
   ]
  },
  {
   "cell_type": "markdown",
   "id": "2ea602eb",
   "metadata": {},
   "source": [
    "Integration testing is the testing of multiple components of the application to check that they work together. Integration testing might require acting like a consumer or user of the application by:"
   ]
  },
  {
   "cell_type": "markdown",
   "id": "84131227",
   "metadata": {},
   "source": [
    "- Calling an HTTP REST API\n",
    "- Calling a Python API\n",
    "- Calling a web service\n",
    "- Running a command line\n"
   ]
  },
  {
   "cell_type": "markdown",
   "id": "cc095e02",
   "metadata": {},
   "source": [
    "Each of these types of integration tests can be written in the same way as a unit test, following the Input, Execute, and Assert pattern. The most significant difference is that integration tests are checking more components at once and therefore will have more side effects than a unit test. Also, integration tests will require more fixtures to be in place, like a database, a network socket, or a configuration file."
   ]
  },
  {
   "cell_type": "markdown",
   "id": "390e793a",
   "metadata": {},
   "source": [
    "This is why it’s good practice to separate your unit tests and your integration tests. The creation of fixtures required for an integration like a test database and the test cases themselves often take a lot longer to execute than unit tests, so you may only want to run integration tests before you push to production instead of once on every commit."
   ]
  },
  {
   "cell_type": "markdown",
   "id": "96cbab16",
   "metadata": {},
   "source": [
    "A simple way to separate unit and integration tests is simply to put them in different folders:"
   ]
  },
  {
   "cell_type": "markdown",
   "id": "725a7f82",
   "metadata": {},
   "source": [
    "```\n",
    "project/\n",
    "│\n",
    "├── my_app/\n",
    "│   └── __init__.py\n",
    "│\n",
    "└── tests/\n",
    "    |\n",
    "    ├── unit/\n",
    "    |   ├── __init__.py\n",
    "    |   └── test_sum.py\n",
    "    |\n",
    "    └── integration/\n",
    "        ├── __init__.py\n",
    "        └── test_integration.py\n",
    "```"
   ]
  },
  {
   "cell_type": "markdown",
   "id": "173f7bbf",
   "metadata": {},
   "source": [
    "There are many ways to execute only a select group of tests. The specify source directory flag, `-s`, can be added to `unittest discover` with the path containing the tests:"
   ]
  },
  {
   "cell_type": "markdown",
   "id": "762d6952",
   "metadata": {},
   "source": [
    "```sh\n",
    "$ python -m unittest discover -s tests/integration\n",
    "```"
   ]
  },
  {
   "cell_type": "markdown",
   "id": "46407299",
   "metadata": {},
   "source": [
    "`unittest` will have given you the results of all the tests within the `tests/integration` directory."
   ]
  },
  {
   "cell_type": "markdown",
   "id": "a29a3b33",
   "metadata": {},
   "source": [
    "<a class=\"anchor\" id=\"testing_data-driven_applications\"></a>\n",
    "\n",
    "### Testing Data-Driven Applications"
   ]
  },
  {
   "cell_type": "markdown",
   "id": "c6263b65",
   "metadata": {},
   "source": [
    "Many integration tests will require backend data like a database to exist with certain values. For example, you might want to have a test that checks that the application displays correctly with more than 100 customers in the database, or the order page works even if the product names are displayed in Japanese."
   ]
  },
  {
   "cell_type": "markdown",
   "id": "18776d45",
   "metadata": {},
   "source": [
    "These types of integration tests will depend on different test fixtures to make sure they are repeatable and predictable."
   ]
  },
  {
   "cell_type": "markdown",
   "id": "aedf7a5c",
   "metadata": {},
   "source": [
    "A good technique to use is to store the test data in a folder within your integration testing folder called `fixtures` to indicate that it contains test data. Then, within your tests, you can load the data and run the test. "
   ]
  },
  {
   "cell_type": "markdown",
   "id": "de1a3be7",
   "metadata": {},
   "source": [
    "Here’s an example of that structure if the data consisted of JSON files:"
   ]
  },
  {
   "cell_type": "markdown",
   "id": "225de698",
   "metadata": {},
   "source": [
    "```\n",
    "project/\n",
    "│\n",
    "├── my_app/\n",
    "│   └── __init__.py\n",
    "│\n",
    "└── tests/\n",
    "    |\n",
    "    └── unit/\n",
    "    |   ├── __init__.py\n",
    "    |   └── test_sum.py\n",
    "    |\n",
    "    └── integration/\n",
    "        |\n",
    "        ├── fixtures/\n",
    "        |   ├── test_basic.json\n",
    "        |   └── test_complex.json\n",
    "        |\n",
    "        ├── __init__.py\n",
    "        └── test_integration.py\n",
    "```"
   ]
  },
  {
   "cell_type": "markdown",
   "id": "c4b70cc0",
   "metadata": {},
   "source": [
    "Within your test case, you can use the `.setUp()` method to load the test data from a fixture file in a known path and execute many tests against that test data. Remember you can have multiple test cases in a single Python file, and the `unittest` discovery will execute both. You can have one test case for each set of test data:"
   ]
  },
  {
   "cell_type": "code",
   "execution_count": null,
   "id": "8fcf1fcb",
   "metadata": {},
   "outputs": [],
   "source": [
    "import unittest"
   ]
  },
  {
   "cell_type": "code",
   "execution_count": null,
   "id": "48f58598",
   "metadata": {},
   "outputs": [],
   "source": [
    "class TestBasic(unittest.TestCase):\n",
    "    def setUp(self):\n",
    "        # Load test data\n",
    "        self.app = App(database='fixtures/test_basic.json')\n",
    "\n",
    "    def test_customer_count(self):\n",
    "        self.assertEqual(len(self.app.customers), 100)\n",
    "\n",
    "    def test_existence_of_customer(self):\n",
    "        customer = self.app.get_customer(id=10)\n",
    "        self.assertEqual(customer.name, \"Org XYZ\")\n",
    "        self.assertEqual(customer.address, \"10 Red Road, Reading\")"
   ]
  },
  {
   "cell_type": "code",
   "execution_count": null,
   "id": "3d3686ba",
   "metadata": {},
   "outputs": [],
   "source": [
    "class TestComplexData(unittest.TestCase):\n",
    "    def setUp(self):\n",
    "        # load test data\n",
    "        self.app = App(database='fixtures/test_complex.json')\n",
    "\n",
    "    def test_customer_count(self):\n",
    "        self.assertEqual(len(self.app.customers), 10000)\n",
    "\n",
    "    def test_existence_of_customer(self):\n",
    "        customer = self.app.get_customer(id=9999)\n",
    "        self.assertEqual(customer.name, u\"バナナ\")\n",
    "        self.assertEqual(customer.address, \"10 Red Road, Akihabara, Tokyo\")\n",
    "\n",
    "if __name__ == '__main__':\n",
    "    unittest.main()"
   ]
  },
  {
   "cell_type": "markdown",
   "id": "d132e26e",
   "metadata": {},
   "source": [
    "If your application depends on data from a remote location, like a [remote API](https://realpython.com/python-api/), you’ll want to ensure your tests are repeatable. Having your tests fail because the API is offline or there is a connectivity issue could slow down development. In these types of situations, it is best practice to store remote fixtures locally so they can be recalled and sent to the application. "
   ]
  },
  {
   "cell_type": "markdown",
   "id": "fc5a2785",
   "metadata": {},
   "source": [
    "The `requests` library has a complimentary package called `responses` that gives you ways to create response fixtures and save them in your test folders. Find out more [on their GitHub Page](https://github.com/getsentry/responses)."
   ]
  },
  {
   "cell_type": "markdown",
   "id": "52686f70",
   "metadata": {},
   "source": [
    "<a class=\"anchor\" id=\"testing_in_multiple_environments\"></a>\n",
    "\n",
    "## Testing in Multiple Environments"
   ]
  },
  {
   "cell_type": "markdown",
   "id": "a76d347a",
   "metadata": {},
   "source": [
    "So far, you’ve been testing against a single version of Python using a virtual environment with a specific set of dependencies. You might want to check that your application works on multiple versions of Python, or multiple versions of a package. Tox is an application that automates testing in multiple environments."
   ]
  },
  {
   "cell_type": "markdown",
   "id": "ddffc380",
   "metadata": {},
   "source": [
    "<a class=\"anchor\" id=\"installing_tox\"></a>\n",
    "\n",
    "### Installing Tox"
   ]
  },
  {
   "cell_type": "markdown",
   "id": "e7558dc0",
   "metadata": {},
   "source": [
    "Tox is available on PyPI as a package to install via [`pip`](https://realpython.com/what-is-pip/):"
   ]
  },
  {
   "cell_type": "markdown",
   "id": "16a9c5b0",
   "metadata": {},
   "source": [
    "```sh\n",
    "$ pip install tox\n",
    "```"
   ]
  },
  {
   "cell_type": "markdown",
   "id": "b7ff5c54",
   "metadata": {},
   "source": [
    "Now that you have Tox installed, it needs to be configured."
   ]
  },
  {
   "cell_type": "markdown",
   "id": "15dd492e",
   "metadata": {},
   "source": [
    "<a class=\"anchor\" id=\"configuring_tox_for_your_dependencies\"></a>\n",
    "\n",
    "### Configuring Tox for Your Dependencies"
   ]
  },
  {
   "cell_type": "markdown",
   "id": "e8f0ab49",
   "metadata": {},
   "source": [
    "Tox is configured via a configuration file in your project directory. The Tox configuration file contains the following:"
   ]
  },
  {
   "cell_type": "markdown",
   "id": "9180f215",
   "metadata": {},
   "source": [
    "- The command to run in order to execute tests\n",
    "- Any additional packages required before executing\n",
    "- The target Python versions to test against\n"
   ]
  },
  {
   "cell_type": "markdown",
   "id": "38f51c83",
   "metadata": {},
   "source": [
    "Instead of having to learn the Tox configuration syntax, you can get a head start by running the quickstart application:"
   ]
  },
  {
   "cell_type": "markdown",
   "id": "668eaff3",
   "metadata": {},
   "source": [
    "```sh\n",
    "$ tox-quickstart\n",
    "```"
   ]
  },
  {
   "cell_type": "markdown",
   "id": "db8af7c3",
   "metadata": {},
   "source": [
    "The Tox configuration tool will ask you those questions and create a file similar to the following in `tox.ini`:"
   ]
  },
  {
   "cell_type": "markdown",
   "id": "0cb09b16",
   "metadata": {},
   "source": [
    "```ini\n",
    "[tox]\n",
    "envlist = py27, py36\n",
    "\n",
    "[testenv]\n",
    "deps =\n",
    "\n",
    "commands =\n",
    "    python -m unittest discover\n",
    "```"
   ]
  },
  {
   "cell_type": "markdown",
   "id": "7f9fd626",
   "metadata": {},
   "source": [
    "Before you can run Tox, it requires that you have a `setup.py` file in your application folder containing the steps to install your package. If you don’t have one, you can follow [this guide](https://packaging.python.org/tutorials/packaging-projects/#setup-py) on how to create a `setup.py` before you continue."
   ]
  },
  {
   "cell_type": "markdown",
   "id": "2bda5f31",
   "metadata": {},
   "source": [
    "Alternatively, if your project is not for distribution on PyPI, you can skip this requirement by adding the following line in the `tox.ini` file under the `[tox]` heading:"
   ]
  },
  {
   "cell_type": "markdown",
   "id": "5411e4a3",
   "metadata": {},
   "source": [
    "```ini\n",
    "[tox]\n",
    "envlist = py27, py36\n",
    "skipsdist=True\n",
    "```"
   ]
  },
  {
   "cell_type": "markdown",
   "id": "6ccaf719",
   "metadata": {},
   "source": [
    "If you don’t create a `setup.py`, and your application has some dependencies from PyPI, you’ll need to specify those on a number of lines under the `[testenv]` section. For example, Django would require the following:"
   ]
  },
  {
   "cell_type": "markdown",
   "id": "ec8cfa70",
   "metadata": {},
   "source": [
    "```ini\n",
    "[testenv]\n",
    "deps = django\n",
    "```"
   ]
  },
  {
   "cell_type": "markdown",
   "id": "fcf71e0f",
   "metadata": {},
   "source": [
    "Once you have completed that stage, you’re ready to run the tests."
   ]
  },
  {
   "cell_type": "markdown",
   "id": "216a791a",
   "metadata": {},
   "source": [
    "You can now execute Tox, and it will create two virtual environments: one for Python 2.7 and one for Python 3.6. The Tox directory is called `.tox/`. Within the `.tox/` directory, Tox will execute `python -m unittest discover` against each virtual environment."
   ]
  },
  {
   "cell_type": "markdown",
   "id": "c8d972a9",
   "metadata": {},
   "source": [
    "You can run this process by calling Tox at the command line:"
   ]
  },
  {
   "cell_type": "markdown",
   "id": "a5cd212b",
   "metadata": {},
   "source": [
    "```sh\n",
    "$ tox\n",
    "```"
   ]
  },
  {
   "cell_type": "markdown",
   "id": "025cc977",
   "metadata": {},
   "source": [
    "Tox will output the results of your tests against each environment. The first time it runs, Tox takes a little bit of time to create the virtual environments, but once it has, the second execution will be a lot faster."
   ]
  },
  {
   "cell_type": "markdown",
   "id": "626c2598",
   "metadata": {},
   "source": [
    "<a class=\"anchor\" id=\"executing_tox\"></a>\n",
    "\n",
    "### Executing Tox"
   ]
  },
  {
   "cell_type": "markdown",
   "id": "4bf79f0d",
   "metadata": {},
   "source": [
    "The output of Tox is quite straightforward. It creates an environment for each version, installs your dependencies, and then runs the test commands."
   ]
  },
  {
   "cell_type": "markdown",
   "id": "af70d2f0",
   "metadata": {},
   "source": [
    "There are some additional command line options that are great to remember."
   ]
  },
  {
   "cell_type": "markdown",
   "id": "8680a147",
   "metadata": {},
   "source": [
    "Run only a single environment, such as Python 3.6:"
   ]
  },
  {
   "cell_type": "markdown",
   "id": "acc1b1e6",
   "metadata": {},
   "source": [
    "```sh\n",
    "$ tox -e py36\n",
    "```"
   ]
  },
  {
   "cell_type": "markdown",
   "id": "837b29a3",
   "metadata": {},
   "source": [
    "Recreate the virtual environments, in case your dependencies have changed or [site-packages](https://docs.python.org/3/install/#how-installation-works) is corrupt:"
   ]
  },
  {
   "cell_type": "markdown",
   "id": "60b48cc6",
   "metadata": {},
   "source": [
    "```sh\n",
    "$ tox -r\n",
    "```"
   ]
  },
  {
   "cell_type": "markdown",
   "id": "99f43165",
   "metadata": {},
   "source": [
    "Run Tox with less verbose output:"
   ]
  },
  {
   "cell_type": "markdown",
   "id": "c26dbf55",
   "metadata": {},
   "source": [
    "```sh\n",
    "$ tox -q\n",
    "```"
   ]
  },
  {
   "cell_type": "markdown",
   "id": "284cca99",
   "metadata": {},
   "source": [
    "Running Tox with more verbose output:"
   ]
  },
  {
   "cell_type": "markdown",
   "id": "5f97c1c9",
   "metadata": {},
   "source": [
    "```sh\n",
    "$ tox -v\n",
    "```"
   ]
  },
  {
   "cell_type": "markdown",
   "id": "ccaeabc8",
   "metadata": {},
   "source": [
    "More information on Tox can be found at the [Tox Documentation Website](https://tox.readthedocs.io/en/latest/)."
   ]
  },
  {
   "cell_type": "markdown",
   "id": "e26780e8",
   "metadata": {},
   "source": [
    "<a class=\"anchor\" id=\"automating_the_execution_of_your_tests\"></a>\n",
    "\n",
    "## Automating the Execution of Your Tests"
   ]
  },
  {
   "cell_type": "markdown",
   "id": "1da07eb0",
   "metadata": {},
   "source": [
    "So far, you have been executing the tests manually by running a command. There are some tools for executing tests automatically when you make changes and commit them to a source-control repository like Git. Automated testing tools are often known as CI/CD tools, which stands for “Continuous Integration/Continuous Deployment.” They can run your tests, compile and publish any applications, and even deploy them into production."
   ]
  },
  {
   "cell_type": "markdown",
   "id": "71bc13f1",
   "metadata": {},
   "source": [
    "[Travis CI](https://travis-ci.com/) is one of many available CI ([Continuous Integration](https://realpython.com/python-continuous-integration/)) services available."
   ]
  },
  {
   "cell_type": "markdown",
   "id": "de40a7b0",
   "metadata": {},
   "source": [
    "Travis CI works nicely with Python, and now that you’ve created all these tests, you can automate the execution of them in the cloud! Travis CI is free for any open-source projects on GitHub and GitLab and is available for a charge for private projects."
   ]
  },
  {
   "cell_type": "markdown",
   "id": "b806bafd",
   "metadata": {},
   "source": [
    "To get started, login to the website and authenticate with your GitHub or GitLab credentials. Then create a file called `.travis.yml` with the following contents:"
   ]
  },
  {
   "cell_type": "markdown",
   "id": "929e5808",
   "metadata": {},
   "source": [
    "```yaml\n",
    "language: python\n",
    "python:\n",
    "  - \"2.7\"\n",
    "  - \"3.7\"\n",
    "install:\n",
    "  - pip install -r requirements.txt\n",
    "script:\n",
    "  - python -m unittest discover\n",
    "```"
   ]
  },
  {
   "cell_type": "markdown",
   "id": "852aad51",
   "metadata": {},
   "source": [
    "This configuration instructs Travis CI to:"
   ]
  },
  {
   "cell_type": "markdown",
   "id": "1e8d8a11",
   "metadata": {},
   "source": [
    "1. Test against Python 2.7 and 3.7 (You can replace those versions with any you choose.)\n",
    "2. Install all the packages you list in `requirements.txt` (You should remove this section if you don’t have any dependencies.)\n",
    "3. Run `python -m unittest discover` to run the tests\n"
   ]
  },
  {
   "cell_type": "markdown",
   "id": "54ebb76e",
   "metadata": {},
   "source": [
    "Once you have committed and pushed this file, Travis CI will run these commands every time you push to your remote Git repository. You can check out the results on their website."
   ]
  },
  {
   "cell_type": "markdown",
   "id": "60015697",
   "metadata": {},
   "source": [
    "<a class=\"anchor\" id=\"what’s_next\"></a>\n",
    "\n",
    "## What’s Next"
   ]
  },
  {
   "cell_type": "markdown",
   "id": "29c08238",
   "metadata": {},
   "source": [
    "Now that you’ve learned how to create tests, execute them, include them in your project, and even execute them automatically, there are a few advanced techniques you might find handy as your test library grows."
   ]
  },
  {
   "cell_type": "markdown",
   "id": "aacb3bf7",
   "metadata": {},
   "source": [
    "<a class=\"anchor\" id=\"introducing_linters_into_your_application\"></a>\n",
    "\n",
    "### Introducing Linters Into Your Application"
   ]
  },
  {
   "cell_type": "markdown",
   "id": "b9b4c834",
   "metadata": {},
   "source": [
    "Tox and Travis CI have configuration for a test command. The test command you have been using throughout this tutorial is `python -m unittest discover`. "
   ]
  },
  {
   "cell_type": "markdown",
   "id": "ca266749",
   "metadata": {},
   "source": [
    "You can provide one or many commands in all of these tools, and this option is there to enable you to add more tools that improve the quality of your application."
   ]
  },
  {
   "cell_type": "markdown",
   "id": "9e56c52b",
   "metadata": {},
   "source": [
    "One such type of application is called a linter. A linter will look at your code and comment on it. It could give you tips about mistakes you’ve made, correct trailing spaces, and even predict bugs you may have introduced."
   ]
  },
  {
   "cell_type": "markdown",
   "id": "8783134b",
   "metadata": {},
   "source": [
    "For more information on linters, read the [Python Code Quality tutorial](https://realpython.com/python-code-quality/)."
   ]
  },
  {
   "cell_type": "markdown",
   "id": "c818afb4",
   "metadata": {},
   "source": [
    "<a class=\"anchor\" id=\"passive_linting_with_`flake8`\"></a>\n",
    "\n",
    "#### Passive Linting With `flake8`"
   ]
  },
  {
   "cell_type": "markdown",
   "id": "954fbb0e",
   "metadata": {},
   "source": [
    "A popular linter that comments on the style of your code in relation to the [PEP 8](https://www.youtube.com/watch?v=Hwckt4J96dI) specification is `flake8`."
   ]
  },
  {
   "cell_type": "markdown",
   "id": "1c08f6bb",
   "metadata": {},
   "source": [
    "You can install `flake8` using `pip`:"
   ]
  },
  {
   "cell_type": "markdown",
   "id": "ac27ec42",
   "metadata": {},
   "source": [
    "```sh\n",
    "$ pip install flake8\n",
    "```"
   ]
  },
  {
   "cell_type": "markdown",
   "id": "612a3f05",
   "metadata": {},
   "source": [
    "You can then run `flake8` over a single file, a folder, or a pattern:"
   ]
  },
  {
   "cell_type": "markdown",
   "id": "ec9c2e46",
   "metadata": {},
   "source": [
    "```sh\n",
    "$ flake8 test.py\n",
    "test.py:6:1: E302 expected 2 blank lines, found 1\n",
    "test.py:23:1: E305 expected 2 blank lines after class or function definition, found 1\n",
    "test.py:24:20: W292 no newline at end of file\n",
    "```"
   ]
  },
  {
   "cell_type": "markdown",
   "id": "4b00ef09",
   "metadata": {},
   "source": [
    "You will see a list of errors and warnings for your code that `flake8` has found."
   ]
  },
  {
   "cell_type": "markdown",
   "id": "92ac5aba",
   "metadata": {},
   "source": [
    "`flake8` is configurable on the command line or inside a configuration file in your project. If you wanted to ignore certain rules, like `E305` shown above, you can set them in the configuration. `flake8` will inspect a `.flake8` file in the project folder or a `setup.cfg` file. If you decided to use Tox, you can put the `flake8` configuration section inside `tox.ini`."
   ]
  },
  {
   "cell_type": "markdown",
   "id": "d29ecd02",
   "metadata": {},
   "source": [
    "This example ignores the `.git` and `__pycache__` directories as well as the `E305` rule. Also, it sets the max line length to 90 instead of 80 characters. You will likely find that the default constraint of 79 characters for line-width is very limiting for tests, as they contain long method names, string literals with test values, and other pieces of data that can be longer. It is common to set the line length for tests to up to 120 characters:"
   ]
  },
  {
   "cell_type": "markdown",
   "id": "90abafcc",
   "metadata": {},
   "source": [
    "```ini\n",
    "[flake8]\n",
    "ignore = E305\n",
    "exclude = .git,__pycache__\n",
    "max-line-length = 90\n",
    "```"
   ]
  },
  {
   "cell_type": "markdown",
   "id": "e5149d5d",
   "metadata": {},
   "source": [
    "Alternatively, you can provide these options on the command line: "
   ]
  },
  {
   "cell_type": "markdown",
   "id": "237785d2",
   "metadata": {},
   "source": [
    "```sh\n",
    "$ flake8 --ignore E305 --exclude .git,__pycache__ --max-line-length=90\n",
    "```"
   ]
  },
  {
   "cell_type": "markdown",
   "id": "6a6618e0",
   "metadata": {},
   "source": [
    "A full list of configuration options is available on the [Documentation Website](http://flake8.pycqa.org/en/latest/user/options.html)."
   ]
  },
  {
   "cell_type": "markdown",
   "id": "0f0c7bd6",
   "metadata": {},
   "source": [
    "You can now add `flake8` to your CI configuration. For Travis CI, this would look as follows:"
   ]
  },
  {
   "cell_type": "markdown",
   "id": "671ea600",
   "metadata": {},
   "source": [
    "```yaml\n",
    "matrix:\n",
    "  include:\n",
    "    - python: \"2.7\"\n",
    "      script: \"flake8\"\n",
    "```"
   ]
  },
  {
   "cell_type": "markdown",
   "id": "da380163",
   "metadata": {},
   "source": [
    "Travis will read the configuration in `.flake8` and fail the build if any linting errors occur. Be sure to add the `flake8` dependency to your `requirements.txt` file."
   ]
  },
  {
   "cell_type": "markdown",
   "id": "42a1b842",
   "metadata": {},
   "source": [
    "<a class=\"anchor\" id=\"aggressive_linting_with_a_code_formatter\"></a>\n",
    "\n",
    "#### Aggressive Linting With a Code Formatter"
   ]
  },
  {
   "cell_type": "markdown",
   "id": "4e0c2573",
   "metadata": {},
   "source": [
    "`flake8` is a passive linter: it recommends changes, but you have to go and change the code. A more aggressive approach is a code formatter. Code formatters will change your code automatically to meet a collection of style and layout practices."
   ]
  },
  {
   "cell_type": "markdown",
   "id": "3caf66ce",
   "metadata": {},
   "source": [
    "`black` is a very unforgiving formatter. It doesn’t have any configuration options, and it has a very specific style. This makes it great as a drop-in tool to put in your test pipeline."
   ]
  },
  {
   "cell_type": "markdown",
   "id": "2324ae86",
   "metadata": {},
   "source": [
    "You can install `black` via pip:"
   ]
  },
  {
   "cell_type": "markdown",
   "id": "ac369add",
   "metadata": {},
   "source": [
    "```sh\n",
    "$ pip install black\n",
    "```"
   ]
  },
  {
   "cell_type": "markdown",
   "id": "5ac7bf44",
   "metadata": {},
   "source": [
    "Then to run `black` at the command line, provide the file or directory you want to format:"
   ]
  },
  {
   "cell_type": "markdown",
   "id": "5f36e06e",
   "metadata": {},
   "source": [
    "```sh\n",
    "$ black test.py\n",
    "```"
   ]
  },
  {
   "cell_type": "markdown",
   "id": "4ec66823",
   "metadata": {},
   "source": [
    "<a class=\"anchor\" id=\"keeping_your_test_code_clean\"></a>\n",
    "\n",
    "### Keeping Your Test Code Clean"
   ]
  },
  {
   "cell_type": "markdown",
   "id": "49526158",
   "metadata": {},
   "source": [
    "When writing tests, you may find that you end up copying and pasting code a lot more than you would in regular applications. Tests can be very repetitive at times, but that is by no means a reason to leave your code sloppy and hard to maintain. "
   ]
  },
  {
   "cell_type": "markdown",
   "id": "59b5ae16",
   "metadata": {},
   "source": [
    "Over time, you will develop a lot of [technical debt](https://martinfowler.com/bliki/TechnicalDebt.html) in your test code, and if you have significant changes to your application that require changes to your tests, it can be a more cumbersome task than necessary because of the way you structured them."
   ]
  },
  {
   "cell_type": "markdown",
   "id": "0567270b",
   "metadata": {},
   "source": [
    "Try to follow the **DRY** principle when writing tests: **D**on’t **R**epeat **Y**ourself."
   ]
  },
  {
   "cell_type": "markdown",
   "id": "19017cb4",
   "metadata": {},
   "source": [
    "Test fixtures and functions are a great way to produce test code that is easier to maintain. Also, readability counts. Consider deploying a linting tool like `flake8` over your test code:"
   ]
  },
  {
   "cell_type": "markdown",
   "id": "8f40b513",
   "metadata": {},
   "source": [
    "```sh\n",
    "$ flake8 --max-line-length=120 tests/\n",
    "```"
   ]
  },
  {
   "cell_type": "markdown",
   "id": "33f86619",
   "metadata": {},
   "source": [
    "<a class=\"anchor\" id=\"testing_for_performance_degradation_between_changes\"></a>\n",
    "\n",
    "### Testing for Performance Degradation Between Changes"
   ]
  },
  {
   "cell_type": "markdown",
   "id": "1b1fdfb5",
   "metadata": {},
   "source": [
    "There are many ways to benchmark code in Python. The standard library provides the `timeit` module, which can time functions a number of times and give you the distribution. This example will execute `test()` 100 times and `print()` the output:"
   ]
  },
  {
   "cell_type": "code",
   "execution_count": null,
   "id": "02252afa",
   "metadata": {},
   "outputs": [],
   "source": [
    "def test():\n",
    "    # ... your code\n",
    "\n",
    "if __name__ == '__main__':\n",
    "    import timeit\n",
    "    print(timeit.timeit(\"test()\", setup=\"from __main__ import test\", number=100))"
   ]
  },
  {
   "cell_type": "markdown",
   "id": "f9772f29",
   "metadata": {},
   "source": [
    "Another option, if you decided to use `pytest` as a test runner, is the `pytest-benchmark` plugin. This provides a `pytest` fixture called `benchmark`. You can pass `benchmark()` any callable, and it will log the timing of the callable to the results of `pytest`."
   ]
  },
  {
   "cell_type": "markdown",
   "id": "14615561",
   "metadata": {},
   "source": [
    "You can install `pytest-benchmark` from PyPI using `pip`:"
   ]
  },
  {
   "cell_type": "markdown",
   "id": "eb1823e9",
   "metadata": {},
   "source": [
    "```sh\n",
    "$ pip install pytest-benchmark\n",
    "```"
   ]
  },
  {
   "cell_type": "markdown",
   "id": "7d162eff",
   "metadata": {},
   "source": [
    "Then, you can add a test that uses the fixture and passes the callable to be executed:"
   ]
  },
  {
   "cell_type": "code",
   "execution_count": null,
   "id": "0c492c05",
   "metadata": {},
   "outputs": [],
   "source": [
    "def test_my_function(benchmark):\n",
    "    result = benchmark(test)"
   ]
  },
  {
   "cell_type": "markdown",
   "id": "3d65be74",
   "metadata": {},
   "source": [
    "Execution of `pytest` will now give you benchmark results:"
   ]
  },
  {
   "cell_type": "markdown",
   "id": "4158dc59",
   "metadata": {},
   "source": [
    "<img src=\"images/getting-started-with-testing-in-python/pytest-bench-screen.6d83bffe8e21.png\" width=\"600px\">"
   ]
  },
  {
   "cell_type": "markdown",
   "id": "b5542e58",
   "metadata": {},
   "source": [
    "More information is available at the [Documentation Website](https://pytest-benchmark.readthedocs.io/en/latest/)."
   ]
  },
  {
   "cell_type": "markdown",
   "id": "5983f433",
   "metadata": {},
   "source": [
    "<a class=\"anchor\" id=\"testing_for_security_flaws_in_your_application\"></a>\n",
    "\n",
    "### Testing for Security Flaws in Your Application"
   ]
  },
  {
   "cell_type": "markdown",
   "id": "5ef0c9f7",
   "metadata": {},
   "source": [
    "Another test you will want to run on your application is checking for common security mistakes or vulnerabilities. "
   ]
  },
  {
   "cell_type": "markdown",
   "id": "90d07316",
   "metadata": {},
   "source": [
    "You can install `bandit` from PyPI using `pip`:"
   ]
  },
  {
   "cell_type": "markdown",
   "id": "1708b859",
   "metadata": {},
   "source": [
    "```sh\n",
    "$ pip install bandit\n",
    "```"
   ]
  },
  {
   "cell_type": "markdown",
   "id": "5f843d5e",
   "metadata": {},
   "source": [
    "You can then pass the name of your application module with the `-r` flag, and it will give you a summary:"
   ]
  },
  {
   "cell_type": "markdown",
   "id": "30ceaf25",
   "metadata": {},
   "source": [
    "```sh\n",
    "$ bandit -r my_sum\n",
    "[main]  INFO    profile include tests: None\n",
    "[main]  INFO    profile exclude tests: None\n",
    "[main]  INFO    cli include tests: None\n",
    "[main]  INFO    cli exclude tests: None\n",
    "[main]  INFO    running on Python 3.5.2\n",
    "Run started:2018-10-08 00:35:02.669550\n",
    "\n",
    "Test results:\n",
    "        No issues identified.\n",
    "\n",
    "Code scanned:\n",
    "        Total lines of code: 5\n",
    "        Total lines skipped (#nosec): 0\n",
    "\n",
    "Run metrics:\n",
    "        Total issues (by severity):\n",
    "                Undefined: 0.0\n",
    "                Low: 0.0\n",
    "                Medium: 0.0\n",
    "                High: 0.0\n",
    "        Total issues (by confidence):\n",
    "                Undefined: 0.0\n",
    "                Low: 0.0\n",
    "                Medium: 0.0\n",
    "                High: 0.0\n",
    "Files skipped (0):\n",
    "```"
   ]
  },
  {
   "cell_type": "markdown",
   "id": "379e9501",
   "metadata": {},
   "source": [
    "As with `flake8`, the rules that `bandit` flags are configurable, and if there are any you wish to ignore, you can add the following section to your `setup.cfg` file with the options:"
   ]
  },
  {
   "cell_type": "markdown",
   "id": "ab0faabd",
   "metadata": {},
   "source": [
    "```ini\n",
    "[bandit]\n",
    "exclude: /test\n",
    "tests: B101,B102,B301\n",
    "```"
   ]
  },
  {
   "cell_type": "markdown",
   "id": "d3f81927",
   "metadata": {},
   "source": [
    "More details are available at the [GitHub Website](https://github.com/PyCQA/bandit)."
   ]
  },
  {
   "cell_type": "markdown",
   "id": "23ed2411",
   "metadata": {},
   "source": [
    "<a class=\"anchor\" id=\"conclusion\"></a>\n",
    "\n",
    "## Conclusion"
   ]
  },
  {
   "cell_type": "markdown",
   "id": "afd7ba03",
   "metadata": {},
   "source": [
    "Python has made testing accessible by building in the commands and libraries you need to validate that your applications work as designed. Getting started with testing in Python needn’t be complicated: you can use `unittest` and write small, maintainable methods to validate your code."
   ]
  },
  {
   "cell_type": "markdown",
   "id": "c5b1c37e",
   "metadata": {},
   "source": [
    "As you learn more about testing and your application grows, you can consider switching to one of the other test frameworks, like `pytest`, and start to leverage more advanced features."
   ]
  },
  {
   "cell_type": "markdown",
   "id": "e84df22d",
   "metadata": {},
   "source": [
    "Thank you for reading. I hope you have a bug-free future with Python!"
   ]
  }
 ],
 "metadata": {
  "kernelspec": {
   "display_name": "Python 3 (ipykernel)",
   "language": "python",
   "name": "python3"
  },
  "language_info": {
   "codemirror_mode": {
    "name": "ipython",
    "version": 3
   },
   "file_extension": ".py",
   "mimetype": "text/x-python",
   "name": "python",
   "nbconvert_exporter": "python",
   "pygments_lexer": "ipython3",
   "version": "3.7.10"
  }
 },
 "nbformat": 4,
 "nbformat_minor": 5
}
